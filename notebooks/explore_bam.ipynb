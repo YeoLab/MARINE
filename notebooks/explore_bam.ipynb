{
 "cells": [
  {
   "cell_type": "code",
   "execution_count": 1,
   "id": "834c9266-dd67-464d-b30d-eb56aee77724",
   "metadata": {},
   "outputs": [],
   "source": [
    "import pysam"
   ]
  },
  {
   "cell_type": "code",
   "execution_count": 15,
   "id": "fba3a6f1-60ab-4ec3-9f17-a59ab8d4bbed",
   "metadata": {},
   "outputs": [],
   "source": [
    "bampath = '/projects/ps-yeolab5/ekofman/Sammi/MouseBrainEF1A_SingleCell_EPR_batch2/filtered_possorted_ms_hippo_stamp_bam/filtered_keep_xf25_possorted_genome_with_header.bam_MD.bam'\n"
   ]
  },
  {
   "cell_type": "code",
   "execution_count": 16,
   "id": "6c2899e1-6cbd-48bd-b255-197b8aa1437e",
   "metadata": {},
   "outputs": [],
   "source": [
    "samfile = pysam.AlignmentFile(bampath, \"rb\")"
   ]
  },
  {
   "cell_type": "code",
   "execution_count": 55,
   "id": "6f706672-3eeb-426c-b4e7-c403e506b10f",
   "metadata": {},
   "outputs": [
    {
     "data": {
      "text/plain": [
       "'GCAATT'"
      ]
     },
     "execution_count": 55,
     "metadata": {},
     "output_type": "execute_result"
    }
   ],
   "source": [
    "complements = {\n",
    "    'A': 'T',\n",
    "    'C': 'G',\n",
    "    'G': 'C',\n",
    "    'T': 'A'\n",
    "}\n",
    "\n",
    "def reverse_complement(input_seq):\n",
    "    rev_input_seq = reversed(input_seq)\n",
    "    new_seq = []\n",
    "    for r in rev_input_seq:\n",
    "        new_seq.append(complements.get(r))\n",
    "        \n",
    "    return ''.join(new_seq)\n",
    "\n",
    "reverse_complement(\"AATTGC\")"
   ]
  },
  {
   "cell_type": "code",
   "execution_count": 97,
   "id": "b1379206-c6f8-48fe-83b4-a8010d9eb904",
   "metadata": {},
   "outputs": [
    {
     "name": "stdout",
     "output_type": "stream",
     "text": [
      "MD tag 14G3G25G2G26C24\n",
      "18M2I81M\n",
      "[(0, 18), (1, 2), (0, 81)]\n",
      "Reverse? True\n",
      "Forward aligned sequence\n",
      " ttattttagttcctTaaaTttttttttctggactacataagtgaTgtGaaaaagaattaagtggttagaacatgTaatttccacccatcaactatgtgtAt\n",
      "Reference sequence\n",
      " ttattttagttcctgaaagttttttctggactacataagtgatgggagaaagaattaagtggttagaacatgtactttccacccatcaactatgtgtat\n",
      "barcode CAGCACGGTTCCTAAG\n",
      "\n"
     ]
    }
   ],
   "source": [
    "def get_positions_from_md_tag(md_tag):\n",
    "    md_tag_parsed = []\n",
    "    for c in md_tag:\n",
    "        try:\n",
    "            md_tag_parsed.append(str(int(c)))\n",
    "        except Exception as e:\n",
    "            md_tag_parsed.append('-')\n",
    "\n",
    "    positions = []\n",
    "\n",
    "    position_splitters = [int(i) for i in ''.join(md_tag_parsed).split('-')]\n",
    "    for s in position_splitters:\n",
    "        if len(positions) == 0:\n",
    "            positions.append(s)\n",
    "        else:\n",
    "            positions.append(positions[-1] + s + 1)\n",
    "    return positions\n",
    "\n",
    "\n",
    "  \n",
    "\n",
    "for read in samfile.fetch('16', 3495912, 3505912):\n",
    "    md_tag = read.get_tag('MD')\n",
    "    positions_replaced = get_positions_from_md_tag(md_tag)\n",
    "    \n",
    "    print('MD tag', md_tag)\n",
    "    print(read.cigarstring)\n",
    "    print(read.cigartuples)\n",
    "\n",
    "    print('Reverse?', read.is_reverse)\n",
    "    \n",
    "    aligned_seq = reverse_complement(read.get_forward_sequence())\n",
    "    \n",
    "    \n",
    "    \n",
    "    indicated_aligned_seq = []\n",
    "    for i, a in enumerate(aligned_seq):\n",
    "        if i in positions_replaced:\n",
    "            indicated_aligned_seq.append(a.upper())\n",
    "        else:\n",
    "            indicated_aligned_seq.append(a.lower())\n",
    "    \n",
    "            \n",
    "    print('Forward aligned sequence\\n', ''.join(indicated_aligned_seq))\n",
    "    print('Reference sequence\\n', read.get_reference_sequence().lower())\n",
    "    print('barcode', read.get_tag('CR'))\n",
    "    print()\n",
    "    break"
   ]
  },
  {
   "cell_type": "code",
   "execution_count": null,
   "id": "4e9d5c32-6fd3-4bfe-8d73-7ec081943f2d",
   "metadata": {},
   "outputs": [],
   "source": []
  }
 ],
 "metadata": {
  "kernelspec": {
   "display_name": "new_anaconda3",
   "language": "python",
   "name": "new_anaconda3"
  },
  "language_info": {
   "codemirror_mode": {
    "name": "ipython",
    "version": 3
   },
   "file_extension": ".py",
   "mimetype": "text/x-python",
   "name": "python",
   "nbconvert_exporter": "python",
   "pygments_lexer": "ipython3",
   "version": "3.7.4"
  }
 },
 "nbformat": 4,
 "nbformat_minor": 5
}
