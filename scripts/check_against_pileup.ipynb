{
 "cells": [
  {
   "cell_type": "code",
   "execution_count": 1,
   "id": "834c9266-dd67-464d-b30d-eb56aee77724",
   "metadata": {},
   "outputs": [],
   "source": [
    "import pysam\n",
    "import os\n",
    "import sys\n",
    "directory_path = os.path.abspath(os.path.join('../src/'))\n",
    "if directory_path not in sys.path:\n",
    "    sys.path.append(directory_path)\n",
    "    \n",
    "from read_process import get_contig_lengths_dict,\\\n",
    "incorporate_replaced_pos_info,incorporate_insertions_and_deletions,\\\n",
    "get_positions_from_md_tag,reverse_complement,get_edit_information,get_edit_information_wrapper,\\\n",
    "has_edits,get_dataframe_from_barcode_dict\n"
   ]
  },
  {
   "cell_type": "markdown",
   "id": "df7166d4-3f54-4108-abb8-e978f704727a",
   "metadata": {},
   "source": [
    "# An example on a bam for just one cell barcode (split from the original bam)"
   ]
  },
  {
   "cell_type": "markdown",
   "id": "d5962296-f5be-4c0f-8323-74f591d58dea",
   "metadata": {},
   "source": [
    "### in 10X's bam file, xf=25 means that read is uniquely mapped to a genome, and was used for counting UMI. So we should only look at reads with xf=25 from the 10X bam."
   ]
  },
  {
   "cell_type": "code",
   "execution_count": 2,
   "id": "fba3a6f1-60ab-4ec3-9f17-a59ab8d4bbed",
   "metadata": {},
   "outputs": [],
   "source": [
    "barcode = 'AAACCCAAGATTGCGG'\n",
    "bampath = '../data/group0_data/filtered_keep_xf25_possorted_genome_with_header.bam_MD.bam_MD-{}-1.bam'.format(barcode)"
   ]
  },
  {
   "cell_type": "code",
   "execution_count": 3,
   "id": "6c2899e1-6cbd-48bd-b255-197b8aa1437e",
   "metadata": {},
   "outputs": [],
   "source": [
    "samfile = pysam.AlignmentFile(bampath, \"rb\")"
   ]
  },
  {
   "cell_type": "markdown",
   "id": "cd46fd31-deb3-4cce-996e-0544d924efa5",
   "metadata": {},
   "source": [
    "# Helper functions"
   ]
  },
  {
   "cell_type": "code",
   "execution_count": 4,
   "id": "5bcc8902-4748-44e9-b848-722d21f39f53",
   "metadata": {},
   "outputs": [],
   "source": [
    "    \n",
    "def print_read_info(read):\n",
    "    md_tag = read.get_tag('MD')\n",
    "    read_id = read.query_name\n",
    "    cigar_string = read.cigarstring\n",
    "    barcode = read.get_tag('CR')\n",
    "    print('MD tag', md_tag)\n",
    "    print(\"CIGAR tag\", cigar_string)\n",
    "    print('barcode', barcode)\n",
    "    "
   ]
  },
  {
   "cell_type": "markdown",
   "id": "67ea541e-ab33-40a6-9d12-88c707c3932c",
   "metadata": {},
   "source": [
    "# Full test"
   ]
  },
  {
   "cell_type": "code",
   "execution_count": 5,
   "id": "5481bde1-a0e7-43b6-8699-1043a6d7cae3",
   "metadata": {
    "scrolled": true,
    "tags": []
   },
   "outputs": [
    {
     "name": "stdout",
     "output_type": "stream",
     "text": [
      "1\n",
      "10\n",
      "11\n",
      "12\n",
      "13\n",
      "14\n",
      "15\n",
      "16\n",
      "17\n",
      "18\n",
      "19\n",
      "2\n",
      "3\n",
      "4\n",
      "5\n",
      "6\n",
      "7\n",
      "8\n",
      "9\n",
      "MT\n",
      "X\n",
      "Y\n"
     ]
    }
   ],
   "source": [
    "from collections import defaultdict\n",
    "import time\n",
    "import pandas as pd\n",
    "from matplotlib import pyplot as plt\n",
    "import numpy as np\n",
    "\n",
    "# TOLERANCES/THRESHOLD FOR FILTERING\n",
    "max_edit_tolerance = 5\n",
    "dist_from_end_tolerance = 5\n",
    "base_quality_threshold = 37\n",
    "mapping_quality_threshold = 255\n",
    "\n",
    "# DICTIONARIES TO FILL WITH EDIT INFORMATION\n",
    "barcode_to_position_to_alts = defaultdict(lambda:defaultdict(lambda:defaultdict(lambda:defaultdict(lambda:defaultdict())))) \n",
    "skipped_for_deletions_count = 0 \n",
    "wrong_barcode = []\n",
    "\n",
    "example_dataframe_per_contig = {}\n",
    "contig_lengths_dict = get_contig_lengths_dict(samfile)\n",
    "contigs = [i for i in contig_lengths_dict.keys() if len(i) < 5]\n",
    "\n",
    "# THE HEAVY LIFTING\n",
    "total_reads = 0\n",
    "for contig in contigs:\n",
    "    print(contig)\n",
    "    reads_for_contig = samfile.fetch(contig, 0, contig_lengths_dict.get(contig))\n",
    "\n",
    "    reads_kept = 0\n",
    "    for i, read in enumerate(reads_for_contig):\n",
    "        \n",
    "        if not has_edits(read):\n",
    "            continue\n",
    "        if read.is_secondary:\n",
    "            continue\n",
    "            \n",
    "        md_tag = read.get_tag('MD')\n",
    "            \n",
    "        is_reverse = read.is_reverse\n",
    "        strand = '+'\n",
    "        if is_reverse:\n",
    "            strand = '-'\n",
    "\n",
    "        reference_start = read.reference_start\n",
    "        reference_end = read.reference_end\n",
    "        read_id = read.query_name\n",
    "\n",
    "        if '^' in md_tag:\n",
    "            # FOR NOW SKIP DELETIONS, THEY ARE TRICKY TO PARSE...\n",
    "            skipped_for_deletions_count += 1\n",
    "            continue\n",
    "\n",
    "        read_barcode = read.get_tag('CR')\n",
    "        \n",
    "        # READ FILTERING DONE\n",
    "        reads_kept += 1\n",
    "        \n",
    "        alt_bases, ref_bases, qualities, positions_replaced = get_edit_information_wrapper(read, not is_reverse)\n",
    "        \n",
    "        for alt, ref, qual, pos in zip(alt_bases, ref_bases, qualities, positions_replaced):\n",
    "            assert(alt != ref)\n",
    "            updated_position = pos+reference_start\n",
    "            if is_reverse:\n",
    "                alt = reverse_complement(alt)\n",
    "                ref = reverse_complement(ref)\n",
    "\n",
    "            distance_from_read_end = np.min([updated_position - reference_start, reference_end - updated_position])\n",
    "            \n",
    "            barcode_to_position_to_alts[read_barcode][contig]['{}_{}'.format(updated_position, ref)]\\\n",
    "            [alt][read_id] = strand, distance_from_read_end, qual\n",
    "        if reads_kept > 100000:\n",
    "            break\n",
    "        \n",
    "    total_reads += reads_kept\n",
    "    "
   ]
  },
  {
   "cell_type": "code",
   "execution_count": 6,
   "id": "540871a8-f69d-475d-bdda-f5e0b4bf265a",
   "metadata": {},
   "outputs": [
    {
     "name": "stdout",
     "output_type": "stream",
     "text": [
      "6586 total reads\n"
     ]
    }
   ],
   "source": [
    "print(\"{} total reads\".format(total_reads))"
   ]
  },
  {
   "cell_type": "markdown",
   "id": "56d67b5f-d270-470a-ba6d-f395ec949eba",
   "metadata": {},
   "source": [
    "# BUILD DATATFRAME"
   ]
  },
  {
   "cell_type": "code",
   "execution_count": 7,
   "id": "81c458a7-8b78-42f1-820b-7c06e71fd7a0",
   "metadata": {},
   "outputs": [
    {
     "name": "stdout",
     "output_type": "stream",
     "text": [
      "12360\n"
     ]
    }
   ],
   "source": [
    "example_dataframe = get_dataframe_from_barcode_dict(barcode_to_position_to_alts)\n",
    "print(len(example_dataframe))"
   ]
  },
  {
   "cell_type": "code",
   "execution_count": 9,
   "id": "f72b08a2-80cb-4447-be59-69ef0ae53222",
   "metadata": {},
   "outputs": [
    {
     "data": {
      "text/html": [
       "<div>\n",
       "<style scoped>\n",
       "    .dataframe tbody tr th:only-of-type {\n",
       "        vertical-align: middle;\n",
       "    }\n",
       "\n",
       "    .dataframe tbody tr th {\n",
       "        vertical-align: top;\n",
       "    }\n",
       "\n",
       "    .dataframe thead th {\n",
       "        text-align: right;\n",
       "    }\n",
       "</style>\n",
       "<table border=\"1\" class=\"dataframe\">\n",
       "  <thead>\n",
       "    <tr style=\"text-align: right;\">\n",
       "      <th></th>\n",
       "      <th>barcode</th>\n",
       "      <th>contig</th>\n",
       "      <th>position_ref</th>\n",
       "      <th>alt</th>\n",
       "      <th>read_id</th>\n",
       "      <th>strand</th>\n",
       "      <th>dist_from_read_end</th>\n",
       "      <th>quality</th>\n",
       "      <th>ref</th>\n",
       "      <th>position</th>\n",
       "    </tr>\n",
       "  </thead>\n",
       "  <tbody>\n",
       "    <tr>\n",
       "      <th>0</th>\n",
       "      <td>AAACCCAAGATAGCGG</td>\n",
       "      <td>1</td>\n",
       "      <td>3210993_G</td>\n",
       "      <td>T</td>\n",
       "      <td>A01535:287:H3JJHDSX7:1:1256:24496:23531</td>\n",
       "      <td>-</td>\n",
       "      <td>44</td>\n",
       "      <td>11</td>\n",
       "      <td>G</td>\n",
       "      <td>3210993</td>\n",
       "    </tr>\n",
       "    <tr>\n",
       "      <th>1</th>\n",
       "      <td>AAACCCAAGATAGCGG</td>\n",
       "      <td>1</td>\n",
       "      <td>3210998_C</td>\n",
       "      <td>A</td>\n",
       "      <td>A01535:287:H3JJHDSX7:1:1256:24496:23531</td>\n",
       "      <td>-</td>\n",
       "      <td>39</td>\n",
       "      <td>11</td>\n",
       "      <td>C</td>\n",
       "      <td>3210998</td>\n",
       "    </tr>\n",
       "    <tr>\n",
       "      <th>2</th>\n",
       "      <td>AAACCCAAGATAGCGG</td>\n",
       "      <td>12</td>\n",
       "      <td>116256160_C</td>\n",
       "      <td>A</td>\n",
       "      <td>A01535:287:H3JJHDSX7:1:1301:12545:32581</td>\n",
       "      <td>-</td>\n",
       "      <td>15</td>\n",
       "      <td>11</td>\n",
       "      <td>C</td>\n",
       "      <td>116256160</td>\n",
       "    </tr>\n",
       "    <tr>\n",
       "      <th>3</th>\n",
       "      <td>AAACCCAAGATAGCGG</td>\n",
       "      <td>12</td>\n",
       "      <td>116256165_G</td>\n",
       "      <td>T</td>\n",
       "      <td>A01535:287:H3JJHDSX7:1:1301:12545:32581</td>\n",
       "      <td>-</td>\n",
       "      <td>20</td>\n",
       "      <td>11</td>\n",
       "      <td>G</td>\n",
       "      <td>116256165</td>\n",
       "    </tr>\n",
       "    <tr>\n",
       "      <th>4</th>\n",
       "      <td>AAACCCAAGATAGCGG</td>\n",
       "      <td>14</td>\n",
       "      <td>24493549_T</td>\n",
       "      <td>G</td>\n",
       "      <td>A01535:287:H3JJHDSX7:1:1525:5475:21371</td>\n",
       "      <td>+</td>\n",
       "      <td>79</td>\n",
       "      <td>11</td>\n",
       "      <td>T</td>\n",
       "      <td>24493549</td>\n",
       "    </tr>\n",
       "  </tbody>\n",
       "</table>\n",
       "</div>"
      ],
      "text/plain": [
       "            barcode contig position_ref alt  \\\n",
       "0  AAACCCAAGATAGCGG      1    3210993_G   T   \n",
       "1  AAACCCAAGATAGCGG      1    3210998_C   A   \n",
       "2  AAACCCAAGATAGCGG     12  116256160_C   A   \n",
       "3  AAACCCAAGATAGCGG     12  116256165_G   T   \n",
       "4  AAACCCAAGATAGCGG     14   24493549_T   G   \n",
       "\n",
       "                                   read_id strand  dist_from_read_end quality  \\\n",
       "0  A01535:287:H3JJHDSX7:1:1256:24496:23531      -                  44      11   \n",
       "1  A01535:287:H3JJHDSX7:1:1256:24496:23531      -                  39      11   \n",
       "2  A01535:287:H3JJHDSX7:1:1301:12545:32581      -                  15      11   \n",
       "3  A01535:287:H3JJHDSX7:1:1301:12545:32581      -                  20      11   \n",
       "4   A01535:287:H3JJHDSX7:1:1525:5475:21371      +                  79      11   \n",
       "\n",
       "  ref   position  \n",
       "0   G    3210993  \n",
       "1   C    3210998  \n",
       "2   C  116256160  \n",
       "3   G  116256165  \n",
       "4   T   24493549  "
      ]
     },
     "execution_count": 9,
     "metadata": {},
     "output_type": "execute_result"
    }
   ],
   "source": [
    "example_dataframe.head()"
   ]
  },
  {
   "cell_type": "markdown",
   "id": "bd18d626-7883-487a-99ad-0b9920534468",
   "metadata": {},
   "source": [
    "# FILTER DATAFRAME"
   ]
  },
  {
   "cell_type": "code",
   "execution_count": 11,
   "id": "40c520ff-a7f2-4052-aa81-e5be40f3e172",
   "metadata": {},
   "outputs": [
    {
     "name": "stdout",
     "output_type": "stream",
     "text": [
      "Filtering out 358 hyperedited reads that had more than 5 edits\n",
      "12360\n",
      "9618\n",
      "5569\n"
     ]
    },
    {
     "data": {
      "image/png": "[encoded data removed]",
      "text/plain": [
       "<Figure size 432x288 with 1 Axes>"
      ]
     },
     "metadata": {
      "needs_background": "light"
     },
     "output_type": "display_data"
    },
    {
     "data": {
      "image/png": "[encoded data removed]",
      "text/plain": [
       "<Figure size 432x288 with 1 Axes>"
      ]
     },
     "metadata": {
      "needs_background": "light"
     },
     "output_type": "display_data"
    },
    {
     "data": {
      "image/png": "[encoded data removed]",
      "text/plain": [
       "<Figure size 432x288 with 1 Axes>"
      ]
     },
     "metadata": {
      "needs_background": "light"
     },
     "output_type": "display_data"
    }
   ],
   "source": [
    "num_edits_per_read = pd.DataFrame(example_dataframe.groupby('read_id').count().barcode)\n",
    "num_edits_per_read.columns = ['edits']\n",
    "\n",
    "hyperedited_reads = num_edits_per_read[num_edits_per_read.edits > max_edit_tolerance]\n",
    "print(\"Filtering out {} hyperedited reads that had more than {} edits\".format(len(hyperedited_reads),\n",
    "                                                                             max_edit_tolerance))\n",
    "\n",
    "print(len(example_dataframe))\n",
    "example_dataframe_filtered = example_dataframe[~example_dataframe.read_id.isin(hyperedited_reads.index)]\n",
    "print(len(example_dataframe_filtered))\n",
    "example_dataframe.groupby(['ref', 'alt']).count().barcode.plot(kind='barh')\n",
    "plt.title(\"Before filtering hyperedited reads\")\n",
    "plt.figure()\n",
    "example_dataframe_filtered.groupby(['ref', 'alt']).count().barcode.plot(kind='barh')\n",
    "plt.title(\"After filtering hyperedited reads (more than {} edits)\".format(max_edit_tolerance))\n",
    "\n",
    "# Filter for distance from read end and base quality\n",
    "example_dataframe_filtered = example_dataframe[(example_dataframe.dist_from_read_end > dist_from_end_tolerance) & (example_dataframe.quality.astype(int) >= base_quality_threshold)]\n",
    "print(len(example_dataframe_filtered))\n",
    "plt.figure()\n",
    "example_dataframe_filtered.groupby(['ref', 'alt']).count().barcode.plot(kind='barh')\n",
    "_ = plt.title(\"After filtering bases with low quality (< {})\\nor close to ends of reads (less than {} from end)\".format(base_quality_threshold, dist_from_end_tolerance))\n"
   ]
  },
  {
   "cell_type": "code",
   "execution_count": 12,
   "id": "7a97fbec-9329-4c9c-8c9b-a785a8ae376c",
   "metadata": {},
   "outputs": [],
   "source": [
    "example_new_ct =  example_dataframe_filtered[(example_dataframe_filtered.ref == 'C') & (example_dataframe_filtered.alt == 'T')].sort_values('position')"
   ]
  },
  {
   "cell_type": "code",
   "execution_count": 13,
   "id": "e9b3fdc3-7fab-448f-a9e9-52cbab695e2b",
   "metadata": {},
   "outputs": [
    {
     "data": {
      "text/plain": [
       "2972"
      ]
     },
     "execution_count": 13,
     "metadata": {},
     "output_type": "execute_result"
    }
   ],
   "source": [
    "len(example_new_ct)"
   ]
  },
  {
   "cell_type": "code",
   "execution_count": 14,
   "id": "948e03cf-d1dd-45dc-b0cc-af17c063035c",
   "metadata": {},
   "outputs": [],
   "source": [
    "example_new_ct = example_new_ct[example_new_ct.dist_from_read_end > 5]"
   ]
  },
  {
   "cell_type": "code",
   "execution_count": 15,
   "id": "983a4469-e081-4496-9b4a-39fac036085c",
   "metadata": {},
   "outputs": [
    {
     "data": {
      "text/plain": [
       "2972"
      ]
     },
     "execution_count": 15,
     "metadata": {},
     "output_type": "execute_result"
    }
   ],
   "source": [
    "len(example_new_ct)"
   ]
  },
  {
   "cell_type": "markdown",
   "id": "58910056-39e6-4380-93ee-a4d732706067",
   "metadata": {},
   "source": [
    "# Extract only reads for a barcode"
   ]
  },
  {
   "cell_type": "code",
   "execution_count": 16,
   "id": "3aa54931-9d64-4b1e-9ede-037abae0cb13",
   "metadata": {
    "scrolled": true,
    "tags": []
   },
   "outputs": [
    {
     "name": "stdout",
     "output_type": "stream",
     "text": [
      "contig 1\n",
      "\tNumber of sites in old version: 11\n",
      "\tNumber of sites recapitulated: 10\n",
      "contig 10\n",
      "\tNumber of sites in old version: 15\n",
      "\tNumber of sites recapitulated: 13\n",
      "contig 11\n",
      "\tNumber of sites in old version: 32\n",
      "\tNumber of sites recapitulated: 29\n",
      "contig 12\n",
      "\tNumber of sites in old version: 21\n",
      "\tNumber of sites recapitulated: 18\n",
      "contig 13\n",
      "\tNumber of sites in old version: 3\n",
      "\tNumber of sites recapitulated: 2\n",
      "contig 14\n",
      "\tNumber of sites in old version: 11\n",
      "\tNumber of sites recapitulated: 10\n",
      "contig 15\n",
      "\tNumber of sites in old version: 19\n",
      "\tNumber of sites recapitulated: 17\n",
      "contig 16\n",
      "\tNumber of sites in old version: 5\n",
      "\tNumber of sites recapitulated: 5\n",
      "contig 17\n",
      "\tNumber of sites in old version: 17\n",
      "\tNumber of sites recapitulated: 15\n",
      "contig 18\n",
      "\tNumber of sites in old version: 1\n",
      "\tNumber of sites recapitulated: 1\n",
      "contig 19\n",
      "\tNumber of sites in old version: 23\n",
      "\tNumber of sites recapitulated: 22\n",
      "contig 2\n",
      "\tNumber of sites in old version: 20\n",
      "\tNumber of sites recapitulated: 20\n",
      "contig 3\n",
      "\tNumber of sites in old version: 9\n",
      "\tNumber of sites recapitulated: 8\n",
      "contig 4\n",
      "\tNumber of sites in old version: 5\n",
      "\tNumber of sites recapitulated: 2\n",
      "contig 5\n",
      "\tNumber of sites in old version: 18\n",
      "\tNumber of sites recapitulated: 16\n",
      "contig 6\n",
      "\tNumber of sites in old version: 13\n",
      "\tNumber of sites recapitulated: 13\n",
      "contig 7\n",
      "\tNumber of sites in old version: 23\n",
      "\tNumber of sites recapitulated: 17\n",
      "contig 8\n",
      "\tNumber of sites in old version: 18\n",
      "\tNumber of sites recapitulated: 17\n",
      "contig 9\n",
      "\tNumber of sites in old version: 16\n",
      "\tNumber of sites recapitulated: 16\n",
      "contig MT\n",
      "\tNumber of sites in old version: 10\n",
      "\tNumber of sites recapitulated: 9\n",
      "contig X\n",
      "\tNumber of sites in old version: 11\n",
      "\tNumber of sites recapitulated: 10\n",
      "contig Y\n",
      "\tNumber of sites in old version: 1\n",
      "\tNumber of sites recapitulated: 1\n"
     ]
    }
   ],
   "source": [
    "# Get edits for barcode\n",
    "\n",
    "example = pd.read_csv(\n",
    "    '../data/group0_data/filtered_keep_xf25_possorted_genome_with_header.bam_MD.bam_MD-{}-1.bam.combined.readfiltered.formatted.varfiltered.snpfiltered.ranked.bed'.format(barcode),\n",
    "    sep='\\t', names=['contig', 'start', 'end', 'score', 'coverage', 'strand'])\n",
    "\n",
    "comparison_vals = []\n",
    "for contig in contigs:\n",
    "    print('contig {}'.format(contig))\n",
    "    example_new_ct_for_contig = example_new_ct[example_new_ct.contig == contig]\n",
    "    example_new_ct_for_contig.index = example_new_ct_for_contig.position\n",
    "\n",
    "    example_old_ct_for_contig = example[example.contig == contig]\n",
    "    example_old_ct_for_contig.index = example_old_ct_for_contig.start\n",
    "\n",
    "    # Which overlap?\n",
    "\n",
    "    \n",
    "    overlapping = example_old_ct_for_contig.join(example_new_ct_for_contig, rsuffix='_2', how='inner').drop_duplicates(['contig', 'start', 'end', 'score'])\n",
    "    \n",
    "    print(\"\\tNumber of sites in old version: {}\".format(len(example_old_ct_for_contig)))\n",
    "    print(\"\\tNumber of sites recapitulated: {}\".format(len(overlapping)))\n",
    "    \n",
    "    comparison_vals.append([len(example_old_ct_for_contig), len(overlapping), len(example_new_ct_for_contig)])\n"
   ]
  },
  {
   "cell_type": "markdown",
   "id": "22ba97e6-4a21-4336-9295-a22c0484207a",
   "metadata": {},
   "source": [
    "# Which sites are we recovering?"
   ]
  },
  {
   "cell_type": "code",
   "execution_count": 17,
   "id": "193ebf39-72ff-44e1-95fe-561658c7986b",
   "metadata": {},
   "outputs": [],
   "source": [
    "recapitulation_summary = pd.DataFrame(comparison_vals, index=contigs, columns=['Previous sites', 'Overlapping sites', 'New sites'])"
   ]
  },
  {
   "cell_type": "code",
   "execution_count": 18,
   "id": "3e116853-c7bc-4c7f-888e-77f45f7edfe8",
   "metadata": {},
   "outputs": [
    {
     "data": {
      "text/plain": [
       "Text(0.5, 1.0, 'Sites from old approach recapitulated with new approach')"
      ]
     },
     "execution_count": 18,
     "metadata": {},
     "output_type": "execute_result"
    },
    {
     "data": {
      "image/png": "[encoded data removed]",
      "text/plain": [
       "<Figure size 432x288 with 1 Axes>"
      ]
     },
     "metadata": {
      "needs_background": "light"
     },
     "output_type": "display_data"
    }
   ],
   "source": [
    "recapitulation_summary[['Previous sites', 'Overlapping sites']].plot(kind='barh')\n",
    "plt.title(\"Sites from old approach recapitulated with new approach\")"
   ]
  },
  {
   "cell_type": "code",
   "execution_count": null,
   "id": "ef865c7c-46b8-43d4-916c-c9a8e9bc33d4",
   "metadata": {},
   "outputs": [],
   "source": []
  }
 ],
 "metadata": {
  "kernelspec": {
   "display_name": "new_anaconda3",
   "language": "python",
   "name": "new_anaconda3"
  },
  "language_info": {
   "codemirror_mode": {
    "name": "ipython",
    "version": 3
   },
   "file_extension": ".py",
   "mimetype": "text/x-python",
   "name": "python",
   "nbconvert_exporter": "python",
   "pygments_lexer": "ipython3",
   "version": "3.7.4"
  }
 },
 "nbformat": 4,
 "nbformat_minor": 5
}
