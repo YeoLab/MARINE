{
 "cells": [
  {
   "cell_type": "code",
   "execution_count": 1,
   "id": "834c9266-dd67-464d-b30d-eb56aee77724",
   "metadata": {},
   "outputs": [],
   "source": [
    "import pysam\n",
    "import os\n",
    "import sys\n",
    "directory_path = os.path.abspath(os.path.join('../src/'))\n",
    "if directory_path not in sys.path:\n",
    "    sys.path.append(directory_path)\n",
    "    \n",
    "from read_process import get_contig_lengths_dict,\\\n",
    "incorporate_replaced_pos_info,incorporate_insertions_and_deletions,\\\n",
    "get_positions_from_md_tag,reverse_complement,get_edit_information,get_edit_information_wrapper,\\\n",
    "has_edits,get_dataframe_from_barcode_dict\n"
   ]
  },
  {
   "cell_type": "markdown",
   "id": "df7166d4-3f54-4108-abb8-e978f704727a",
   "metadata": {},
   "source": [
    "# Bam example"
   ]
  },
  {
   "cell_type": "code",
   "execution_count": 12,
   "id": "fba3a6f1-60ab-4ec3-9f17-a59ab8d4bbed",
   "metadata": {},
   "outputs": [],
   "source": [
    "#bampath = '/projects/ps-yeolab5/ekofman/Sammi/MouseBrainEF1A_SingleCell_EPR_batch2/filtered_possorted_ms_hippo_stamp_bam/filtered_keep_xf25_possorted_genome_with_header.bam_MD.bam'\n",
    "\n",
    "barcode = 'AAACCCAAGATTGCGG'\n",
    "bampath = '../data/group0_data/filtered_keep_xf25_possorted_genome_with_header.bam_MD.bam_MD-{}-1.bam'.format(barcode)"
   ]
  },
  {
   "cell_type": "code",
   "execution_count": 13,
   "id": "6c2899e1-6cbd-48bd-b255-197b8aa1437e",
   "metadata": {},
   "outputs": [],
   "source": [
    "samfile = pysam.AlignmentFile(bampath, \"rb\")"
   ]
  },
  {
   "cell_type": "markdown",
   "id": "cd46fd31-deb3-4cce-996e-0544d924efa5",
   "metadata": {},
   "source": [
    "# Helper functions"
   ]
  },
  {
   "cell_type": "code",
   "execution_count": 14,
   "id": "afeaced5-14d7-4781-b517-a939044990c1",
   "metadata": {
    "scrolled": true,
    "tags": []
   },
   "outputs": [],
   "source": [
    "\n",
    "contig_lengths_dict = get_contig_lengths_dict(samfile)"
   ]
  },
  {
   "cell_type": "code",
   "execution_count": 15,
   "id": "5bcc8902-4748-44e9-b848-722d21f39f53",
   "metadata": {},
   "outputs": [],
   "source": [
    "    \n",
    "def print_read_info(read):\n",
    "    md_tag = read.get_tag('MD')\n",
    "    read_id = read.query_name\n",
    "    cigar_string = read.cigarstring\n",
    "    barcode = read.get_tag('CR')\n",
    "    print('MD tag', md_tag)\n",
    "    print(\"CIGAR tag\", cigar_string)\n",
    "    print('barcode', barcode)\n",
    "    "
   ]
  },
  {
   "cell_type": "markdown",
   "id": "67ea541e-ab33-40a6-9d12-88c707c3932c",
   "metadata": {},
   "source": [
    "# Full test"
   ]
  },
  {
   "cell_type": "code",
   "execution_count": 16,
   "id": "6010f246-5570-4ec3-9b81-01168f2813aa",
   "metadata": {},
   "outputs": [
    {
     "data": {
      "text/plain": [
       "195471971"
      ]
     },
     "execution_count": 16,
     "metadata": {},
     "output_type": "execute_result"
    }
   ],
   "source": [
    "contig = '1'\n",
    "contig_lengths_dict.get(contig)"
   ]
  },
  {
   "cell_type": "code",
   "execution_count": 29,
   "id": "5481bde1-a0e7-43b6-8699-1043a6d7cae3",
   "metadata": {
    "scrolled": true,
    "tags": []
   },
   "outputs": [
    {
     "name": "stdout",
     "output_type": "stream",
     "text": [
      "Building dataframe\n"
     ]
    }
   ],
   "source": [
    "from collections import defaultdict\n",
    "import time\n",
    "import pandas as pd\n",
    "\n",
    "\n",
    "barcode_to_position_to_alts = defaultdict(lambda:defaultdict(lambda:defaultdict(lambda:defaultdict()))) \n",
    "skipped_for_deletions_count = 0 \n",
    "wrong_barcode = []\n",
    "\n",
    "contig = '1'\n",
    "reads_for_contig = samfile.fetch(contig, 0, contig_lengths_dict.get(contig))\n",
    "\n",
    "for i, read in enumerate(reads_for_contig):\n",
    "    md_tag = read.get_tag('MD')\n",
    "    is_reverse = read.is_reverse\n",
    "    strand = '+'\n",
    "    if is_reverse:\n",
    "        strand = '-'\n",
    "        \n",
    "    reference_start = read.reference_start\n",
    "    read_id = read.query_name\n",
    "\n",
    "    if '^' in md_tag:\n",
    "        # FOR NOW SKIP DELETIONS, THEY ARE TRICKY TO PARSE...\n",
    "        skipped_for_deletions_count += 1\n",
    "        continue\n",
    "    \n",
    "    if not has_edits(read):\n",
    "        continue\n",
    "\n",
    "    read_barcode = read.get_tag('CR')\n",
    "\n",
    "    if read_barcode != barcode:\n",
    "        wrong_barcode.append(read_barcode)\n",
    "        continue\n",
    "        \n",
    "    alt_bases, ref_bases, positions_replaced = get_edit_information_wrapper(read, not is_reverse)\n",
    "\n",
    "    \n",
    "    for alt, ref, pos in zip(alt_bases, ref_bases, positions_replaced):\n",
    "        assert(alt != ref)\n",
    "        updated_position = pos+reference_start\n",
    "        if is_reverse:\n",
    "            alt = reverse_complement(alt)\n",
    "            ref = reverse_complement(ref)\n",
    "        \n",
    "        barcode_to_position_to_alts[read_barcode]['{}_{}'.format(updated_position, ref)][alt][read_id] = strand\n",
    "    \n",
    "    \n",
    "\n",
    "# BUILD DATATFRAME\n",
    "print(\"Building dataframe\")\n",
    "example_dataframe = get_dataframe_from_barcode_dict(contig, barcode_to_position_to_alts)"
   ]
  },
  {
   "cell_type": "code",
   "execution_count": 30,
   "id": "c04b21b6-a155-4c03-814b-28b320913af1",
   "metadata": {},
   "outputs": [
    {
     "data": {
      "text/plain": [
       "<AxesSubplot:ylabel='ref,alt'>"
      ]
     },
     "execution_count": 30,
     "metadata": {},
     "output_type": "execute_result"
    },
    {
     "data": {
      "image/png": "[encoded data removed]",
      "text/plain": [
       "<Figure size 432x288 with 1 Axes>"
      ]
     },
     "metadata": {
      "needs_background": "light"
     },
     "output_type": "display_data"
    }
   ],
   "source": [
    "example_dataframe.groupby(['ref', 'alt']).count().barcode.plot(kind='barh')"
   ]
  },
  {
   "cell_type": "code",
   "execution_count": 36,
   "id": "7a97fbec-9329-4c9c-8c9b-a785a8ae376c",
   "metadata": {},
   "outputs": [],
   "source": [
    "example_new_ct = example_dataframe[(example_dataframe.ref == 'C') & (example_dataframe.alt == 'T')].sort_values('position')"
   ]
  },
  {
   "cell_type": "markdown",
   "id": "58910056-39e6-4380-93ee-a4d732706067",
   "metadata": {},
   "source": [
    "# Extract only reads for a barcode"
   ]
  },
  {
   "cell_type": "code",
   "execution_count": 35,
   "id": "3aa54931-9d64-4b1e-9ede-037abae0cb13",
   "metadata": {},
   "outputs": [
    {
     "name": "stdout",
     "output_type": "stream",
     "text": [
      "Number of sites in old version: 11\n",
      "Number of sites recapitulated: 11\n"
     ]
    }
   ],
   "source": [
    "# Get edits for barcode\n",
    "\n",
    "example = pd.read_csv(\n",
    "    '../data/group0_data/filtered_keep_xf25_possorted_genome_with_header.bam_MD.bam_MD-{}-1.bam.combined.readfiltered.formatted.varfiltered.snpfiltered.ranked.bed'.format(barcode),\n",
    "    sep='\\t', names=['contig', 'start', 'end', 'score', 'coverage', 'strand'])\n",
    "\n",
    "example_old_ct = example[example.contig == contig]\n",
    "\n",
    "\n",
    "# Which overlap?\n",
    "\n",
    "example_new_ct.index = example_new_ct.position\n",
    "example_old_ct.index = example_old_ct.start\n",
    "overlapping = example_old_ct.join(example_new_ct, rsuffix='_2', how='inner').drop_duplicates()\n",
    "print(\"Number of sites in old version: {}\".format(len(example_old_ct)))\n",
    "print(\"Number of sites recapitulated: {}\".format(len(overlapping)))"
   ]
  }
 ],
 "metadata": {
  "kernelspec": {
   "display_name": "new_anaconda3",
   "language": "python",
   "name": "new_anaconda3"
  },
  "language_info": {
   "codemirror_mode": {
    "name": "ipython",
    "version": 3
   },
   "file_extension": ".py",
   "mimetype": "text/x-python",
   "name": "python",
   "nbconvert_exporter": "python",
   "pygments_lexer": "ipython3",
   "version": "3.7.4"
  }
 },
 "nbformat": 4,
 "nbformat_minor": 5
}
