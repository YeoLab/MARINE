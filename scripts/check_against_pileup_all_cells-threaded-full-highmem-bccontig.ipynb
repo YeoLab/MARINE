{
 "cells": [
  {
   "cell_type": "code",
   "execution_count": null,
   "id": "834c9266-dd67-464d-b30d-eb56aee77724",
   "metadata": {},
   "outputs": [],
   "source": [
    "import pysam\n",
    "import os\n",
    "import sys\n",
    "from sys import getsizeof\n",
    "import time\n",
    "import pandas as pd\n",
    "import polars as pl\n",
    "from collections import defaultdict\n",
    "\n",
    "from collections import defaultdict\n",
    "import pandas as pd\n",
    "#from matplotlib import pyplot as plt\n",
    "import numpy as np\n",
    "import time\n",
    "from multiprocessing import Pool\n",
    "import multiprocessing\n",
    "from tqdm import tqdm\n",
    "\n",
    "\n",
    "from glob import glob\n",
    "\n",
    "directory_path = os.path.abspath(os.path.join('../src/'))\n",
    "if directory_path not in sys.path:\n",
    "    sys.path.append(directory_path)\n",
    "    \n",
    "from read_process import incorporate_replaced_pos_info,incorporate_insertions_and_deletions,\\\n",
    "get_positions_from_md_tag,reverse_complement,get_edit_information,get_edit_information_wrapper,\\\n",
    "has_edits,get_total_coverage_for_contig_at_position,\\\n",
    "print_read_info, update_coverage_array, get_read_information, get_hamming_distance, remove_softclipped_bases,find\n",
    "\n",
    "from utils import get_contigs_that_need_bams_written, get_contig_lengths_dict, get_intervals, index_bam, write_rows_to_info_file, write_header_to_edit_info, \\\n",
    "write_read_to_bam_file, remove_file_if_exists, make_folder, concat_and_write_bams_wrapper, make_edit_finding_jobs\n",
    "\n",
    "from core import run_edit_identifier, run_bam_reconfiguration\n",
    "\n",
    "import os, psutil\n"
   ]
  },
  {
   "cell_type": "code",
   "execution_count": null,
   "id": "22756d55-38c0-4b0e-a3ac-091b3a901af5",
   "metadata": {},
   "outputs": [],
   "source": [
    "multiprocessing.cpu_count()"
   ]
  },
  {
   "cell_type": "markdown",
   "id": "a5a51607-e768-4314-939b-d59068863e5d",
   "metadata": {},
   "source": [
    "# Preload which barcodes to use..."
   ]
  },
  {
   "cell_type": "code",
   "execution_count": null,
   "id": "2a707e5c-8b77-4952-91af-c3f90802dfae",
   "metadata": {},
   "outputs": [],
   "source": [
    "barcodes_list_path = '/projects/ps-yeolab3/ekofman/Sammi/MouseBrainEF1A_SingleCell_EPR_batch2/cellranger/results/ms_hippo_stamp_EIF4A_batch2/outs/filtered_feature_bc_matrix/barcodes.tsv.gz'"
   ]
  },
  {
   "cell_type": "code",
   "execution_count": null,
   "id": "09215472-0794-47c5-a306-5461de94d169",
   "metadata": {},
   "outputs": [],
   "source": [
    "barcode_whitelist = set(pd.read_csv(barcodes_list_path, names=['barcodes']).barcodes.tolist())"
   ]
  },
  {
   "cell_type": "code",
   "execution_count": null,
   "id": "8b41cb49-f4b4-464f-ae2b-19d808f210e9",
   "metadata": {},
   "outputs": [],
   "source": [
    "len(barcode_whitelist)"
   ]
  },
  {
   "cell_type": "markdown",
   "id": "72010a82-87a7-4198-aa66-79f57ad70337",
   "metadata": {},
   "source": [
    "# ~~~~~~~~~~~~~~~~~~\n",
    "# Multi-processing enabled\n",
    "# ~~~~~~~~~~~~~~~~~~"
   ]
  },
  {
   "cell_type": "markdown",
   "id": "df7166d4-3f54-4108-abb8-e978f704727a",
   "metadata": {},
   "source": [
    "# An example on a full 10x bam"
   ]
  },
  {
   "cell_type": "markdown",
   "id": "d5962296-f5be-4c0f-8323-74f591d58dea",
   "metadata": {},
   "source": [
    "#### in 10X's bam file, xf=25 means that read is uniquely mapped to a genome, and was used for counting UMI. So we should only look at reads with xf=25 from the 10X bam."
   ]
  },
  {
   "cell_type": "code",
   "execution_count": null,
   "id": "fba3a6f1-60ab-4ec3-9f17-a59ab8d4bbed",
   "metadata": {},
   "outputs": [],
   "source": [
    "#bampath = '/projects/ps-yeolab5/ekofman/Sammi/MouseBrainEF1A_SingleCell_EPR_batch2/filtered_possorted_ms_hippo_stamp_bam/filtered_keep_xf25_possorted_genome_with_header.bam_MD.bam'\n",
    "bampath = '/projects/ps-yeolab3/ekofman/sailor2/data/groups_0_1_2_3_4_5_6_7_8_9_10_11_merged.bam'\n",
    "\n",
    "samfile = pysam.AlignmentFile(bampath, \"rb\")\n",
    "samfile_header = str(samfile.header)\n",
    "\n",
    "output_folder = '/projects/ps-yeolab3/ekofman/sailor2/scripts/full_test-highmem_bccontig-subset'\n",
    "#output_folder = '/projects/ps-yeolab3/ekofman/sailor2/scripts/full_test-highmem_bccontig'\n",
    "\n",
    "# Print info?\n",
    "verbose = False \n",
    "\n",
    "\n",
    "# How many subcontigs to split each contig into to leverage multi-processing\n",
    "num_intervals_per_contig = 16"
   ]
  },
  {
   "cell_type": "markdown",
   "id": "8e80d3e0-398f-49e2-bf55-281a9621698f",
   "metadata": {},
   "source": [
    "# Go through every read and identify all edits"
   ]
  },
  {
   "cell_type": "code",
   "execution_count": null,
   "id": "5481bde1-a0e7-43b6-8699-1043a6d7cae3",
   "metadata": {
    "scrolled": true,
    "tags": []
   },
   "outputs": [],
   "source": [
    "\n",
    "\n",
    "overall_label_to_list_of_contents, results, overall_time, overall_total_reads, total_seconds_for_reads = run_edit_identifier(\n",
    "    bampath, \n",
    "    output_folder, \n",
    "    barcode_whitelist,\n",
    "    contigs=['1', '2'],\n",
    "    num_intervals_per_contig=num_intervals_per_contig, \n",
    "    verbose=verbose)\n"
   ]
  },
  {
   "cell_type": "code",
   "execution_count": null,
   "id": "df0f1977-a6e9-4653-97ef-fb2afa07ad19",
   "metadata": {},
   "outputs": [],
   "source": [
    "print(\"Total time: {} seconds\".format(overall_time))\n",
    "print(\"Total time: {} minutes\".format(overall_time/60))"
   ]
  },
  {
   "cell_type": "markdown",
   "id": "74036ccf-01c5-49d3-8bcd-6bbca94f8a49",
   "metadata": {},
   "source": [
    "Memory: 230 Gigabytes"
   ]
  },
  {
   "cell_type": "markdown",
   "id": "1f7ad726-4045-4229-ae90-369ae6327f06",
   "metadata": {},
   "source": [
    "# More helper functions"
   ]
  },
  {
   "cell_type": "markdown",
   "id": "75188cf5-e1f2-4390-ba25-541e0f7b2800",
   "metadata": {},
   "source": [
    "# Combine all of the reads (string representation) for each barcode\n",
    "## Groups the results from each sub-contig segment above, for example the reads from the first half of chr1 and those from the second half."
   ]
  },
  {
   "cell_type": "markdown",
   "id": "de1e54ea-2fa1-4202-8825-3f2d28143f16",
   "metadata": {},
   "source": [
    "### which finished?"
   ]
  },
  {
   "cell_type": "code",
   "execution_count": null,
   "id": "a604636b-e446-40a0-a57d-b60dc5906ead",
   "metadata": {},
   "outputs": [],
   "source": [
    "# Make a subfolder into which the split bams will be placed\n",
    "split_bams_folder = '{}/split_bams'.format(output_folder)\n",
    "make_folder(split_bams_folder)\n",
    "    "
   ]
  },
  {
   "cell_type": "code",
   "execution_count": null,
   "id": "811f575f-49ab-40a3-99f5-cfcf2518f4f8",
   "metadata": {},
   "outputs": [],
   "source": [
    "from glob import glob\n",
    "\n",
    "contigs_to_generate_bams_for = get_contigs_that_need_bams_written(overall_label_to_list_of_contents, split_bams_folder)"
   ]
  },
  {
   "cell_type": "code",
   "execution_count": null,
   "id": "b65cdbe5-45a2-4c66-90c7-d783a673cab5",
   "metadata": {},
   "outputs": [],
   "source": [
    "contigs_to_generate_bams_for"
   ]
  },
  {
   "cell_type": "markdown",
   "id": "8134fb0e-6dd2-4348-9848-ee1cf666cd3b",
   "metadata": {},
   "source": [
    "### Generate list of jobs to be multiprocessed"
   ]
  },
  {
   "cell_type": "code",
   "execution_count": null,
   "id": "6589a91c-43b3-44eb-9a06-ae430dba3c3b",
   "metadata": {
    "scrolled": true,
    "tags": []
   },
   "outputs": [],
   "source": [
    "from collections import OrderedDict\n",
    "import time\n",
    "\n"
   ]
  },
  {
   "cell_type": "code",
   "execution_count": null,
   "id": "1270488a-1a6b-4f96-88ba-440d78926cbc",
   "metadata": {},
   "outputs": [],
   "source": [
    "total_bam_generation_time = run_bam_reconfiguration(split_bams_folder, bampath, overall_label_to_list_of_contents, contigs_to_generate_bams_for)"
   ]
  },
  {
   "cell_type": "code",
   "execution_count": null,
   "id": "d100d6c4-3e3f-46a8-8bdf-6f6e45bad65d",
   "metadata": {},
   "outputs": [],
   "source": [
    "print(\"Total time to concat and write bams: {} minutes\".format(round(total_bam_generation_time/60)))"
   ]
  },
  {
   "cell_type": "markdown",
   "id": "b9e49151-ba3c-40a4-9290-3d8360753d96",
   "metadata": {},
   "source": [
    "# Second loop to get coverage at sites with edits"
   ]
  },
  {
   "cell_type": "code",
   "execution_count": 1,
   "id": "7ab82bcb-c420-41d2-bd70-95f3958f54fc",
   "metadata": {
    "scrolled": true,
    "tags": []
   },
   "outputs": [],
   "source": [
    "from glob import glob\n",
    "import os\n",
    "import sys\n",
    "from collections import defaultdict\n",
    "import pandas as pd\n",
    "import polars as pl\n",
    "from multiprocessing import get_context\n",
    "import time\n",
    "from multiprocessing import Pool\n",
    "import multiprocessing\n",
    "from tqdm import tqdm\n",
    "import numpy as np\n",
    "\n",
    "\n",
    "\n",
    "directory_path = os.path.abspath(os.path.join('../src/'))\n",
    "if directory_path not in sys.path:\n",
    "    sys.path.append(directory_path)\n",
    "    \n",
    "from utils import get_edit_info_for_barcode_in_contig_wrapper\n",
    "\n",
    "from core import gather_edit_information_across_subcontigs, run_coverage_calculator\n",
    "\n",
    "output_folder = '/projects/ps-yeolab3/ekofman/sailor2/scripts/full_test-highmem_bccontig-subset'\n",
    "#output_folder = '/projects/ps-yeolab3/ekofman/sailor2/scripts/full_test-highmem_bccontig'\n"
   ]
  },
  {
   "cell_type": "markdown",
   "id": "bf7b58ee-46a1-41e1-b3d5-d1aa4959975f",
   "metadata": {},
   "source": [
    "### Gather the edit information generated for each subcontig, and group by contig so we only have 1 edit information dataframe to process per contig"
   ]
  },
  {
   "cell_type": "code",
   "execution_count": 2,
   "id": "1edde53e-7c76-4452-b801-1ac7a5dc9260",
   "metadata": {
    "scrolled": true,
    "tags": []
   },
   "outputs": [
    {
     "name": "stdout",
     "output_type": "stream",
     "text": [
      "Grouping edit information outputs by contig...\n",
      "\t0/32...\n",
      "\t10/32...\n",
      "\t20/32...\n",
      "\t30/32...\n",
      "Done grouping! Concatenating ...\n",
      "Done concatenating!\n"
     ]
    }
   ],
   "source": [
    "edit_info_grouped_per_contig_combined = gather_edit_information_across_subcontigs(output_folder)"
   ]
  },
  {
   "cell_type": "markdown",
   "id": "0a5ef51b-eeba-4fb5-a716-3d6cd204c1b6",
   "metadata": {},
   "source": [
    "### Get coverage at edit positions for each contig"
   ]
  },
  {
   "cell_type": "markdown",
   "id": "a308e9a5-013e-4fa4-aa29-504abd72e80b",
   "metadata": {},
   "source": [
    "##### Merge across contigs for each barcode???"
   ]
  },
  {
   "cell_type": "markdown",
   "id": "1e0cf169-59d3-4c5e-857f-044d1693ddc5",
   "metadata": {},
   "source": [
    "### This is going at rate of 1 items per seconds... which would take several hours..."
   ]
  },
  {
   "cell_type": "code",
   "execution_count": 3,
   "id": "5851efc7-2766-4666-b426-a1ab243db920",
   "metadata": {
    "scrolled": true,
    "tags": []
   },
   "outputs": [
    {
     "name": "stderr",
     "output_type": "stream",
     "text": [
      "100%|█████████████████████████████████████████████| 8/8 [00:54<00:00,  6.77s/it]"
     ]
    },
    {
     "name": "stdout",
     "output_type": "stream",
     "text": [
      "Contig 1_A. Loading /projects/ps-yeolab3/ekofman/sailor2/scripts/full_test-highmem_bccontig-subset/split_bams/1_A/1_A.bam.sorted.bam bamfile...\n",
      "Contig 1_A. Loaded bamfile...\n",
      "Contig 1_A. Iterating through barcodes...\n",
      "0/393 barcodes for 1_A...\n",
      "300/393 barcodes for 1_A...\n",
      "Contig 1_C. Loading /projects/ps-yeolab3/ekofman/sailor2/scripts/full_test-highmem_bccontig-subset/split_bams/1_C/1_C.bam.sorted.bam bamfile...\n",
      "Contig 1_C. Loaded bamfile...\n",
      "Contig 1_C. Iterating through barcodes...\n",
      "0/343 barcodes for 1_C...\n",
      "300/343 barcodes for 1_C...\n",
      "Contig 1_T. Loading /projects/ps-yeolab3/ekofman/sailor2/scripts/full_test-highmem_bccontig-subset/split_bams/1_T/1_T.bam.sorted.bam bamfile...\n",
      "Contig 1_T. Loaded bamfile...\n",
      "Contig 1_T. Iterating through barcodes...\n",
      "0/380 barcodes for 1_T...\n",
      "300/380 barcodes for 1_T...\n",
      "Contig 1_G. Loading /projects/ps-yeolab3/ekofman/sailor2/scripts/full_test-highmem_bccontig-subset/split_bams/1_G/1_G.bam.sorted.bam bamfile...\n",
      "Contig 1_G. Loaded bamfile...\n",
      "Contig 1_G. Iterating through barcodes...\n",
      "0/383 barcodes for 1_G...\n",
      "300/383 barcodes for 1_G...\n",
      "Contig 2_A. Loading /projects/ps-yeolab3/ekofman/sailor2/scripts/full_test-highmem_bccontig-subset/split_bams/2_A/2_A.bam.sorted.bam bamfile...\n",
      "Contig 2_A. Loaded bamfile...\n",
      "Contig 2_A. Iterating through barcodes...\n",
      "0/394 barcodes for 2_A...\n",
      "300/394 barcodes for 2_A...\n",
      "Contig 2_C. Loading /projects/ps-yeolab3/ekofman/sailor2/scripts/full_test-highmem_bccontig-subset/split_bams/2_C/2_C.bam.sorted.bam bamfile...\n",
      "Contig 2_C. Loaded bamfile...\n",
      "Contig 2_C. Iterating through barcodes...\n",
      "0/343 barcodes for 2_C...\n",
      "300/343 barcodes for 2_C...\n",
      "Contig 2_T. Loading /projects/ps-yeolab3/ekofman/sailor2/scripts/full_test-highmem_bccontig-subset/split_bams/2_T/2_T.bam.sorted.bam bamfile...\n",
      "Contig 2_T. Loaded bamfile...\n",
      "Contig 2_T. Iterating through barcodes...\n",
      "0/380 barcodes for 2_T...\n",
      "300/380 barcodes for 2_T...\n"
     ]
    },
    {
     "name": "stderr",
     "output_type": "stream",
     "text": [
      "\n"
     ]
    }
   ],
   "source": [
    "\n",
    "results, total_time = run_coverage_calculator(edit_info_grouped_per_contig_combined, output_folder)"
   ]
  },
  {
   "cell_type": "code",
   "execution_count": 4,
   "id": "fd648239-8132-4ed1-b324-09e03b198a6e",
   "metadata": {},
   "outputs": [
    {
     "name": "stdout",
     "output_type": "stream",
     "text": [
      "0.9164288566758235\n"
     ]
    }
   ],
   "source": [
    "print(total_time/60)"
   ]
  },
  {
   "cell_type": "code",
   "execution_count": 5,
   "id": "f3805e7b-42f5-4798-a7c9-861fca4d21d1",
   "metadata": {},
   "outputs": [
    {
     "data": {
      "text/plain": [
       "8"
      ]
     },
     "execution_count": 5,
     "metadata": {},
     "output_type": "execute_result"
    }
   ],
   "source": [
    "len(results)"
   ]
  },
  {
   "cell_type": "code",
   "execution_count": 6,
   "id": "f7caa846-b0c5-4783-b7b7-984d8f8658ae",
   "metadata": {},
   "outputs": [],
   "source": [
    "all_edit_info = pd.concat(results)"
   ]
  },
  {
   "cell_type": "code",
   "execution_count": 7,
   "id": "db2a715e-4012-424d-9e0b-29a889fb48c9",
   "metadata": {},
   "outputs": [
    {
     "data": {
      "text/html": [
       "<div>\n",
       "<style scoped>\n",
       "    .dataframe tbody tr th:only-of-type {\n",
       "        vertical-align: middle;\n",
       "    }\n",
       "\n",
       "    .dataframe tbody tr th {\n",
       "        vertical-align: top;\n",
       "    }\n",
       "\n",
       "    .dataframe thead th {\n",
       "        text-align: right;\n",
       "    }\n",
       "</style>\n",
       "<table border=\"1\" class=\"dataframe\">\n",
       "  <thead>\n",
       "    <tr style=\"text-align: right;\">\n",
       "      <th></th>\n",
       "      <th></th>\n",
       "      <th>barcode</th>\n",
       "      <th>contig</th>\n",
       "      <th>position</th>\n",
       "      <th>read_id</th>\n",
       "      <th>strand</th>\n",
       "      <th>dist_from_end</th>\n",
       "      <th>base_quality</th>\n",
       "      <th>mapping_quality</th>\n",
       "      <th>barcode_position</th>\n",
       "      <th>coverage</th>\n",
       "    </tr>\n",
       "    <tr>\n",
       "      <th>ref</th>\n",
       "      <th>alt</th>\n",
       "      <th></th>\n",
       "      <th></th>\n",
       "      <th></th>\n",
       "      <th></th>\n",
       "      <th></th>\n",
       "      <th></th>\n",
       "      <th></th>\n",
       "      <th></th>\n",
       "      <th></th>\n",
       "      <th></th>\n",
       "    </tr>\n",
       "  </thead>\n",
       "  <tbody>\n",
       "    <tr>\n",
       "      <th rowspan=\"4\" valign=\"top\">A</th>\n",
       "      <th>C</th>\n",
       "      <td>39124</td>\n",
       "      <td>39124</td>\n",
       "      <td>39124</td>\n",
       "      <td>39124</td>\n",
       "      <td>39124</td>\n",
       "      <td>39124</td>\n",
       "      <td>39124</td>\n",
       "      <td>39124</td>\n",
       "      <td>39124</td>\n",
       "      <td>39124</td>\n",
       "    </tr>\n",
       "    <tr>\n",
       "      <th>G</th>\n",
       "      <td>26570</td>\n",
       "      <td>26570</td>\n",
       "      <td>26570</td>\n",
       "      <td>26570</td>\n",
       "      <td>26570</td>\n",
       "      <td>26570</td>\n",
       "      <td>26570</td>\n",
       "      <td>26570</td>\n",
       "      <td>26570</td>\n",
       "      <td>26570</td>\n",
       "    </tr>\n",
       "    <tr>\n",
       "      <th>N</th>\n",
       "      <td>355</td>\n",
       "      <td>355</td>\n",
       "      <td>355</td>\n",
       "      <td>355</td>\n",
       "      <td>355</td>\n",
       "      <td>355</td>\n",
       "      <td>355</td>\n",
       "      <td>355</td>\n",
       "      <td>355</td>\n",
       "      <td>355</td>\n",
       "    </tr>\n",
       "    <tr>\n",
       "      <th>T</th>\n",
       "      <td>13808</td>\n",
       "      <td>13808</td>\n",
       "      <td>13808</td>\n",
       "      <td>13808</td>\n",
       "      <td>13808</td>\n",
       "      <td>13808</td>\n",
       "      <td>13808</td>\n",
       "      <td>13808</td>\n",
       "      <td>13808</td>\n",
       "      <td>13808</td>\n",
       "    </tr>\n",
       "    <tr>\n",
       "      <th rowspan=\"4\" valign=\"top\">C</th>\n",
       "      <th>A</th>\n",
       "      <td>66684</td>\n",
       "      <td>66684</td>\n",
       "      <td>66684</td>\n",
       "      <td>66684</td>\n",
       "      <td>66684</td>\n",
       "      <td>66684</td>\n",
       "      <td>66684</td>\n",
       "      <td>66684</td>\n",
       "      <td>66684</td>\n",
       "      <td>66684</td>\n",
       "    </tr>\n",
       "    <tr>\n",
       "      <th>G</th>\n",
       "      <td>10246</td>\n",
       "      <td>10246</td>\n",
       "      <td>10246</td>\n",
       "      <td>10246</td>\n",
       "      <td>10246</td>\n",
       "      <td>10246</td>\n",
       "      <td>10246</td>\n",
       "      <td>10246</td>\n",
       "      <td>10246</td>\n",
       "      <td>10246</td>\n",
       "    </tr>\n",
       "    <tr>\n",
       "      <th>N</th>\n",
       "      <td>260</td>\n",
       "      <td>260</td>\n",
       "      <td>260</td>\n",
       "      <td>260</td>\n",
       "      <td>260</td>\n",
       "      <td>260</td>\n",
       "      <td>260</td>\n",
       "      <td>260</td>\n",
       "      <td>260</td>\n",
       "      <td>260</td>\n",
       "    </tr>\n",
       "    <tr>\n",
       "      <th>T</th>\n",
       "      <td>55426</td>\n",
       "      <td>55426</td>\n",
       "      <td>55426</td>\n",
       "      <td>55426</td>\n",
       "      <td>55426</td>\n",
       "      <td>55426</td>\n",
       "      <td>55426</td>\n",
       "      <td>55426</td>\n",
       "      <td>55426</td>\n",
       "      <td>55426</td>\n",
       "    </tr>\n",
       "    <tr>\n",
       "      <th rowspan=\"4\" valign=\"top\">G</th>\n",
       "      <th>A</th>\n",
       "      <td>22729</td>\n",
       "      <td>22729</td>\n",
       "      <td>22729</td>\n",
       "      <td>22729</td>\n",
       "      <td>22729</td>\n",
       "      <td>22729</td>\n",
       "      <td>22729</td>\n",
       "      <td>22729</td>\n",
       "      <td>22729</td>\n",
       "      <td>22729</td>\n",
       "    </tr>\n",
       "    <tr>\n",
       "      <th>C</th>\n",
       "      <td>13978</td>\n",
       "      <td>13978</td>\n",
       "      <td>13978</td>\n",
       "      <td>13978</td>\n",
       "      <td>13978</td>\n",
       "      <td>13978</td>\n",
       "      <td>13978</td>\n",
       "      <td>13978</td>\n",
       "      <td>13978</td>\n",
       "      <td>13978</td>\n",
       "    </tr>\n",
       "    <tr>\n",
       "      <th>N</th>\n",
       "      <td>261</td>\n",
       "      <td>261</td>\n",
       "      <td>261</td>\n",
       "      <td>261</td>\n",
       "      <td>261</td>\n",
       "      <td>261</td>\n",
       "      <td>261</td>\n",
       "      <td>261</td>\n",
       "      <td>261</td>\n",
       "      <td>261</td>\n",
       "    </tr>\n",
       "    <tr>\n",
       "      <th>T</th>\n",
       "      <td>42215</td>\n",
       "      <td>42215</td>\n",
       "      <td>42215</td>\n",
       "      <td>42215</td>\n",
       "      <td>42215</td>\n",
       "      <td>42215</td>\n",
       "      <td>42215</td>\n",
       "      <td>42215</td>\n",
       "      <td>42215</td>\n",
       "      <td>42215</td>\n",
       "    </tr>\n",
       "    <tr>\n",
       "      <th rowspan=\"4\" valign=\"top\">T</th>\n",
       "      <th>A</th>\n",
       "      <td>76711</td>\n",
       "      <td>76711</td>\n",
       "      <td>76711</td>\n",
       "      <td>76711</td>\n",
       "      <td>76711</td>\n",
       "      <td>76711</td>\n",
       "      <td>76711</td>\n",
       "      <td>76711</td>\n",
       "      <td>76711</td>\n",
       "      <td>76711</td>\n",
       "    </tr>\n",
       "    <tr>\n",
       "      <th>C</th>\n",
       "      <td>18994</td>\n",
       "      <td>18994</td>\n",
       "      <td>18994</td>\n",
       "      <td>18994</td>\n",
       "      <td>18994</td>\n",
       "      <td>18994</td>\n",
       "      <td>18994</td>\n",
       "      <td>18994</td>\n",
       "      <td>18994</td>\n",
       "      <td>18994</td>\n",
       "    </tr>\n",
       "    <tr>\n",
       "      <th>G</th>\n",
       "      <td>40610</td>\n",
       "      <td>40610</td>\n",
       "      <td>40610</td>\n",
       "      <td>40610</td>\n",
       "      <td>40610</td>\n",
       "      <td>40610</td>\n",
       "      <td>40610</td>\n",
       "      <td>40610</td>\n",
       "      <td>40610</td>\n",
       "      <td>40610</td>\n",
       "    </tr>\n",
       "    <tr>\n",
       "      <th>N</th>\n",
       "      <td>335</td>\n",
       "      <td>335</td>\n",
       "      <td>335</td>\n",
       "      <td>335</td>\n",
       "      <td>335</td>\n",
       "      <td>335</td>\n",
       "      <td>335</td>\n",
       "      <td>335</td>\n",
       "      <td>335</td>\n",
       "      <td>335</td>\n",
       "    </tr>\n",
       "  </tbody>\n",
       "</table>\n",
       "</div>"
      ],
      "text/plain": [
       "         barcode  contig  position  read_id  strand  dist_from_end  \\\n",
       "ref alt                                                              \n",
       "A   C      39124   39124     39124    39124   39124          39124   \n",
       "    G      26570   26570     26570    26570   26570          26570   \n",
       "    N        355     355       355      355     355            355   \n",
       "    T      13808   13808     13808    13808   13808          13808   \n",
       "C   A      66684   66684     66684    66684   66684          66684   \n",
       "    G      10246   10246     10246    10246   10246          10246   \n",
       "    N        260     260       260      260     260            260   \n",
       "    T      55426   55426     55426    55426   55426          55426   \n",
       "G   A      22729   22729     22729    22729   22729          22729   \n",
       "    C      13978   13978     13978    13978   13978          13978   \n",
       "    N        261     261       261      261     261            261   \n",
       "    T      42215   42215     42215    42215   42215          42215   \n",
       "T   A      76711   76711     76711    76711   76711          76711   \n",
       "    C      18994   18994     18994    18994   18994          18994   \n",
       "    G      40610   40610     40610    40610   40610          40610   \n",
       "    N        335     335       335      335     335            335   \n",
       "\n",
       "         base_quality  mapping_quality  barcode_position  coverage  \n",
       "ref alt                                                             \n",
       "A   C           39124            39124             39124     39124  \n",
       "    G           26570            26570             26570     26570  \n",
       "    N             355              355               355       355  \n",
       "    T           13808            13808             13808     13808  \n",
       "C   A           66684            66684             66684     66684  \n",
       "    G           10246            10246             10246     10246  \n",
       "    N             260              260               260       260  \n",
       "    T           55426            55426             55426     55426  \n",
       "G   A           22729            22729             22729     22729  \n",
       "    C           13978            13978             13978     13978  \n",
       "    N             261              261               261       261  \n",
       "    T           42215            42215             42215     42215  \n",
       "T   A           76711            76711             76711     76711  \n",
       "    C           18994            18994             18994     18994  \n",
       "    G           40610            40610             40610     40610  \n",
       "    N             335              335               335       335  "
      ]
     },
     "execution_count": 7,
     "metadata": {},
     "output_type": "execute_result"
    }
   ],
   "source": [
    "all_edit_info.groupby(['ref', 'alt']).count()\n"
   ]
  },
  {
   "cell_type": "code",
   "execution_count": 8,
   "id": "6aaff01c-6a85-4ff6-a52c-6dd18c63f3cd",
   "metadata": {},
   "outputs": [
    {
     "data": {
      "text/plain": [
       "0.9164288566758235"
      ]
     },
     "execution_count": 8,
     "metadata": {},
     "output_type": "execute_result"
    }
   ],
   "source": [
    "total_time/60"
   ]
  },
  {
   "cell_type": "code",
   "execution_count": 9,
   "id": "c5647b4f-4dc5-40fc-b772-6007f8ccbfa3",
   "metadata": {},
   "outputs": [],
   "source": [
    "all_edit_info.to_csv('{}/all_edit_info.tsv'.format(output_folder), sep='\\t')"
   ]
  },
  {
   "cell_type": "markdown",
   "id": "c8620db3-658d-4e62-a352-302ce84c4c8c",
   "metadata": {},
   "source": [
    "# Group by site to get final total edit and coverage counts at each site"
   ]
  },
  {
   "cell_type": "code",
   "execution_count": null,
   "id": "d3a344ca-998d-415b-a508-42e9bd405d9f",
   "metadata": {},
   "outputs": [],
   "source": [
    "all_edit_info.head()\n"
   ]
  },
  {
   "cell_type": "markdown",
   "id": "f03097c3-ad74-474b-8af6-921e9fc031e0",
   "metadata": {},
   "source": [
    "# Verify C>T ratios"
   ]
  },
  {
   "cell_type": "code",
   "execution_count": null,
   "id": "999ddfc7-f83d-4cb8-afc3-2b0861674233",
   "metadata": {},
   "outputs": [],
   "source": [
    "all_edit_info.groupby(['ref', 'alt']).count()\n"
   ]
  },
  {
   "cell_type": "code",
   "execution_count": null,
   "id": "803f5b24-4714-4309-a08b-9b9445218c64",
   "metadata": {},
   "outputs": [],
   "source": [
    "all_edit_info.groupby(['ref', 'alt']).count().plot(kind='barh', legend=False)\n",
    "plt.title(\"All edits\")\n",
    "\n",
    "base_quality_thresh = 15\n",
    "all_edit_info[all_edit_info.base_quality > base_quality_thresh].groupby(['ref', 'alt']).count().plot(kind='barh', legend=False)\n",
    "plt.title(\"Edits with base quality > {}\".format(base_quality_thresh))\n",
    "\n",
    "all_edit_info_filtered = all_edit_info[all_edit_info.base_quality > base_quality_thresh]\n"
   ]
  },
  {
   "cell_type": "code",
   "execution_count": null,
   "id": "7a97fbec-9329-4c9c-8c9b-a785a8ae376c",
   "metadata": {},
   "outputs": [],
   "source": [
    "example_new_ct =  all_edit_info_filtered[(all_edit_info_filtered.ref == 'C') & (all_edit_info_filtered.alt == 'T')].sort_values('position')"
   ]
  },
  {
   "cell_type": "code",
   "execution_count": null,
   "id": "e9b3fdc3-7fab-448f-a9e9-52cbab695e2b",
   "metadata": {},
   "outputs": [],
   "source": [
    "len(example_new_ct)"
   ]
  },
  {
   "cell_type": "code",
   "execution_count": null,
   "id": "7be865e2-f294-4152-ae0b-85d24509a1d5",
   "metadata": {},
   "outputs": [],
   "source": [
    "example_new_ct"
   ]
  },
  {
   "cell_type": "markdown",
   "id": "5dc30c7f-73aa-4be6-83a7-ff2a2072d602",
   "metadata": {},
   "source": [
    "# Cells that do have STAMP expressed versus don't...?"
   ]
  },
  {
   "cell_type": "code",
   "execution_count": null,
   "id": "bc7ee3ff-374f-4a6e-8ab7-0b1e1311c07d",
   "metadata": {},
   "outputs": [],
   "source": [
    "stamp_expression_path = \\\n",
    "'/projects/ps-yeolab3/ekofman/Sammi/MouseBrainEF1A_SingleCell_EPR_combined/\\\n",
    "4.1_cells_with_middling_stamp/stamp_expression_for_all_used_cells.tsv'"
   ]
  },
  {
   "cell_type": "code",
   "execution_count": null,
   "id": "f2684ed2-1146-4e4c-9b4d-186865d6e4aa",
   "metadata": {},
   "outputs": [],
   "source": [
    "stamp_expression_df = pd.read_csv(stamp_expression_path, sep='\\t', index_col=0)"
   ]
  },
  {
   "cell_type": "code",
   "execution_count": null,
   "id": "093153f4-7d3a-4a04-bf6d-ee855e23a02f",
   "metadata": {},
   "outputs": [],
   "source": [
    "stamp_expression_df.Stamp.hist(bins=50)"
   ]
  },
  {
   "cell_type": "code",
   "execution_count": null,
   "id": "af056065-287e-4639-bc12-6f2e83468b56",
   "metadata": {},
   "outputs": [],
   "source": [
    "all_edit_info_filtered['edit'] = all_edit_info_filtered['ref'] + '>' + all_edit_info_filtered['alt']"
   ]
  },
  {
   "cell_type": "code",
   "execution_count": null,
   "id": "26edccde-cad7-48fe-ab64-20d91bcf8844",
   "metadata": {
    "scrolled": true,
    "tags": []
   },
   "outputs": [],
   "source": [
    "fractions_ct = []\n",
    "threshs = [0, 0.5, 1, 2, 3, 4, 5, 6, 6.5, 6.6]\n",
    "for thresh in threshs:\n",
    "    print(thresh)\n",
    "    barcodes_at_stamp_thresh = stamp_expression_df[stamp_expression_df.Stamp > thresh].index\n",
    "    \n",
    "    all_edit_info_filtered_in_stamp_level = all_edit_info_filtered[\n",
    "        all_edit_info_filtered.barcode.isin(barcodes_at_stamp_thresh)]\n",
    "    \n",
    "    all_edit_info_filtered_in_stamp_level.groupby(['ref', 'alt']).count().plot(kind='barh', legend=False)\n",
    "    plt.title(\"Edit Type Distribution for Cells with STAMP expression above {}\".format(thresh))\n",
    "    \n",
    "    fraction_ct = len(all_edit_info_filtered_in_stamp_level[all_edit_info_filtered_in_stamp_level['edit'] == 'C>T'])/len(all_edit_info_filtered_in_stamp_level)\n",
    "    fractions_ct.append(fraction_ct)\n",
    "    \n",
    "    "
   ]
  },
  {
   "cell_type": "code",
   "execution_count": null,
   "id": "01e6b127-1356-40c4-b700-02c31a0c5266",
   "metadata": {},
   "outputs": [],
   "source": [
    "plt.plot(threshs, fractions_ct)\n",
    "plt.ylabel(\"Fraction of total edits that are C>T\")\n",
    "plt.xlabel(\"STAMP expression minimum\")\n",
    "plt.title(\"Enrichment for C>T edits within cells filtered by STAMP threshold\")"
   ]
  },
  {
   "cell_type": "code",
   "execution_count": null,
   "id": "f8800507-1d95-4bb6-94a8-9c0ec7de29fb",
   "metadata": {
    "scrolled": true,
    "tags": []
   },
   "outputs": [],
   "source": [
    "fractions_ct_low = []\n",
    "threshs = [1, 2, 3, 4, 5, 6, 6.5, 6.6]\n",
    "for thresh in threshs:\n",
    "    print(thresh)\n",
    "    barcodes_at_stamp_thresh = stamp_expression_df[stamp_expression_df.Stamp < thresh].index\n",
    "    \n",
    "    all_edit_info_filtered_in_stamp_level = all_edit_info_filtered[\n",
    "        all_edit_info_filtered.barcode.isin(barcodes_at_stamp_thresh)]\n",
    "    \n",
    "    all_edit_info_filtered_in_stamp_level.groupby(['ref', 'alt']).count().plot(kind='barh', legend=False)\n",
    "    plt.title(\"Edit Type Distribution for Cells with STAMP expression below {}\".format(thresh))\n",
    "    \n",
    "    fraction_ct = len(all_edit_info_filtered_in_stamp_level[all_edit_info_filtered_in_stamp_level['edit'] == 'C>T'])/len(all_edit_info_filtered_in_stamp_level)\n",
    "    fractions_ct_low.append(fraction_ct)"
   ]
  },
  {
   "cell_type": "code",
   "execution_count": null,
   "id": "46bc326f-a695-41f6-bafb-5daf952a4dd8",
   "metadata": {},
   "outputs": [],
   "source": [
    "plt.plot(threshs, fractions_ct_low)\n",
    "plt.ylabel(\"Fraction of total edits that are C>T\")\n",
    "plt.xlabel(\"STAMP expression maximum\")\n",
    "plt.title(\"Enrichment for C>T edits within cells filtered by STAMP threshold\")"
   ]
  },
  {
   "cell_type": "code",
   "execution_count": null,
   "id": "c71e31ad-c7fb-4c3d-b1f2-84ed484cb525",
   "metadata": {},
   "outputs": [],
   "source": []
  }
 ],
 "metadata": {
  "kernelspec": {
   "display_name": "py38_kernel",
   "language": "python",
   "name": "py38_kernel"
  },
  "language_info": {
   "codemirror_mode": {
    "name": "ipython",
    "version": 3
   },
   "file_extension": ".py",
   "mimetype": "text/x-python",
   "name": "python",
   "nbconvert_exporter": "python",
   "pygments_lexer": "ipython3",
   "version": "3.8.18"
  }
 },
 "nbformat": 4,
 "nbformat_minor": 5
}
