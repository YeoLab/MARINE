{
 "cells": [
  {
   "cell_type": "code",
   "execution_count": 1,
   "id": "834c9266-dd67-464d-b30d-eb56aee77724",
   "metadata": {},
   "outputs": [],
   "source": [
    "import pysam\n",
    "import os\n",
    "import sys\n",
    "from sys import getsizeof\n",
    "import time\n",
    "import pandas as pd\n",
    "import polars as pl\n",
    "from collections import defaultdict\n",
    "\n",
    "from collections import defaultdict\n",
    "import pandas as pd\n",
    "#from matplotlib import pyplot as plt\n",
    "import numpy as np\n",
    "import time\n",
    "from multiprocessing import Pool\n",
    "import multiprocessing\n",
    "from tqdm import tqdm\n",
    "\n",
    "\n",
    "from glob import glob\n",
    "\n",
    "directory_path = os.path.abspath(os.path.join('../src/'))\n",
    "if directory_path not in sys.path:\n",
    "    sys.path.append(directory_path)\n",
    "    \n",
    "from read_process import incorporate_replaced_pos_info,incorporate_insertions_and_deletions,\\\n",
    "get_positions_from_md_tag,reverse_complement,get_edit_information,get_edit_information_wrapper,\\\n",
    "has_edits,get_total_coverage_for_contig_at_position,\\\n",
    "print_read_info, update_coverage_array, get_read_information, get_hamming_distance, remove_softclipped_bases,find\n",
    "\n",
    "from utils import get_contigs_that_need_bams_written, get_contig_lengths_dict, get_intervals, index_bam, write_rows_to_info_file, write_header_to_edit_info, \\\n",
    "write_read_to_bam_file, remove_file_if_exists, make_folder, concat_and_write_bams_wrapper, make_edit_finding_jobs\n",
    "\n",
    "from core import run_edit_identifier, run_bam_reconfiguration\n",
    "\n",
    "import os, psutil\n"
   ]
  },
  {
   "cell_type": "markdown",
   "id": "a5a51607-e768-4314-939b-d59068863e5d",
   "metadata": {},
   "source": [
    "# Preload which barcodes to use..."
   ]
  },
  {
   "cell_type": "code",
   "execution_count": 2,
   "id": "2a707e5c-8b77-4952-91af-c3f90802dfae",
   "metadata": {},
   "outputs": [],
   "source": [
    "barcodes_list_path = '/projects/ps-yeolab3/ekofman/Sammi/MouseBrainEF1A_SingleCell_EPR_batch2/cellranger/results/ms_hippo_stamp_EIF4A_batch2/outs/filtered_feature_bc_matrix/barcodes.tsv.gz'"
   ]
  },
  {
   "cell_type": "code",
   "execution_count": 3,
   "id": "09215472-0794-47c5-a306-5461de94d169",
   "metadata": {},
   "outputs": [],
   "source": [
    "barcode_whitelist = set(pd.read_csv(barcodes_list_path, names=['barcodes']).barcodes.tolist())"
   ]
  },
  {
   "cell_type": "code",
   "execution_count": 4,
   "id": "8b41cb49-f4b4-464f-ae2b-19d808f210e9",
   "metadata": {},
   "outputs": [
    {
     "data": {
      "text/plain": [
       "39200"
      ]
     },
     "execution_count": 4,
     "metadata": {},
     "output_type": "execute_result"
    }
   ],
   "source": [
    "len(barcode_whitelist)"
   ]
  },
  {
   "cell_type": "markdown",
   "id": "72010a82-87a7-4198-aa66-79f57ad70337",
   "metadata": {},
   "source": [
    "# ~~~~~~~~~~~~~~~~~~\n",
    "# Multi-processing enabled\n",
    "# ~~~~~~~~~~~~~~~~~~"
   ]
  },
  {
   "cell_type": "markdown",
   "id": "df7166d4-3f54-4108-abb8-e978f704727a",
   "metadata": {},
   "source": [
    "# An example on a full 10x bam"
   ]
  },
  {
   "cell_type": "markdown",
   "id": "d5962296-f5be-4c0f-8323-74f591d58dea",
   "metadata": {},
   "source": [
    "#### in 10X's bam file, xf=25 means that read is uniquely mapped to a genome, and was used for counting UMI. So we should only look at reads with xf=25 from the 10X bam."
   ]
  },
  {
   "cell_type": "code",
   "execution_count": 5,
   "id": "fba3a6f1-60ab-4ec3-9f17-a59ab8d4bbed",
   "metadata": {},
   "outputs": [],
   "source": [
    "#bampath = '/projects/ps-yeolab5/ekofman/Sammi/MouseBrainEF1A_SingleCell_EPR_batch2/filtered_possorted_ms_hippo_stamp_bam/filtered_keep_xf25_possorted_genome_with_header.bam_MD.bam'\n",
    "bampath = '/projects/ps-yeolab3/ekofman/sailor2/data/groups_0_1_2_3_4_5_6_7_8_9_10_11_merged.bam'\n",
    "\n",
    "samfile = pysam.AlignmentFile(bampath, \"rb\")\n",
    "samfile_header = str(samfile.header)\n",
    "\n",
    "output_folder = '/projects/ps-yeolab3/ekofman/sailor2/scripts/full_test-highmem_bccontig-subset'\n",
    "#output_folder = '/projects/ps-yeolab3/ekofman/sailor2/scripts/full_test-highmem_bccontig'\n",
    "\n",
    "# Print info?\n",
    "verbose = False \n",
    "\n",
    "\n",
    "# How many subcontigs to split each contig into to leverage multi-processing\n",
    "num_intervals_per_contig = 16"
   ]
  },
  {
   "cell_type": "markdown",
   "id": "8e80d3e0-398f-49e2-bf55-281a9621698f",
   "metadata": {},
   "source": [
    "# Go through every read and identify all edits"
   ]
  },
  {
   "cell_type": "code",
   "execution_count": 6,
   "id": "5481bde1-a0e7-43b6-8699-1043a6d7cae3",
   "metadata": {
    "scrolled": true,
    "tags": []
   },
   "outputs": [
    {
     "name": "stdout",
     "output_type": "stream",
     "text": [
      "\tContig 1\n",
      "\tContig 2\n",
      "32 total jobs\n"
     ]
    },
    {
     "name": "stderr",
     "output_type": "stream",
     "text": [
      "100%|████████████████████████████████████████████████████████████████████████████████| 32/32 [00:07<00:00,  4.39it/s]\n"
     ]
    }
   ],
   "source": [
    "\n",
    "\n",
    "overall_label_to_list_of_contents, results, overall_time, overall_total_reads, total_seconds_for_reads = run_edit_identifier(\n",
    "    bampath, \n",
    "    output_folder, \n",
    "    barcode_whitelist,\n",
    "    contigs=['1', '2'],\n",
    "    num_intervals_per_contig=num_intervals_per_contig, \n",
    "    verbose=verbose)\n"
   ]
  },
  {
   "cell_type": "code",
   "execution_count": 7,
   "id": "df0f1977-a6e9-4653-97ef-fb2afa07ad19",
   "metadata": {},
   "outputs": [
    {
     "name": "stdout",
     "output_type": "stream",
     "text": [
      "Total time: 7.399926118552685 seconds\n",
      "Total time: 0.12333210197587809 minutes\n"
     ]
    }
   ],
   "source": [
    "print(\"Total time: {} seconds\".format(overall_time))\n",
    "print(\"Total time: {} minutes\".format(overall_time/60))"
   ]
  },
  {
   "cell_type": "markdown",
   "id": "74036ccf-01c5-49d3-8bcd-6bbca94f8a49",
   "metadata": {},
   "source": [
    "Memory: 230 Gigabytes"
   ]
  },
  {
   "cell_type": "markdown",
   "id": "1f7ad726-4045-4229-ae90-369ae6327f06",
   "metadata": {},
   "source": [
    "# More helper functions"
   ]
  },
  {
   "cell_type": "markdown",
   "id": "75188cf5-e1f2-4390-ba25-541e0f7b2800",
   "metadata": {},
   "source": [
    "# Combine all of the reads (string representation) for each barcode\n",
    "## Groups the results from each sub-contig segment above, for example the reads from the first half of chr1 and those from the second half."
   ]
  },
  {
   "cell_type": "markdown",
   "id": "de1e54ea-2fa1-4202-8825-3f2d28143f16",
   "metadata": {},
   "source": [
    "### which finished?"
   ]
  },
  {
   "cell_type": "code",
   "execution_count": 8,
   "id": "a604636b-e446-40a0-a57d-b60dc5906ead",
   "metadata": {},
   "outputs": [],
   "source": [
    "# Make a subfolder into which the split bams will be placed\n",
    "split_bams_folder = '{}/split_bams'.format(output_folder)\n",
    "make_folder(split_bams_folder)\n",
    "    "
   ]
  },
  {
   "cell_type": "code",
   "execution_count": 9,
   "id": "811f575f-49ab-40a3-99f5-cfcf2518f4f8",
   "metadata": {},
   "outputs": [],
   "source": [
    "from glob import glob\n",
    "\n",
    "contigs_to_generate_bams_for = get_contigs_that_need_bams_written(overall_label_to_list_of_contents, split_bams_folder)"
   ]
  },
  {
   "cell_type": "code",
   "execution_count": 10,
   "id": "b65cdbe5-45a2-4c66-90c7-d783a673cab5",
   "metadata": {},
   "outputs": [
    {
     "data": {
      "text/plain": [
       "[]"
      ]
     },
     "execution_count": 10,
     "metadata": {},
     "output_type": "execute_result"
    }
   ],
   "source": [
    "contigs_to_generate_bams_for"
   ]
  },
  {
   "cell_type": "markdown",
   "id": "8134fb0e-6dd2-4348-9848-ee1cf666cd3b",
   "metadata": {},
   "source": [
    "### Generate list of jobs to be multiprocessed"
   ]
  },
  {
   "cell_type": "code",
   "execution_count": 11,
   "id": "6589a91c-43b3-44eb-9a06-ae430dba3c3b",
   "metadata": {
    "scrolled": true,
    "tags": []
   },
   "outputs": [],
   "source": [
    "from collections import OrderedDict\n",
    "import time\n",
    "\n"
   ]
  },
  {
   "cell_type": "code",
   "execution_count": 12,
   "id": "1270488a-1a6b-4f96-88ba-440d78926cbc",
   "metadata": {},
   "outputs": [
    {
     "name": "stderr",
     "output_type": "stream",
     "text": [
      "0it [00:00, ?it/s]\n"
     ]
    }
   ],
   "source": [
    "total_bam_generation_time = run_bam_reconfiguration(split_bams_folder, bampath, overall_label_to_list_of_contents, contigs_to_generate_bams_for)"
   ]
  },
  {
   "cell_type": "code",
   "execution_count": 14,
   "id": "d100d6c4-3e3f-46a8-8bdf-6f6e45bad65d",
   "metadata": {},
   "outputs": [
    {
     "name": "stdout",
     "output_type": "stream",
     "text": [
      "Total time to concat and write bams: 0 minutes\n"
     ]
    }
   ],
   "source": [
    "print(\"Total time to concat and write bams: {} minutes\".format(round(total_bam_generation_time/60)))"
   ]
  },
  {
   "cell_type": "markdown",
   "id": "b9e49151-ba3c-40a4-9290-3d8360753d96",
   "metadata": {},
   "source": [
    "# Second loop to get coverage at sites with edits"
   ]
  },
  {
   "cell_type": "code",
   "execution_count": null,
   "id": "7ab82bcb-c420-41d2-bd70-95f3958f54fc",
   "metadata": {
    "scrolled": true,
    "tags": []
   },
   "outputs": [],
   "source": [
    "from glob import glob\n",
    "import os\n",
    "import sys\n",
    "from collections import defaultdict\n",
    "import pandas as pd\n",
    "import polars as pl\n",
    "\n",
    "directory_path = os.path.abspath(os.path.join('../src/'))\n",
    "if directory_path not in sys.path:\n",
    "    sys.path.append(directory_path)\n",
    "    \n",
    "from utils import get_edit_info_for_barcode_in_contig_wrapper\n",
    "\n",
    "#output_folder = '/projects/ps-yeolab3/ekofman/sailor2/scripts/full_test-highmem_bccontig-subset'\n",
    "output_folder = '/projects/ps-yeolab3/ekofman/sailor2/scripts/full_test-highmem_bccontig'\n",
    "\n",
    "\n",
    "splits = [i.split(\"/\")[-1].split('_edit')[0] for i in sorted(glob('{}/edit_info/*'.format(output_folder)))]\n",
    "print(\"Accessing split bams: {}\".format(', '.join(sorted(splits))))"
   ]
  },
  {
   "cell_type": "markdown",
   "id": "bf7b58ee-46a1-41e1-b3d5-d1aa4959975f",
   "metadata": {},
   "source": [
    "### Gather the edit information generated for each subcontig, and group by contig so we only have 1 edit information dataframe to process per contig"
   ]
  },
  {
   "cell_type": "code",
   "execution_count": null,
   "id": "c5aa1ff3-69e7-4a5c-8cee-d6af8008eec0",
   "metadata": {
    "scrolled": true,
    "tags": []
   },
   "outputs": [],
   "source": [
    "all_edit_info_for_barcodes = []\n",
    "\n",
    "edit_info_grouped_per_contig = defaultdict(lambda:[])\n",
    "edit_info_grouped_per_contig_combined = defaultdict(lambda:[])\n",
    "\n",
    "num_splits = len(splits)\n",
    "print(\"Grouping edit information outputs by contig...\")\n",
    "for i, split in enumerate(splits):\n",
    "    if i%10 == 0:\n",
    "        print(\"\\t{}/{}...\".format(i, num_splits))\n",
    "        \n",
    "    contig = split.split(\"_\")[0]\n",
    "    print(\"contig: {}, {}\".format(contig, split))\n",
    "    \n",
    "    barcode_to_coverage_dict = defaultdict()    \n",
    "    \n",
    "    barcode_to_coverage_dict = defaultdict()\n",
    "    edit_info_file = '{}/edit_info/{}_edit_info.tsv'.format(output_folder, split)\n",
    "    edit_info_df = pd.read_csv(edit_info_file, sep='\\t')\n",
    "    edit_info_df['position'] = edit_info_df['position'].astype(int)\n",
    "    edit_info_df['base_quality'] = edit_info_df['base_quality'].astype(int)\n",
    "    edit_info_df['mapping_quality'] = edit_info_df['mapping_quality'].astype(int)\n",
    "    edit_info_df['dist_from_end'] = edit_info_df['dist_from_end'].astype(int)\n",
    "\n",
    "    edit_info = pl.from_pandas(edit_info_df) \n",
    "    \n",
    "    for n in [\"A\", \"C\", \"G\", \"T\"]:\n",
    "        suffix = '{}-1'.format(n)\n",
    "        print(\"\\tsuffix: {}\".format(suffix))\n",
    "        edit_info_subset = edit_info.filter(pl.col(\"barcode\").str.ends_with(suffix))\n",
    "        \n",
    "        edit_info_grouped_per_contig[\"{}_{}\".format(contig, n)].append(edit_info_subset)\n",
    "    \n",
    "    del edit_info_df\n",
    "    \n",
    "print(\"Done grouping! Concatenating ...\")\n",
    "\n"
   ]
  },
  {
   "cell_type": "code",
   "execution_count": null,
   "id": "89adf589-ff37-46f0-bb15-f08def3e273c",
   "metadata": {},
   "outputs": [],
   "source": [
    "glob(edit_info_file)"
   ]
  },
  {
   "cell_type": "code",
   "execution_count": null,
   "id": "d4b74e2a-dbc3-4b2f-82fc-bd40226f1b8e",
   "metadata": {},
   "outputs": [],
   "source": [
    "for contig, list_of_edit_info_dfs in edit_info_grouped_per_contig.items():\n",
    "    edit_info_grouped_per_contig_combined[contig] = pl.concat(list_of_edit_info_dfs)\n",
    "\n",
    "print(\"Done concatenating!\")"
   ]
  },
  {
   "cell_type": "markdown",
   "id": "0a5ef51b-eeba-4fb5-a716-3d6cd204c1b6",
   "metadata": {},
   "source": [
    "### Get coverage at edit positions for each contig"
   ]
  },
  {
   "cell_type": "markdown",
   "id": "a308e9a5-013e-4fa4-aa29-504abd72e80b",
   "metadata": {},
   "source": [
    "##### Merge across contigs for each barcode???"
   ]
  },
  {
   "cell_type": "code",
   "execution_count": null,
   "id": "32c22ae8-9b11-490a-8913-9fbe3fc7ff3e",
   "metadata": {
    "scrolled": true,
    "tags": []
   },
   "outputs": [],
   "source": [
    "import pandas as pd\n",
    "\n",
    "pd.options.mode.chained_assignment = None \n",
    "\n",
    "\n",
    "def get_job_params_for_coverage_for_edits_in_contig(edit_info_grouped_per_contig_combined, output_folder):\n",
    "    job_params = []\n",
    "    \n",
    "    for contig, edit_info in edit_info_grouped_per_contig_combined.items():\n",
    "        print(contig)\n",
    "        print('Num edits pre filter: {}'.format(len(edit_info)))\n",
    "        edit_info = edit_info.filter(pl.col(\"base_quality\") > 15)\n",
    "        print('\\tNum edits post filter: {}'.format(len(edit_info)))\n",
    "        \n",
    "        #unique_barcodes = list(edit_info.unique(\"barcode\")[\"barcode\"])\n",
    "        #unique_contigs = list(edit_info.unique(\"contig\")[\"contig\"])\n",
    "        #print('Num unique contigs: {}'.format(len(unique_contigs)))\n",
    "        \n",
    "        job_params.append([edit_info, contig, output_folder])  \n",
    "    return job_params\n",
    "    \n",
    "coverage_counting_job_params = get_job_params_for_coverage_for_edits_in_contig(edit_info_grouped_per_contig_combined, \n",
    "                                                                output_folder)\n",
    "len(coverage_counting_job_params)"
   ]
  },
  {
   "cell_type": "markdown",
   "id": "1e0cf169-59d3-4c5e-857f-044d1693ddc5",
   "metadata": {},
   "source": [
    "### This is going at rate of 1 items per seconds... which would take several hours..."
   ]
  },
  {
   "cell_type": "code",
   "execution_count": null,
   "id": "8c5392be-387b-40f6-b8ac-c684cec2bf98",
   "metadata": {},
   "outputs": [],
   "source": [
    "#edit_info_plus_coverage_df = get_edit_info_for_barcode_in_contig_wrapper(coverage_counting_job_params[0])"
   ]
  },
  {
   "cell_type": "code",
   "execution_count": null,
   "id": "272783dd-e89b-455b-bb36-c969e6f5d648",
   "metadata": {},
   "outputs": [],
   "source": [
    "len(coverage_counting_job_params)"
   ]
  },
  {
   "cell_type": "code",
   "execution_count": null,
   "id": "5851efc7-2766-4666-b426-a1ab243db920",
   "metadata": {
    "scrolled": true,
    "tags": []
   },
   "outputs": [],
   "source": [
    "from multiprocessing import get_context\n",
    "import time\n",
    "from multiprocessing import Pool\n",
    "import multiprocessing\n",
    "from tqdm import tqdm\n",
    "import numpy as np\n",
    "\n",
    "start_time = time.perf_counter()\n",
    "\n",
    "results = []\n",
    "# Spawn has to be used instead of the default fork when using the polars library\n",
    "with get_context(\"spawn\").Pool(processes=16) as p:\n",
    "    max_ = len(coverage_counting_job_params)\n",
    "    with tqdm(total=max_) as pbar:\n",
    "        for _ in p.imap_unordered(get_edit_info_for_barcode_in_contig_wrapper, coverage_counting_job_params):\n",
    "            pbar.update()\n",
    "            results.append(_)\n",
    "            \n",
    "total_time = time.perf_counter() - start_time"
   ]
  },
  {
   "cell_type": "code",
   "execution_count": null,
   "id": "fd648239-8132-4ed1-b324-09e03b198a6e",
   "metadata": {},
   "outputs": [],
   "source": [
    "print(total_time/60)"
   ]
  },
  {
   "cell_type": "code",
   "execution_count": null,
   "id": "f3805e7b-42f5-4798-a7c9-861fca4d21d1",
   "metadata": {},
   "outputs": [],
   "source": [
    "len(results)"
   ]
  },
  {
   "cell_type": "code",
   "execution_count": null,
   "id": "f7caa846-b0c5-4783-b7b7-984d8f8658ae",
   "metadata": {},
   "outputs": [],
   "source": [
    "all_edit_info = pd.concat(results)"
   ]
  },
  {
   "cell_type": "code",
   "execution_count": null,
   "id": "db2a715e-4012-424d-9e0b-29a889fb48c9",
   "metadata": {},
   "outputs": [],
   "source": [
    "all_edit_info.groupby(['ref', 'alt']).count()\n"
   ]
  },
  {
   "cell_type": "code",
   "execution_count": null,
   "id": "6aaff01c-6a85-4ff6-a52c-6dd18c63f3cd",
   "metadata": {},
   "outputs": [],
   "source": [
    "total_time/60"
   ]
  },
  {
   "cell_type": "code",
   "execution_count": null,
   "id": "c5647b4f-4dc5-40fc-b772-6007f8ccbfa3",
   "metadata": {},
   "outputs": [],
   "source": [
    "all_edit_info.to_csv('{}/all_edit_info.tsv'.format(output_folder), sep='\\t')"
   ]
  },
  {
   "cell_type": "markdown",
   "id": "c8620db3-658d-4e62-a352-302ce84c4c8c",
   "metadata": {},
   "source": [
    "# Group by site to get final total edit and coverage counts at each site"
   ]
  },
  {
   "cell_type": "code",
   "execution_count": null,
   "id": "d3a344ca-998d-415b-a508-42e9bd405d9f",
   "metadata": {},
   "outputs": [],
   "source": [
    "all_edit_info.head()\n"
   ]
  },
  {
   "cell_type": "markdown",
   "id": "f03097c3-ad74-474b-8af6-921e9fc031e0",
   "metadata": {},
   "source": [
    "# Verify C>T ratios"
   ]
  },
  {
   "cell_type": "code",
   "execution_count": null,
   "id": "999ddfc7-f83d-4cb8-afc3-2b0861674233",
   "metadata": {},
   "outputs": [],
   "source": [
    "all_edit_info.groupby(['ref', 'alt']).count()\n"
   ]
  },
  {
   "cell_type": "code",
   "execution_count": null,
   "id": "803f5b24-4714-4309-a08b-9b9445218c64",
   "metadata": {},
   "outputs": [],
   "source": [
    "all_edit_info.groupby(['ref', 'alt']).count().plot(kind='barh', legend=False)\n",
    "plt.title(\"All edits\")\n",
    "\n",
    "base_quality_thresh = 15\n",
    "all_edit_info[all_edit_info.base_quality > base_quality_thresh].groupby(['ref', 'alt']).count().plot(kind='barh', legend=False)\n",
    "plt.title(\"Edits with base quality > {}\".format(base_quality_thresh))\n",
    "\n",
    "all_edit_info_filtered = all_edit_info[all_edit_info.base_quality > base_quality_thresh]\n"
   ]
  },
  {
   "cell_type": "code",
   "execution_count": null,
   "id": "7a97fbec-9329-4c9c-8c9b-a785a8ae376c",
   "metadata": {},
   "outputs": [],
   "source": [
    "example_new_ct =  all_edit_info_filtered[(all_edit_info_filtered.ref == 'C') & (all_edit_info_filtered.alt == 'T')].sort_values('position')"
   ]
  },
  {
   "cell_type": "code",
   "execution_count": null,
   "id": "e9b3fdc3-7fab-448f-a9e9-52cbab695e2b",
   "metadata": {},
   "outputs": [],
   "source": [
    "len(example_new_ct)"
   ]
  },
  {
   "cell_type": "code",
   "execution_count": null,
   "id": "7be865e2-f294-4152-ae0b-85d24509a1d5",
   "metadata": {},
   "outputs": [],
   "source": [
    "example_new_ct"
   ]
  },
  {
   "cell_type": "markdown",
   "id": "5dc30c7f-73aa-4be6-83a7-ff2a2072d602",
   "metadata": {},
   "source": [
    "# Cells that do have STAMP expressed versus don't...?"
   ]
  },
  {
   "cell_type": "code",
   "execution_count": null,
   "id": "bc7ee3ff-374f-4a6e-8ab7-0b1e1311c07d",
   "metadata": {},
   "outputs": [],
   "source": [
    "stamp_expression_path = \\\n",
    "'/projects/ps-yeolab3/ekofman/Sammi/MouseBrainEF1A_SingleCell_EPR_combined/\\\n",
    "4.1_cells_with_middling_stamp/stamp_expression_for_all_used_cells.tsv'"
   ]
  },
  {
   "cell_type": "code",
   "execution_count": null,
   "id": "f2684ed2-1146-4e4c-9b4d-186865d6e4aa",
   "metadata": {},
   "outputs": [],
   "source": [
    "stamp_expression_df = pd.read_csv(stamp_expression_path, sep='\\t', index_col=0)"
   ]
  },
  {
   "cell_type": "code",
   "execution_count": null,
   "id": "093153f4-7d3a-4a04-bf6d-ee855e23a02f",
   "metadata": {},
   "outputs": [],
   "source": [
    "stamp_expression_df.Stamp.hist(bins=50)"
   ]
  },
  {
   "cell_type": "code",
   "execution_count": null,
   "id": "af056065-287e-4639-bc12-6f2e83468b56",
   "metadata": {},
   "outputs": [],
   "source": [
    "all_edit_info_filtered['edit'] = all_edit_info_filtered['ref'] + '>' + all_edit_info_filtered['alt']"
   ]
  },
  {
   "cell_type": "code",
   "execution_count": null,
   "id": "26edccde-cad7-48fe-ab64-20d91bcf8844",
   "metadata": {
    "scrolled": true,
    "tags": []
   },
   "outputs": [],
   "source": [
    "fractions_ct = []\n",
    "threshs = [0, 0.5, 1, 2, 3, 4, 5, 6, 6.5, 6.6]\n",
    "for thresh in threshs:\n",
    "    print(thresh)\n",
    "    barcodes_at_stamp_thresh = stamp_expression_df[stamp_expression_df.Stamp > thresh].index\n",
    "    \n",
    "    all_edit_info_filtered_in_stamp_level = all_edit_info_filtered[\n",
    "        all_edit_info_filtered.barcode.isin(barcodes_at_stamp_thresh)]\n",
    "    \n",
    "    all_edit_info_filtered_in_stamp_level.groupby(['ref', 'alt']).count().plot(kind='barh', legend=False)\n",
    "    plt.title(\"Edit Type Distribution for Cells with STAMP expression above {}\".format(thresh))\n",
    "    \n",
    "    fraction_ct = len(all_edit_info_filtered_in_stamp_level[all_edit_info_filtered_in_stamp_level['edit'] == 'C>T'])/len(all_edit_info_filtered_in_stamp_level)\n",
    "    fractions_ct.append(fraction_ct)\n",
    "    \n",
    "    "
   ]
  },
  {
   "cell_type": "code",
   "execution_count": null,
   "id": "01e6b127-1356-40c4-b700-02c31a0c5266",
   "metadata": {},
   "outputs": [],
   "source": [
    "plt.plot(threshs, fractions_ct)\n",
    "plt.ylabel(\"Fraction of total edits that are C>T\")\n",
    "plt.xlabel(\"STAMP expression minimum\")\n",
    "plt.title(\"Enrichment for C>T edits within cells filtered by STAMP threshold\")"
   ]
  },
  {
   "cell_type": "code",
   "execution_count": null,
   "id": "f8800507-1d95-4bb6-94a8-9c0ec7de29fb",
   "metadata": {
    "scrolled": true,
    "tags": []
   },
   "outputs": [],
   "source": [
    "fractions_ct_low = []\n",
    "threshs = [1, 2, 3, 4, 5, 6, 6.5, 6.6]\n",
    "for thresh in threshs:\n",
    "    print(thresh)\n",
    "    barcodes_at_stamp_thresh = stamp_expression_df[stamp_expression_df.Stamp < thresh].index\n",
    "    \n",
    "    all_edit_info_filtered_in_stamp_level = all_edit_info_filtered[\n",
    "        all_edit_info_filtered.barcode.isin(barcodes_at_stamp_thresh)]\n",
    "    \n",
    "    all_edit_info_filtered_in_stamp_level.groupby(['ref', 'alt']).count().plot(kind='barh', legend=False)\n",
    "    plt.title(\"Edit Type Distribution for Cells with STAMP expression below {}\".format(thresh))\n",
    "    \n",
    "    fraction_ct = len(all_edit_info_filtered_in_stamp_level[all_edit_info_filtered_in_stamp_level['edit'] == 'C>T'])/len(all_edit_info_filtered_in_stamp_level)\n",
    "    fractions_ct_low.append(fraction_ct)"
   ]
  },
  {
   "cell_type": "code",
   "execution_count": null,
   "id": "46bc326f-a695-41f6-bafb-5daf952a4dd8",
   "metadata": {},
   "outputs": [],
   "source": [
    "plt.plot(threshs, fractions_ct_low)\n",
    "plt.ylabel(\"Fraction of total edits that are C>T\")\n",
    "plt.xlabel(\"STAMP expression maximum\")\n",
    "plt.title(\"Enrichment for C>T edits within cells filtered by STAMP threshold\")"
   ]
  },
  {
   "cell_type": "code",
   "execution_count": null,
   "id": "c71e31ad-c7fb-4c3d-b1f2-84ed484cb525",
   "metadata": {},
   "outputs": [],
   "source": []
  }
 ],
 "metadata": {
  "kernelspec": {
   "display_name": "py38_kernel",
   "language": "python",
   "name": "py38_kernel"
  },
  "language_info": {
   "codemirror_mode": {
    "name": "ipython",
    "version": 3
   },
   "file_extension": ".py",
   "mimetype": "text/x-python",
   "name": "python",
   "nbconvert_exporter": "python",
   "pygments_lexer": "ipython3",
   "version": "3.8.18"
  }
 },
 "nbformat": 4,
 "nbformat_minor": 5
}
