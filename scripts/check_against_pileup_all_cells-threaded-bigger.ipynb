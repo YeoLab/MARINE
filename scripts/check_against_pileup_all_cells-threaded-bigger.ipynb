{
 "cells": [
  {
   "cell_type": "code",
   "execution_count": 1,
   "id": "834c9266-dd67-464d-b30d-eb56aee77724",
   "metadata": {},
   "outputs": [],
   "source": [
    "import pysam\n",
    "import os\n",
    "import sys\n",
    "from sys import getsizeof\n",
    "import time\n",
    "\n",
    "directory_path = os.path.abspath(os.path.join('../src/'))\n",
    "if directory_path not in sys.path:\n",
    "    sys.path.append(directory_path)\n",
    "    \n",
    "from read_process import get_contig_lengths_dict,\\\n",
    "incorporate_replaced_pos_info,incorporate_insertions_and_deletions,\\\n",
    "get_positions_from_md_tag,reverse_complement,get_edit_information,get_edit_information_wrapper,\\\n",
    "has_edits,get_total_coverage_for_contig_at_position,\\\n",
    "print_read_info, update_coverage_array, get_read_information, get_hamming_distance, remove_softclipped_bases,find\n",
    "\n",
    "from utils import get_intervals, index_bam, write_rows_to_info_file, write_header_to_bam, \\\n",
    "write_read_to_bam_file, remove_file_if_exists, make_folder\n",
    "\n",
    "import os, psutil\n"
   ]
  },
  {
   "cell_type": "markdown",
   "id": "72010a82-87a7-4198-aa66-79f57ad70337",
   "metadata": {},
   "source": [
    "# ~~~~~~~~~~~~~~~~~~\n",
    "# Multi-processing enabled\n",
    "# ~~~~~~~~~~~~~~~~~~"
   ]
  },
  {
   "cell_type": "markdown",
   "id": "df7166d4-3f54-4108-abb8-e978f704727a",
   "metadata": {},
   "source": [
    "# An example on a bam for 1500 cell barcodes (group0, group1, group2, group3, group4, group5, group6, group7 group8, group9, group10, group11 split from the original bam)"
   ]
  },
  {
   "cell_type": "markdown",
   "id": "a16eb554-a261-4239-b48b-358674b9b827",
   "metadata": {},
   "source": [
    "### Should be about 1500*30,000 = 45 million reads"
   ]
  },
  {
   "cell_type": "markdown",
   "id": "d5962296-f5be-4c0f-8323-74f591d58dea",
   "metadata": {},
   "source": [
    "#### in 10X's bam file, xf=25 means that read is uniquely mapped to a genome, and was used for counting UMI. So we should only look at reads with xf=25 from the 10X bam."
   ]
  },
  {
   "cell_type": "code",
   "execution_count": 2,
   "id": "fba3a6f1-60ab-4ec3-9f17-a59ab8d4bbed",
   "metadata": {},
   "outputs": [],
   "source": [
    "bampath = '/projects/ps-yeolab3/ekofman/sailor2/data/groups_0_1_2_3_4_5_6_7_8_9_10_11_merged.bam'\n",
    "samfile = pysam.AlignmentFile(bampath, \"rb\")"
   ]
  },
  {
   "cell_type": "code",
   "execution_count": 3,
   "id": "606494dd-4fd1-4760-9ad7-2c201a19e783",
   "metadata": {},
   "outputs": [],
   "source": [
    "samfile_header = str(samfile.header)"
   ]
  },
  {
   "cell_type": "code",
   "execution_count": 4,
   "id": "cec4616a-69eb-477c-a072-b15d570369d3",
   "metadata": {},
   "outputs": [
    {
     "data": {
      "text/plain": [
       "19338.323"
      ]
     },
     "execution_count": 4,
     "metadata": {},
     "output_type": "execute_result"
    }
   ],
   "source": [
    "getsizeof(samfile_header)/1000"
   ]
  },
  {
   "cell_type": "markdown",
   "id": "67ea541e-ab33-40a6-9d12-88c707c3932c",
   "metadata": {},
   "source": [
    "# Helper functions"
   ]
  },
  {
   "cell_type": "code",
   "execution_count": 5,
   "id": "842901f9-7341-4c1f-87c7-0dd89cd8ac8b",
   "metadata": {
    "tags": []
   },
   "outputs": [],
   "source": [
    "def find_edits(bampath, contig, split_index, start, end, output_folder, verbose=False):\n",
    "    time_reporting = {}\n",
    "    start_time = time.perf_counter()\n",
    "    \n",
    "    samfile = pysam.AlignmentFile(bampath, \"rb\")\n",
    "        \n",
    "    counts = defaultdict(lambda:defaultdict(lambda:0))\n",
    "    total_reads = 0\n",
    "    \n",
    "    bam_handles_for_barcodes = {}\n",
    "    read_lists_for_barcodes = defaultdict(lambda:[])\n",
    "    \n",
    "    reads_for_contig = samfile.fetch(contig, start, end, multiple_iterators=True)\n",
    "\n",
    "    output_file = '{}/{}_{}_{}_{}_edit_info.tsv'.format(edit_info_subfolder, contig, split_index, start, end)\n",
    "    remove_file_if_exists(output_file)\n",
    "\n",
    "    with open(output_file, 'w') as f:        \n",
    "        write_header_to_bam(f)\n",
    "\n",
    "        for i, read in enumerate(reads_for_contig):\n",
    "            total_reads += 1\n",
    "            \n",
    "            if total_reads % 1000 == 0:\n",
    "                time_reporting[total_reads] = time.perf_counter() - start_time\n",
    "\n",
    "            barcode = read.get_tag(\"CB\")\n",
    "            barcodes[contig][barcode] += 1\n",
    "\n",
    "            verbose = False\n",
    "            \n",
    "            # This is to ID the weird read with Ns\n",
    "            if 'AAACCCAAGAACTTCC-1' == barcode and split_index == '005' and contig == '17':\n",
    "                if read.query_name == 'A01535:287:H3JJHDSX7:1:2176:29188:6324':\n",
    "                    verbose = True\n",
    "            \n",
    "            try:\n",
    "                error_code, list_of_rows, num_edits_of_each_type = get_read_information(read, contig, verbose=verbose)\n",
    "            except Exception as e:\n",
    "                print(\"Failed on\\n{}\".format(read.to_string()))\n",
    "                break\n",
    "                \n",
    "            if error_code:\n",
    "                counts[contig][error_code] += 1\n",
    "            else:\n",
    "                counts[contig][EDITED_CODE] += 1\n",
    "                write_rows_to_info_file(list_of_rows, f)\n",
    "            \n",
    "            # Store each read using its string representation\n",
    "            read_as_string = read.to_string()\n",
    "            \n",
    "            if 'AAACCCAAGAACTTCC-1' == barcode and split_index == '005':\n",
    "                if read.query_name == 'A01535:287:H3JJHDSX7:1:2176:29188:6324':\n",
    "                    print(\"\\n\\n~~~ Found read, is {}\\nSplit index is {}; edit types is {}; \\n{}~~~\".format(read_as_string, \n",
    "                                                                                                     split_index,\n",
    "                                                                                                     num_edits_of_each_type,\n",
    "                                                                                                     list_of_rows\n",
    "                                                                                                    ))\n",
    "                    print(\"Read as string:\\n{}\".format(read_as_string))\n",
    "                    \n",
    "            read_lists_for_barcodes[barcode].append(read_as_string)\n",
    "            \n",
    "    \n",
    "    # Add all reads to dictionary for contig and barcode, in their string representation\n",
    "    num_barcodes = 0\n",
    "    total_bams = len(read_lists_for_barcodes)\n",
    "    \n",
    "    \n",
    "    barcode_to_concatted_reads = {}\n",
    "    for barcode, read_list in read_lists_for_barcodes.items():\n",
    "        num_barcodes += 1\n",
    "        if num_barcodes % 100 == 0:\n",
    "            #print('{}/{} processed'.format(num_barcodes, total_bams))\n",
    "            pass\n",
    "        # Concatenate the string representations of all reads for each bam-contig combination\n",
    "        all_reads_concatted = '\\n'.join(read_list)\n",
    "            \n",
    "        # Save this concatenated block of text to dictionary\n",
    "        barcode_to_concatted_reads[barcode] = all_reads_concatted\n",
    "        \n",
    "    time_reporting[total_reads] = time.perf_counter() - start_time\n",
    "    \n",
    "    samfile.close()\n",
    "    \n",
    "    return barcode_to_concatted_reads, total_reads, barcodes, counts, time_reporting\n",
    "\n",
    "\n",
    "def find_edits_and_split_bams(bampath, contig, split_index, start, end, output_folder, verbose=False):\n",
    "    barcode_to_concatted_reads, total_reads, barcodes, counts, time_reporting = find_edits(bampath, contig, split_index,\n",
    "                                                                         start, end, output_folder, verbose=verbose)    \n",
    "    return barcode_to_concatted_reads, total_reads, barcodes, counts, time_reporting\n",
    "    \n",
    "def find_edits_and_split_bams_wrapper(parameters):\n",
    "    try:\n",
    "        start_time = time.perf_counter()\n",
    "        bampath, contig, split_index, start, end, output_folder, verbose = parameters\n",
    "        label = '{}({}):{}-{}'.format(contig, split_index, start, end)\n",
    "\n",
    "        #print(\"{} ({}):{}-{}\\tfind_edits_and_split_bams\".format(contig, split_index, start, end))\n",
    "        barcode_to_concatted_reads, total_reads, barcodes, counts, time_reporting = find_edits_and_split_bams(bampath, contig, split_index, start, end, output_folder, verbose=False)\n",
    "        barcodes_df = pd.DataFrame.from_dict(barcodes)\n",
    "        counts_df = pd.DataFrame.from_dict(counts)\n",
    "        time_df = pd.DataFrame.from_dict(time_reporting, orient='index')\n",
    "        barcode_to_concatted_reads_df = pd.DataFrame.from_dict(barcode_to_concatted_reads, orient='index')\n",
    "        \n",
    "        total_time = time.perf_counter() - start_time\n",
    "        return barcode_to_concatted_reads_df, total_reads, barcodes_df, label, counts_df, time_df, total_time\n",
    "    except Exception as e:\n",
    "        print('Contig {}: {}'.format(label, e))\n",
    "        return 0, pd.DataFrame(), label, pd.DataFrame()"
   ]
  },
  {
   "cell_type": "markdown",
   "id": "8e80d3e0-398f-49e2-bf55-281a9621698f",
   "metadata": {},
   "source": [
    "# Go through every read and identify all edits"
   ]
  },
  {
   "cell_type": "code",
   "execution_count": 7,
   "id": "5481bde1-a0e7-43b6-8699-1043a6d7cae3",
   "metadata": {
    "scrolled": true,
    "tags": []
   },
   "outputs": [
    {
     "name": "stdout",
     "output_type": "stream",
     "text": [
      "CPU count: 36\n",
      "Contig 1\n",
      "Contig 10\n",
      "Contig 11\n",
      "Contig 12\n",
      "Contig 13\n",
      "Contig 14\n",
      "Contig 15\n",
      "Contig 16\n",
      "Contig 17\n",
      "Contig 18\n",
      "Contig 19\n",
      "Contig 2\n",
      "Contig 3\n",
      "Contig 4\n",
      "Contig 5\n",
      "Contig 6\n",
      "Contig 7\n",
      "Contig 8\n",
      "Contig 9\n",
      "Contig MT\n",
      "Contig X\n",
      "Contig Y\n",
      "352 total jobs\n"
     ]
    },
    {
     "name": "stderr",
     "output_type": "stream",
     "text": [
      "  0%|          | 1/352 [00:00<05:12,  1.12it/s]"
     ]
    },
    {
     "name": "stdout",
     "output_type": "stream",
     "text": [
      "total reads overall 10754\n"
     ]
    },
    {
     "name": "stderr",
     "output_type": "stream",
     "text": [
      "  1%|          | 2/352 [00:01<03:02,  1.91it/s]"
     ]
    },
    {
     "name": "stdout",
     "output_type": "stream",
     "text": [
      "total reads overall 37656\n",
      "total reads overall 62170\n"
     ]
    },
    {
     "name": "stderr",
     "output_type": "stream",
     "text": [
      "  1%|▏         | 5/352 [00:01<01:23,  4.17it/s]"
     ]
    },
    {
     "name": "stdout",
     "output_type": "stream",
     "text": [
      "total reads overall 79556\n",
      "total reads overall 108484\n"
     ]
    },
    {
     "name": "stderr",
     "output_type": "stream",
     "text": [
      "  2%|▏         | 7/352 [00:01<00:52,  6.56it/s]"
     ]
    },
    {
     "name": "stdout",
     "output_type": "stream",
     "text": [
      "total reads overall 134767\n",
      "total reads overall 149088\n",
      "total reads overall 184504\n"
     ]
    },
    {
     "name": "stderr",
     "output_type": "stream",
     "text": [
      "  3%|▎         | 11/352 [00:02<00:41,  8.18it/s]"
     ]
    },
    {
     "name": "stdout",
     "output_type": "stream",
     "text": [
      "total reads overall 224289\n",
      "total reads overall 262417\n",
      "total reads overall 284620\n",
      "total reads overall 323492\n",
      "total reads overall 376662\n"
     ]
    },
    {
     "name": "stderr",
     "output_type": "stream",
     "text": [
      "  4%|▍         | 15/352 [00:02<00:26, 12.51it/s]"
     ]
    },
    {
     "name": "stdout",
     "output_type": "stream",
     "text": [
      "total reads overall 394256\n",
      "total reads overall 448581\n",
      "total reads overall 463508\n",
      "total reads overall 493101\n"
     ]
    },
    {
     "name": "stderr",
     "output_type": "stream",
     "text": [
      "  5%|▌         | 18/352 [00:02<00:32, 10.36it/s]"
     ]
    },
    {
     "name": "stdout",
     "output_type": "stream",
     "text": [
      "total reads overall 509164\n",
      "total reads overall 556492\n"
     ]
    },
    {
     "name": "stderr",
     "output_type": "stream",
     "text": [
      "  7%|▋         | 24/352 [00:03<00:23, 13.68it/s]"
     ]
    },
    {
     "name": "stdout",
     "output_type": "stream",
     "text": [
      "total reads overall 628589\n",
      "total reads overall 651715\n",
      "total reads overall 653684\n",
      "total reads overall 675322\n",
      "total reads overall 694180\n",
      "total reads overall 718523\n"
     ]
    },
    {
     "name": "stderr",
     "output_type": "stream",
     "text": [
      "  7%|▋         | 26/352 [00:03<00:23, 14.01it/s]"
     ]
    },
    {
     "name": "stdout",
     "output_type": "stream",
     "text": [
      "total reads overall 781868\n",
      "total reads overall 811456\n"
     ]
    },
    {
     "name": "stderr",
     "output_type": "stream",
     "text": [
      "  8%|▊         | 28/352 [00:03<00:32,  9.84it/s]"
     ]
    },
    {
     "name": "stdout",
     "output_type": "stream",
     "text": [
      "total reads overall 822983\n",
      "total reads overall 849534\n"
     ]
    },
    {
     "name": "stderr",
     "output_type": "stream",
     "text": [
      "  9%|▉         | 32/352 [00:04<00:40,  7.91it/s]"
     ]
    },
    {
     "name": "stdout",
     "output_type": "stream",
     "text": [
      "total reads overall 876974\n",
      "total reads overall 911506\n",
      "total reads overall 957781\n",
      "total reads overall 1015331\n"
     ]
    },
    {
     "name": "stderr",
     "output_type": "stream",
     "text": [
      " 10%|▉         | 35/352 [00:04<00:51,  6.10it/s]"
     ]
    },
    {
     "name": "stdout",
     "output_type": "stream",
     "text": [
      "total reads overall 1060305\n",
      "total reads overall 1129284\n"
     ]
    },
    {
     "name": "stderr",
     "output_type": "stream",
     "text": [
      " 11%|█         | 38/352 [00:05<00:37,  8.44it/s]"
     ]
    },
    {
     "name": "stdout",
     "output_type": "stream",
     "text": [
      "total reads overall 1173750\n",
      "total reads overall 1217715\n",
      "total reads overall 1265636\n",
      "total reads overall 1367866\n"
     ]
    },
    {
     "name": "stderr",
     "output_type": "stream",
     "text": [
      " 12%|█▏        | 42/352 [00:05<00:28, 10.76it/s]"
     ]
    },
    {
     "name": "stdout",
     "output_type": "stream",
     "text": [
      "total reads overall 1428166\n",
      "total reads overall 1450982\n",
      "total reads overall 1465134\n"
     ]
    },
    {
     "name": "stderr",
     "output_type": "stream",
     "text": [
      " 13%|█▎        | 46/352 [00:05<00:22, 13.52it/s]"
     ]
    },
    {
     "name": "stdout",
     "output_type": "stream",
     "text": [
      "total reads overall 1530762\n",
      "total reads overall 1547556\n",
      "total reads overall 1584352\n",
      "total reads overall 1628100\n"
     ]
    },
    {
     "name": "stderr",
     "output_type": "stream",
     "text": [
      " 14%|█▍        | 49/352 [00:05<00:20, 14.88it/s]"
     ]
    },
    {
     "name": "stdout",
     "output_type": "stream",
     "text": [
      "total reads overall 1638697\n",
      "total reads overall 1657522\n",
      "total reads overall 1674511\n",
      "total reads overall 1694111\n"
     ]
    },
    {
     "name": "stderr",
     "output_type": "stream",
     "text": [
      " 14%|█▍        | 51/352 [00:06<00:24, 12.37it/s]"
     ]
    },
    {
     "name": "stdout",
     "output_type": "stream",
     "text": [
      "total reads overall 1699963\n",
      "total reads overall 1705234\n",
      "total reads overall 1719508\n"
     ]
    },
    {
     "name": "stderr",
     "output_type": "stream",
     "text": [
      " 16%|█▋        | 58/352 [00:06<00:20, 14.52it/s]"
     ]
    },
    {
     "name": "stdout",
     "output_type": "stream",
     "text": [
      "total reads overall 1810796\n",
      "total reads overall 1886923\n",
      "total reads overall 1910322\n",
      "total reads overall 1932161\n",
      "total reads overall 1946503\n",
      "total reads overall 1959628\n"
     ]
    },
    {
     "name": "stderr",
     "output_type": "stream",
     "text": [
      " 18%|█▊        | 62/352 [00:07<00:27, 10.42it/s]"
     ]
    },
    {
     "name": "stdout",
     "output_type": "stream",
     "text": [
      "total reads overall 1981799\n",
      "total reads overall 1997887\n",
      "total reads overall 2035021\n",
      "total reads overall 2076535\n"
     ]
    },
    {
     "name": "stderr",
     "output_type": "stream",
     "text": [
      " 19%|█▉        | 66/352 [00:07<00:20, 13.77it/s]"
     ]
    },
    {
     "name": "stdout",
     "output_type": "stream",
     "text": [
      "total reads overall 2091108\n",
      "total reads overall 2108489\n",
      "total reads overall 2128261\n",
      "total reads overall 2128508\n"
     ]
    },
    {
     "name": "stderr",
     "output_type": "stream",
     "text": [
      " 20%|█▉        | 70/352 [00:07<00:23, 12.03it/s]"
     ]
    },
    {
     "name": "stdout",
     "output_type": "stream",
     "text": [
      "total reads overall 2155464\n",
      "total reads overall 2167109\n",
      "total reads overall 2190320\n"
     ]
    },
    {
     "name": "stderr",
     "output_type": "stream",
     "text": [
      " 20%|██        | 72/352 [00:07<00:27, 10.05it/s]"
     ]
    },
    {
     "name": "stdout",
     "output_type": "stream",
     "text": [
      "total reads overall 2245552\n",
      "total reads overall 2343636\n"
     ]
    },
    {
     "name": "stderr",
     "output_type": "stream",
     "text": [
      " 21%|██▏       | 75/352 [00:08<00:22, 12.11it/s]"
     ]
    },
    {
     "name": "stdout",
     "output_type": "stream",
     "text": [
      "total reads overall 2361192\n",
      "total reads overall 2438926\n",
      "total reads overall 2461452\n"
     ]
    },
    {
     "name": "stderr",
     "output_type": "stream",
     "text": [
      " 22%|██▏       | 77/352 [00:08<00:25, 11.00it/s]"
     ]
    },
    {
     "name": "stdout",
     "output_type": "stream",
     "text": [
      "total reads overall 2476893\n",
      "total reads overall 2527784\n",
      "total reads overall 2560919\n",
      "total reads overall 2578524\n",
      "total reads overall 2600277\n"
     ]
    },
    {
     "name": "stderr",
     "output_type": "stream",
     "text": [
      " 24%|██▎       | 83/352 [00:08<00:17, 15.04it/s]"
     ]
    },
    {
     "name": "stdout",
     "output_type": "stream",
     "text": [
      "total reads overall 2637682\n",
      "total reads overall 2661072\n",
      "total reads overall 2711842\n"
     ]
    },
    {
     "name": "stderr",
     "output_type": "stream",
     "text": [
      " 25%|██▍       | 87/352 [00:08<00:15, 16.80it/s]"
     ]
    },
    {
     "name": "stdout",
     "output_type": "stream",
     "text": [
      "total reads overall 2809105\n",
      "total reads overall 2820417\n",
      "total reads overall 2847196\n",
      "total reads overall 2853941\n",
      "total reads overall 2857182\n"
     ]
    },
    {
     "name": "stderr",
     "output_type": "stream",
     "text": [
      " 25%|██▌       | 89/352 [00:09<00:18, 14.32it/s]"
     ]
    },
    {
     "name": "stdout",
     "output_type": "stream",
     "text": [
      "total reads overall 2874152\n",
      "total reads overall 2891462\n"
     ]
    },
    {
     "name": "stderr",
     "output_type": "stream",
     "text": [
      " 26%|██▋       | 93/352 [00:09<00:20, 12.77it/s]"
     ]
    },
    {
     "name": "stdout",
     "output_type": "stream",
     "text": [
      "total reads overall 2909057\n",
      "total reads overall 2920113\n",
      "total reads overall 2939004\n",
      "total reads overall 2947518\n",
      "total reads overall 2971897\n"
     ]
    },
    {
     "name": "stderr",
     "output_type": "stream",
     "text": [
      " 28%|██▊       | 99/352 [00:09<00:13, 18.38it/s]"
     ]
    },
    {
     "name": "stdout",
     "output_type": "stream",
     "text": [
      "total reads overall 3011239\n",
      "total reads overall 3028322\n",
      "total reads overall 3041823\n",
      "total reads overall 3057270\n"
     ]
    },
    {
     "name": "stderr",
     "output_type": "stream",
     "text": [
      " 30%|██▉       | 105/352 [00:09<00:12, 20.56it/s]"
     ]
    },
    {
     "name": "stdout",
     "output_type": "stream",
     "text": [
      "total reads overall 3101338\n",
      "total reads overall 3131673\n",
      "total reads overall 3171991\n",
      "total reads overall 3217553\n",
      "total reads overall 3230852\n",
      "total reads overall 3277713\n",
      "total reads overall 3290803\n",
      "total reads overall 3308474\n"
     ]
    },
    {
     "name": "stderr",
     "output_type": "stream",
     "text": [
      " 31%|███       | 108/352 [00:10<00:21, 11.30it/s]"
     ]
    },
    {
     "name": "stdout",
     "output_type": "stream",
     "text": [
      "total reads overall 3329813\n",
      "total reads overall 3340650\n"
     ]
    },
    {
     "name": "stderr",
     "output_type": "stream",
     "text": [
      " 31%|███▏      | 110/352 [00:10<00:24,  9.84it/s]"
     ]
    },
    {
     "name": "stdout",
     "output_type": "stream",
     "text": [
      "total reads overall 3347671\n",
      "total reads overall 3371674\n",
      "total reads overall 3377791\n"
     ]
    },
    {
     "name": "stderr",
     "output_type": "stream",
     "text": [
      " 33%|███▎      | 117/352 [00:11<00:15, 14.91it/s]"
     ]
    },
    {
     "name": "stdout",
     "output_type": "stream",
     "text": [
      "total reads overall 3392462\n",
      "total reads overall 3397020\n",
      "total reads overall 3431471\n",
      "total reads overall 3458461\n",
      "total reads overall 3495018\n"
     ]
    },
    {
     "name": "stderr",
     "output_type": "stream",
     "text": [
      " 34%|███▍      | 120/352 [00:11<00:15, 14.69it/s]"
     ]
    },
    {
     "name": "stdout",
     "output_type": "stream",
     "text": [
      "total reads overall 3501250\n",
      "total reads overall 3548325\n",
      "total reads overall 3580611\n",
      "total reads overall 3587512\n"
     ]
    },
    {
     "name": "stderr",
     "output_type": "stream",
     "text": [
      " 35%|███▍      | 122/352 [00:11<00:15, 14.65it/s]"
     ]
    },
    {
     "name": "stdout",
     "output_type": "stream",
     "text": [
      "total reads overall 3638903\n"
     ]
    },
    {
     "name": "stderr",
     "output_type": "stream",
     "text": [
      " 36%|███▌      | 126/352 [00:11<00:18, 12.35it/s]"
     ]
    },
    {
     "name": "stdout",
     "output_type": "stream",
     "text": [
      "total reads overall 3647050\n",
      "total reads overall 3664687\n",
      "total reads overall 3729913\n",
      "total reads overall 3756538\n"
     ]
    },
    {
     "name": "stderr",
     "output_type": "stream",
     "text": [
      " 37%|███▋      | 130/352 [00:12<00:17, 12.37it/s]"
     ]
    },
    {
     "name": "stdout",
     "output_type": "stream",
     "text": [
      "total reads overall 3830366\n",
      "total reads overall 3837868\n",
      "total reads overall 3884620\n",
      "total reads overall 3907592\n"
     ]
    },
    {
     "name": "stderr",
     "output_type": "stream",
     "text": [
      " 38%|███▊      | 132/352 [00:12<00:18, 11.82it/s]"
     ]
    },
    {
     "name": "stdout",
     "output_type": "stream",
     "text": [
      "total reads overall 3919178\n",
      "total reads overall 3923291\n",
      "total reads overall 3952057\n",
      "~~~~~~~~~~~~~~~~~~~~~~~~~~~~\n",
      "Read ID: A01535:287:H3JJHDSX7:1:2176:29188:6324\n",
      "----------------------------\n",
      "MD tag: 89C11\n",
      "CIGAR string 4M102N92M90N5M\n",
      "Reference seq: AAGGCCCCAAAAGTGGCGCAGCCCTCTATGGGCTCGAATTTTCTTCAGCCTCTCCAGGTCCTCACGCAGCTTGTTGTCTAGACCGTTGGCCAGAACCTGGC\n",
      "Aligned seq: AAGGCCCCAAAAGTGGCGCAGCCCTCTATGGGCTCGAATTTTCTTCAGCCTCTCCAGGTCCTCACGCAGCTTGTTGTCTAGACCGTTGGTCAGAACCTGGC\n",
      "CIGAR tuples before clipping (if needed):\n",
      " [(0, 4), (3, 102), (0, 92), (3, 90), (0, 5)]\n",
      "Aligned sequence before clipping (if needed):\n",
      " AAGGCCCCAAAAGTGGCGCAGCCCTCTATGGGCTCGAATTTTCTTCAGCCTCTCCAGGTCCTCACGCAGCTTGTTGTCTAGACCGTTGGTCAGAACCTGGC\n"
     ]
    },
    {
     "name": "stderr",
     "output_type": "stream",
     "text": [
      " 38%|███▊      | 134/352 [00:12<00:19, 11.24it/s]"
     ]
    },
    {
     "name": "stdout",
     "output_type": "stream",
     "text": [
      "~~~~~~~~~~~~~~~~~~~~~~~~~~~~~~~~~~~~~~~\n",
      "CIGAR tuples after clipping (if needed):\n",
      " [(0, 4), (3, 102), (0, 92), (3, 90), (0, 5)]\n"
     ]
    },
    {
     "name": "stderr",
     "output_type": "stream",
     "text": [
      " 39%|███▉      | 139/352 [00:12<00:11, 17.94it/s]"
     ]
    },
    {
     "name": "stdout",
     "output_type": "stream",
     "text": [
      "Aligned sequence after clipping (if needed):\n",
      " AAGGCCCCAAAAGTGGCGCAGCCCTCTATGGGCTCGAATTTTCTTCAGCCTCTCCAGGTCCTCACGCAGCTTGTTGTCTAGACCGTTGGTCAGAACCTGGC\n",
      "~~~~~~~~~~~~~~~~~~~~~~~~~~~~~~~~~~~~~~~\n",
      "total reads overall 3968821\n",
      "total reads overall 3995771\n",
      "total reads overall 4045882\n",
      "total reads overall 4079252\n",
      "total reads overall 4082906\n",
      "total reads overall 4122720\n",
      "['89', '11']\n",
      "[89, 101]\n",
      "Indicated reference seq:\n",
      " aaggccccaaaagtggcgcagccctctatgggctcgaattttcttcagcctctccaggtcctcacgcagcttgttgtctagaccgttggCcagaacctggc\n",
      "~~~~~~~~~~~~~~~~~~~~~~~~~~~~~~~~~~~~~~~\n",
      "Fixed reference seq:\n",
      " aaggnnnnnnnnnnnnnnnnnnnnnnnnnnnnnnnnnnnnnnnnnnnnnnnnnnnnnnnnnnnnnnnnnnnnnnnnnnnnnnnnnnnnnnnnnnnnnnnnnnnnnnccccaaaagtggcgcagccctctatgggctcgaattttcttcagcctctccaggtcctcacgcagcttgttgtctagaccgttggCcagaacnnnnnnnnnnnnnnnnnnnnnnnnnnnnnnnnnnnnnnnnnnnnnnnnnnnnnnnnnnnnnnnnnnnnnnnnnnnnnnnnnnnnnnnnnnctggc\n",
      "Fixed aligned seq:\n",
      " AAGGnnnnnnnnnnnnnnnnnnnnnnnnnnnnnnnnnnnnnnnnnnnnnnnnnnnnnnnnnnnnnnnnnnnnnnnnnnnnnnnnnnnnnnnnnnnnnnnnnnnnnnCCCCAAAAGTGGCGCAGCCCTCTATGGGCTCGAATTTTCTTCAGCCTCTCCAGGTCCTCACGCAGCTTGTTGTCTAGACCGTTGGTCAGAACnnnnnnnnnnnnnnnnnnnnnnnnnnnnnnnnnnnnnnnnnnnnnnnnnnnnnnnnnnnnnnnnnnnnnnnnnnnnnnnnnnnnnnnnnnCTGGC\n",
      "Finalized fixed aligned seq:\n",
      " aaggnnnnnnnnnnnnnnnnnnnnnnnnnnnnnnnnnnnnnnnnnnnnnnnnnnnnnnnnnnnnnnnnnnnnnnnnnnnnnnnnnnnnnnnnnnnnnnnnnnnnnnccccaaaagtggcgcagccctctatgggctcgaattttcttcagcctctccaggtcctcacgcagcttgttgtctagaccgttggTcagaacnnnnnnnnnnnnnnnnnnnnnnnnnnnnnnnnnnnnnnnnnnnnnnnnnnnnnnnnnnnnnnnnnnnnnnnnnnnnnnnnnnnnnnnnnnctggc\n",
      "~~~~~~~~~~~~~~~~~~~~~~~~~~~~~~~~~~~~~~~\n",
      "alt bases ['T']\n",
      "ref bases ['C']\n",
      "\n",
      "\n",
      "~~~ Found read, is A01535:287:H3JJHDSX7:1:2176:29188:6324\t16\t17\t33952115\t255\t4M102N92M90N5M\t*\t0\t0\tAAGGCCCCAAAAGTGGCGCAGCCCTCTATGGGCTCGAATTTTCTTCAGCCTCTCCAGGTCCTCACGCAGCTTGTTGTCTAGACCGTTGGTCAGAACCTGGC\t:FFFFFFF:FFFFFFFFF,FFFFFFFF,FFFF,FFF::FF:FF:FFFFFFFFFFFFFFFFFFF,FFFFFFFFF,FFFFFFFFFFFFFFFFFFFFFFFFFFF\tNH:i:1\tHI:i:1\tAS:i:101\tnM:i:1\tTX:Z:ENSMUST00000008812,+383,101M;ENSMUST00000172799,+935,101M;ENSMUST00000174745,+319,101M;ENSMUST00000174758,+282,101M\tGX:Z:ENSMUSG00000008668\tGN:Z:Rps18\tfx:Z:ENSMUSG00000008668\tRE:A:E\txf:i:25\tCR:Z:AAACCCAAGAACTTCC\tCY:Z:FF:F,FFFFFFFF:FF\tCB:Z:AAACCCAAGAACTTCC-1\tUR:Z:CGCCCCTGCGCA\tUY:Z:FFFFFFFF:,FF\tUB:Z:CGCCCCTGCTCA\tNM:i:1\tMD:Z:89C11\tRG:Z:ms_hippo_stamp_EIF4A_batch2:0:1:H3JJHDSX7:1-32F01FC\n",
      "Split index is 005; edit types is defaultdict(<function get_read_information.<locals>.<lambda> at 0x2b9aaec825f0>, {'G>A': 1}); \n",
      "[['AAACCCAAGAACTTCC-1', '17', '33952305', 'G', 'A', 'A01535:287:H3JJHDSX7:1:2176:29188:6324', '-', '102', '37', '255']]~~~\n"
     ]
    },
    {
     "name": "stderr",
     "output_type": "stream",
     "text": [
      " 40%|████      | 142/352 [00:13<00:15, 13.79it/s]"
     ]
    },
    {
     "name": "stdout",
     "output_type": "stream",
     "text": [
      "Read as string:\n",
      "A01535:287:H3JJHDSX7:1:2176:29188:6324\t16\t17\t33952115\t255\t4M102N92M90N5M\t*\t0\t0\tAAGGCCCCAAAAGTGGCGCAGCCCTCTATGGGCTCGAATTTTCTTCAGCCTCTCCAGGTCCTCACGCAGCTTGTTGTCTAGACCGTTGGTCAGAACCTGGC\t:FFFFFFF:FFFFFFFFF,FFFFFFFF,FFFF,FFF::FF:FF:FFFFFFFFFFFFFFFFFFF,FFFFFFFFF,FFFFFFFFFFFFFFFFFFFFFFFFFFF\tNH:i:1\tHI:i:1\tAS:i:101\tnM:i:1\tTX:Z:ENSMUST00000008812,+383,101M;ENSMUST00000172799,+935,101M;ENSMUST00000174745,+319,101M;ENSMUST00000174758,+282,101M\tGX:Z:ENSMUSG00000008668\tGN:Z:Rps18\tfx:Z:ENSMUSG00000008668\tRE:A:E\txf:i:25\tCR:Z:AAACCCAAGAACTTCC\tCY:Z:FF:F,FFFFFFFF:FF\tCB:Z:AAACCCAAGAACTTCC-1\tUR:Z:CGCCCCTGCGCA\tUY:Z:FFFFFFFF:,FF\tUB:Z:CGCCCCTGCTCA\tNM:i:1\tMD:Z:89C11\tRG:Z:ms_hippo_stamp_EIF4A_batch2:0:1:H3JJHDSX7:1-32F01FC\n",
      "total reads overall 4140486\n",
      "total reads overall 4147690\n",
      "total reads overall 4160545\n",
      "total reads overall 4170481\n",
      "total reads overall 4183697\n"
     ]
    },
    {
     "name": "stderr",
     "output_type": "stream",
     "text": [
      " 42%|████▏     | 147/352 [00:13<00:13, 15.03it/s]"
     ]
    },
    {
     "name": "stdout",
     "output_type": "stream",
     "text": [
      "total reads overall 4202269\n",
      "total reads overall 4217379\n",
      "total reads overall 4221688\n",
      "total reads overall 4224710\n"
     ]
    },
    {
     "name": "stderr",
     "output_type": "stream",
     "text": [
      " 42%|████▏     | 149/352 [00:13<00:17, 11.85it/s]"
     ]
    },
    {
     "name": "stdout",
     "output_type": "stream",
     "text": [
      "total reads overall 4261391\n",
      "total reads overall 4273850\n"
     ]
    },
    {
     "name": "stderr",
     "output_type": "stream",
     "text": [
      " 44%|████▍     | 154/352 [00:13<00:15, 13.16it/s]"
     ]
    },
    {
     "name": "stdout",
     "output_type": "stream",
     "text": [
      "total reads overall 4278541\n",
      "total reads overall 4309119\n",
      "total reads overall 4328578\n",
      "total reads overall 4349788\n"
     ]
    },
    {
     "name": "stderr",
     "output_type": "stream",
     "text": [
      " 45%|████▍     | 158/352 [00:14<00:13, 14.83it/s]"
     ]
    },
    {
     "name": "stdout",
     "output_type": "stream",
     "text": [
      "total reads overall 4414123\n",
      "total reads overall 4445220\n",
      "total reads overall 4453954\n",
      "total reads overall 4463763\n"
     ]
    },
    {
     "name": "stderr",
     "output_type": "stream",
     "text": [
      " 45%|████▌     | 160/352 [00:14<00:14, 13.13it/s]"
     ]
    },
    {
     "name": "stdout",
     "output_type": "stream",
     "text": [
      "total reads overall 4490274\n",
      "total reads overall 4500487\n"
     ]
    },
    {
     "name": "stderr",
     "output_type": "stream",
     "text": [
      " 47%|████▋     | 165/352 [00:14<00:10, 17.51it/s]"
     ]
    },
    {
     "name": "stdout",
     "output_type": "stream",
     "text": [
      "total reads overall 4590745\n",
      "total reads overall 4604771\n",
      "total reads overall 4616877\n",
      "total reads overall 4627761\n",
      "total reads overall 4730269\n",
      "total reads overall 4752958\n",
      "total reads overall 4758440\n"
     ]
    },
    {
     "name": "stderr",
     "output_type": "stream",
     "text": [
      " 49%|████▊     | 171/352 [00:14<00:10, 17.60it/s]"
     ]
    },
    {
     "name": "stdout",
     "output_type": "stream",
     "text": [
      "total reads overall 4808622\n",
      "total reads overall 4825665\n",
      "total reads overall 4835846\n",
      "total reads overall 4847629\n",
      "total reads overall 4872041\n"
     ]
    },
    {
     "name": "stderr",
     "output_type": "stream",
     "text": [
      " 49%|████▉     | 173/352 [00:15<00:17, 10.39it/s]"
     ]
    },
    {
     "name": "stdout",
     "output_type": "stream",
     "text": [
      "total reads overall 4936776\n",
      "total reads overall 4959309\n"
     ]
    },
    {
     "name": "stderr",
     "output_type": "stream",
     "text": [
      " 50%|████▉     | 175/352 [00:15<00:20,  8.47it/s]"
     ]
    },
    {
     "name": "stdout",
     "output_type": "stream",
     "text": [
      "total reads overall 4977284\n",
      "total reads overall 5012596\n"
     ]
    },
    {
     "name": "stderr",
     "output_type": "stream",
     "text": [
      " 51%|█████     | 179/352 [00:16<00:27,  6.39it/s]"
     ]
    },
    {
     "name": "stdout",
     "output_type": "stream",
     "text": [
      "total reads overall 5042324\n",
      "total reads overall 5093009\n",
      "total reads overall 5127395\n",
      "total reads overall 5163066\n"
     ]
    },
    {
     "name": "stderr",
     "output_type": "stream",
     "text": [
      " 51%|█████▏    | 181/352 [00:17<00:30,  5.61it/s]"
     ]
    },
    {
     "name": "stdout",
     "output_type": "stream",
     "text": [
      "total reads overall 5204857\n",
      "total reads overall 5223686\n",
      "total reads overall 5233136\n"
     ]
    },
    {
     "name": "stderr",
     "output_type": "stream",
     "text": [
      " 53%|█████▎    | 186/352 [00:17<00:21,  7.64it/s]"
     ]
    },
    {
     "name": "stdout",
     "output_type": "stream",
     "text": [
      "total reads overall 5238620\n",
      "total reads overall 5286306\n",
      "total reads overall 5344504\n",
      "total reads overall 5390187\n"
     ]
    },
    {
     "name": "stderr",
     "output_type": "stream",
     "text": [
      " 54%|█████▍    | 190/352 [00:18<00:21,  7.46it/s]"
     ]
    },
    {
     "name": "stdout",
     "output_type": "stream",
     "text": [
      "total reads overall 5499953\n",
      "total reads overall 5579441\n",
      "total reads overall 5636269\n"
     ]
    },
    {
     "name": "stderr",
     "output_type": "stream",
     "text": [
      " 55%|█████▌    | 194/352 [00:18<00:13, 11.53it/s]"
     ]
    },
    {
     "name": "stdout",
     "output_type": "stream",
     "text": [
      "total reads overall 5664078\n",
      "total reads overall 5675369\n",
      "total reads overall 5738625\n",
      "total reads overall 5756055\n"
     ]
    },
    {
     "name": "stderr",
     "output_type": "stream",
     "text": [
      " 56%|█████▌    | 196/352 [00:18<00:13, 11.42it/s]"
     ]
    },
    {
     "name": "stdout",
     "output_type": "stream",
     "text": [
      "total reads overall 5795084\n",
      "total reads overall 5809436\n",
      "total reads overall 5846534\n"
     ]
    },
    {
     "name": "stderr",
     "output_type": "stream",
     "text": [
      " 56%|█████▋    | 198/352 [00:18<00:15, 10.14it/s]"
     ]
    },
    {
     "name": "stdout",
     "output_type": "stream",
     "text": [
      "total reads overall 5883491\n",
      "total reads overall 5894381\n"
     ]
    },
    {
     "name": "stderr",
     "output_type": "stream",
     "text": [
      " 57%|█████▋    | 202/352 [00:19<00:15,  9.52it/s]"
     ]
    },
    {
     "name": "stdout",
     "output_type": "stream",
     "text": [
      "total reads overall 6007896\n",
      "total reads overall 6021336\n",
      "total reads overall 6040849\n"
     ]
    },
    {
     "name": "stderr",
     "output_type": "stream",
     "text": [
      " 59%|█████▊    | 206/352 [00:19<00:12, 11.88it/s]"
     ]
    },
    {
     "name": "stdout",
     "output_type": "stream",
     "text": [
      "total reads overall 6057069\n",
      "total reads overall 6070315\n",
      "total reads overall 6097947\n",
      "total reads overall 6124219\n",
      "total reads overall 6142082\n"
     ]
    },
    {
     "name": "stderr",
     "output_type": "stream",
     "text": [
      " 60%|█████▉    | 210/352 [00:19<00:12, 11.49it/s]"
     ]
    },
    {
     "name": "stdout",
     "output_type": "stream",
     "text": [
      "total reads overall 6200704\n",
      "total reads overall 6211052\n",
      "total reads overall 6274253\n"
     ]
    },
    {
     "name": "stderr",
     "output_type": "stream",
     "text": [
      " 60%|██████    | 212/352 [00:20<00:17,  8.03it/s]"
     ]
    },
    {
     "name": "stdout",
     "output_type": "stream",
     "text": [
      "total reads overall 6312466\n",
      "total reads overall 6388275\n",
      "total reads overall 6417798\n"
     ]
    },
    {
     "name": "stderr",
     "output_type": "stream",
     "text": [
      " 61%|██████    | 214/352 [00:20<00:17,  7.69it/s]"
     ]
    },
    {
     "name": "stdout",
     "output_type": "stream",
     "text": [
      "total reads overall 6470067\n",
      "total reads overall 6491945\n"
     ]
    },
    {
     "name": "stderr",
     "output_type": "stream",
     "text": [
      " 62%|██████▏   | 219/352 [00:20<00:12, 10.51it/s]"
     ]
    },
    {
     "name": "stdout",
     "output_type": "stream",
     "text": [
      "total reads overall 6540051\n",
      "total reads overall 6551791\n",
      "total reads overall 6570081\n",
      "total reads overall 6587129\n"
     ]
    },
    {
     "name": "stderr",
     "output_type": "stream",
     "text": [
      " 63%|██████▎   | 221/352 [00:21<00:18,  6.95it/s]"
     ]
    },
    {
     "name": "stdout",
     "output_type": "stream",
     "text": [
      "total reads overall 6633550\n",
      "total reads overall 6680957\n",
      "total reads overall 6703027\n"
     ]
    },
    {
     "name": "stderr",
     "output_type": "stream",
     "text": [
      " 64%|██████▎   | 224/352 [00:21<00:13,  9.25it/s]"
     ]
    },
    {
     "name": "stdout",
     "output_type": "stream",
     "text": [
      "total reads overall 6727155\n",
      "total reads overall 6763260\n"
     ]
    },
    {
     "name": "stderr",
     "output_type": "stream",
     "text": [
      " 64%|██████▍   | 226/352 [00:21<00:15,  8.39it/s]"
     ]
    },
    {
     "name": "stdout",
     "output_type": "stream",
     "text": [
      "total reads overall 6782382\n",
      "total reads overall 6803874\n",
      "total reads overall 6833068\n"
     ]
    },
    {
     "name": "stderr",
     "output_type": "stream",
     "text": [
      " 65%|██████▌   | 230/352 [00:22<00:18,  6.54it/s]"
     ]
    },
    {
     "name": "stdout",
     "output_type": "stream",
     "text": [
      "total reads overall 6927732\n",
      "total reads overall 6992632\n",
      "total reads overall 7065062\n",
      "total reads overall 7109122\n",
      "total reads overall 7170086\n"
     ]
    },
    {
     "name": "stderr",
     "output_type": "stream",
     "text": [
      " 66%|██████▌   | 233/352 [00:22<00:12,  9.23it/s]"
     ]
    },
    {
     "name": "stdout",
     "output_type": "stream",
     "text": [
      "total reads overall 7205633\n",
      "total reads overall 7222021\n"
     ]
    },
    {
     "name": "stderr",
     "output_type": "stream",
     "text": [
      " 67%|██████▋   | 235/352 [00:23<00:17,  6.58it/s]"
     ]
    },
    {
     "name": "stdout",
     "output_type": "stream",
     "text": [
      "total reads overall 7245536\n",
      "total reads overall 7302384\n"
     ]
    },
    {
     "name": "stderr",
     "output_type": "stream",
     "text": [
      " 68%|██████▊   | 239/352 [00:23<00:13,  8.10it/s]"
     ]
    },
    {
     "name": "stdout",
     "output_type": "stream",
     "text": [
      "total reads overall 7349993\n",
      "total reads overall 7372116\n",
      "total reads overall 7433757\n"
     ]
    },
    {
     "name": "stderr",
     "output_type": "stream",
     "text": [
      " 68%|██████▊   | 241/352 [00:23<00:11,  9.38it/s]"
     ]
    },
    {
     "name": "stdout",
     "output_type": "stream",
     "text": [
      "total reads overall 7459382\n",
      "total reads overall 7481174\n",
      "total reads overall 7506937\n"
     ]
    },
    {
     "name": "stderr",
     "output_type": "stream",
     "text": [
      " 69%|██████▉   | 243/352 [00:24<00:11,  9.33it/s]"
     ]
    },
    {
     "name": "stdout",
     "output_type": "stream",
     "text": [
      "total reads overall 7539662\n",
      "total reads overall 7576969\n",
      "total reads overall 7656476\n"
     ]
    },
    {
     "name": "stderr",
     "output_type": "stream",
     "text": [
      " 70%|██████▉   | 246/352 [00:24<00:11,  9.28it/s]"
     ]
    },
    {
     "name": "stdout",
     "output_type": "stream",
     "text": [
      "total reads overall 7672748\n"
     ]
    },
    {
     "name": "stderr",
     "output_type": "stream",
     "text": [
      " 70%|███████   | 248/352 [00:24<00:13,  7.55it/s]"
     ]
    },
    {
     "name": "stdout",
     "output_type": "stream",
     "text": [
      "total reads overall 8075234\n",
      "total reads overall 8102455\n",
      "total reads overall 8151314\n",
      "total reads overall 8169327\n",
      "total reads overall 8199779\n"
     ]
    },
    {
     "name": "stderr",
     "output_type": "stream",
     "text": [
      " 72%|███████▏  | 254/352 [00:25<00:10,  9.61it/s]"
     ]
    },
    {
     "name": "stdout",
     "output_type": "stream",
     "text": [
      "total reads overall 8249422\n",
      "total reads overall 8289085\n",
      "total reads overall 8340394\n"
     ]
    },
    {
     "name": "stderr",
     "output_type": "stream",
     "text": [
      " 73%|███████▎  | 256/352 [00:25<00:10,  8.95it/s]"
     ]
    },
    {
     "name": "stdout",
     "output_type": "stream",
     "text": [
      "total reads overall 8370511\n",
      "total reads overall 8412349\n"
     ]
    },
    {
     "name": "stderr",
     "output_type": "stream",
     "text": [
      " 73%|███████▎  | 258/352 [00:25<00:10,  8.69it/s]"
     ]
    },
    {
     "name": "stdout",
     "output_type": "stream",
     "text": [
      "total reads overall 8454854\n",
      "total reads overall 8479306\n"
     ]
    },
    {
     "name": "stderr",
     "output_type": "stream",
     "text": [
      " 74%|███████▍  | 260/352 [00:26<00:12,  7.63it/s]"
     ]
    },
    {
     "name": "stdout",
     "output_type": "stream",
     "text": [
      "total reads overall 8502825\n",
      "total reads overall 8570430\n",
      "total reads overall 8580205\n"
     ]
    },
    {
     "name": "stderr",
     "output_type": "stream",
     "text": [
      " 75%|███████▌  | 264/352 [00:26<00:09,  8.85it/s]"
     ]
    },
    {
     "name": "stdout",
     "output_type": "stream",
     "text": [
      "total reads overall 8610120\n",
      "total reads overall 8642164\n",
      "total reads overall 8705975\n"
     ]
    },
    {
     "name": "stderr",
     "output_type": "stream",
     "text": [
      " 76%|███████▌  | 266/352 [00:26<00:09,  9.02it/s]"
     ]
    },
    {
     "name": "stdout",
     "output_type": "stream",
     "text": [
      "total reads overall 8767449\n",
      "total reads overall 8862311\n",
      "total reads overall 8895197\n",
      "total reads overall 8911807\n"
     ]
    },
    {
     "name": "stderr",
     "output_type": "stream",
     "text": [
      " 76%|███████▋  | 269/352 [00:26<00:07, 11.75it/s]"
     ]
    },
    {
     "name": "stdout",
     "output_type": "stream",
     "text": [
      "total reads overall 8991435\n",
      "total reads overall 9009529\n"
     ]
    },
    {
     "name": "stderr",
     "output_type": "stream",
     "text": [
      " 77%|███████▋  | 271/352 [00:27<00:07, 11.06it/s]"
     ]
    },
    {
     "name": "stdout",
     "output_type": "stream",
     "text": [
      "total reads overall 9025027\n",
      "total reads overall 9062291\n"
     ]
    },
    {
     "name": "stderr",
     "output_type": "stream",
     "text": [
      " 78%|███████▊  | 276/352 [00:27<00:05, 13.52it/s]"
     ]
    },
    {
     "name": "stdout",
     "output_type": "stream",
     "text": [
      "total reads overall 9088216\n",
      "total reads overall 9096030\n",
      "total reads overall 9112913\n",
      "total reads overall 9157884\n",
      "total reads overall 9184585\n"
     ]
    },
    {
     "name": "stderr",
     "output_type": "stream",
     "text": [
      " 79%|███████▉  | 278/352 [00:27<00:05, 13.15it/s]"
     ]
    },
    {
     "name": "stdout",
     "output_type": "stream",
     "text": [
      "total reads overall 9251401\n",
      "total reads overall 9308586\n"
     ]
    },
    {
     "name": "stderr",
     "output_type": "stream",
     "text": [
      " 80%|███████▉  | 280/352 [00:27<00:06, 11.65it/s]"
     ]
    },
    {
     "name": "stdout",
     "output_type": "stream",
     "text": [
      "total reads overall 9372623\n",
      "total reads overall 9387247\n"
     ]
    },
    {
     "name": "stderr",
     "output_type": "stream",
     "text": [
      " 81%|████████  | 284/352 [00:28<00:08,  8.11it/s]"
     ]
    },
    {
     "name": "stdout",
     "output_type": "stream",
     "text": [
      "total reads overall 9409071\n",
      "total reads overall 9438270\n",
      "total reads overall 9490248\n"
     ]
    },
    {
     "name": "stderr",
     "output_type": "stream",
     "text": [
      " 81%|████████▏ | 286/352 [00:28<00:07,  8.82it/s]"
     ]
    },
    {
     "name": "stdout",
     "output_type": "stream",
     "text": [
      "total reads overall 9523292\n",
      "total reads overall 9563321\n"
     ]
    },
    {
     "name": "stderr",
     "output_type": "stream",
     "text": [
      " 82%|████████▏ | 288/352 [00:29<00:07,  8.74it/s]"
     ]
    },
    {
     "name": "stdout",
     "output_type": "stream",
     "text": [
      "total reads overall 9600014\n",
      "total reads overall 9669662\n"
     ]
    },
    {
     "name": "stderr",
     "output_type": "stream",
     "text": [
      " 83%|████████▎ | 291/352 [00:29<00:07,  8.67it/s]"
     ]
    },
    {
     "name": "stdout",
     "output_type": "stream",
     "text": [
      "total reads overall 9706169\n",
      "total reads overall 9706169\n",
      "total reads overall 9738916\n",
      "total reads overall 9738916\n",
      "total reads overall 9756583\n"
     ]
    },
    {
     "name": "stderr",
     "output_type": "stream",
     "text": [
      " 84%|████████▍ | 295/352 [00:29<00:04, 12.56it/s]"
     ]
    },
    {
     "name": "stdout",
     "output_type": "stream",
     "text": [
      "total reads overall 9758592\n",
      "total reads overall 9834370\n"
     ]
    },
    {
     "name": "stderr",
     "output_type": "stream",
     "text": [
      " 84%|████████▍ | 297/352 [00:29<00:05, 10.90it/s]"
     ]
    },
    {
     "name": "stdout",
     "output_type": "stream",
     "text": [
      "total reads overall 9889423\n",
      "total reads overall 9909624\n",
      "total reads overall 9915876\n",
      "total reads overall 9959537\n",
      "total reads overall 9994550\n"
     ]
    },
    {
     "name": "stderr",
     "output_type": "stream",
     "text": [
      " 86%|████████▌ | 301/352 [00:30<00:04, 12.64it/s]"
     ]
    },
    {
     "name": "stdout",
     "output_type": "stream",
     "text": [
      "total reads overall 10056100\n",
      "total reads overall 10089049\n"
     ]
    },
    {
     "name": "stderr",
     "output_type": "stream",
     "text": [
      " 88%|████████▊ | 309/352 [00:30<00:02, 17.21it/s]"
     ]
    },
    {
     "name": "stdout",
     "output_type": "stream",
     "text": [
      "total reads overall 10571867\n",
      "total reads overall 10635103\n",
      "total reads overall 10646750\n",
      "total reads overall 10650906\n",
      "total reads overall 10695902\n",
      "total reads overall 10701107\n",
      "total reads overall 10732515\n",
      "total reads overall 10762422\n",
      "total reads overall 10763038\n"
     ]
    },
    {
     "name": "stderr",
     "output_type": "stream",
     "text": [
      " 89%|████████▊ | 312/352 [00:30<00:02, 19.19it/s]"
     ]
    },
    {
     "name": "stdout",
     "output_type": "stream",
     "text": [
      "total reads overall 10784992\n",
      "total reads overall 10811752\n",
      "total reads overall 10812277\n"
     ]
    },
    {
     "name": "stderr",
     "output_type": "stream",
     "text": [
      " 89%|████████▉ | 315/352 [00:30<00:02, 16.37it/s]"
     ]
    },
    {
     "name": "stdout",
     "output_type": "stream",
     "text": [
      "total reads overall 10821896\n",
      "total reads overall 10832001\n",
      "total reads overall 10891703\n"
     ]
    },
    {
     "name": "stderr",
     "output_type": "stream",
     "text": [
      " 91%|█████████▏| 322/352 [00:31<00:01, 17.87it/s]"
     ]
    },
    {
     "name": "stdout",
     "output_type": "stream",
     "text": [
      "total reads overall 10926799\n",
      "total reads overall 10928211\n",
      "total reads overall 10933609\n",
      "total reads overall 10955379\n",
      "total reads overall 11021385\n",
      "total reads overall 11047240\n",
      "total reads overall 11047241\n",
      "total reads overall 11047242\n"
     ]
    },
    {
     "name": "stderr",
     "output_type": "stream",
     "text": [
      " 95%|█████████▌| 336/352 [00:31<00:00, 36.88it/s]"
     ]
    },
    {
     "name": "stdout",
     "output_type": "stream",
     "text": [
      "total reads overall 11058281\n",
      "total reads overall 11073227\n",
      "total reads overall 11073228\n",
      "total reads overall 11076299\n",
      "total reads overall 11150777\n",
      "total reads overall 11150777\n",
      "total reads overall 11150777\n",
      "total reads overall 11150778\n",
      "total reads overall 11150781\n",
      "total reads overall 11150781\n",
      "total reads overall 11150781\n",
      "total reads overall 11150782\n",
      "total reads overall 11150783\n",
      "total reads overall 11150783\n",
      "total reads overall 11150783\n",
      "total reads overall 11150784\n",
      "total reads overall 11177284\n"
     ]
    },
    {
     "name": "stderr",
     "output_type": "stream",
     "text": [
      " 97%|█████████▋| 343/352 [00:31<00:00, 29.69it/s]"
     ]
    },
    {
     "name": "stdout",
     "output_type": "stream",
     "text": [
      "total reads overall 11206010\n",
      "total reads overall 11274951\n",
      "total reads overall 11284958\n",
      "total reads overall 11320516\n"
     ]
    },
    {
     "name": "stderr",
     "output_type": "stream",
     "text": [
      " 99%|█████████▊| 347/352 [00:32<00:00, 16.82it/s]"
     ]
    },
    {
     "name": "stdout",
     "output_type": "stream",
     "text": [
      "total reads overall 11451370\n",
      "total reads overall 11473144\n",
      "total reads overall 11499450\n"
     ]
    },
    {
     "name": "stderr",
     "output_type": "stream",
     "text": [
      " 99%|█████████▉| 350/352 [00:33<00:00,  9.01it/s]"
     ]
    },
    {
     "name": "stdout",
     "output_type": "stream",
     "text": [
      "total reads overall 11570942\n",
      "total reads overall 11689640\n"
     ]
    },
    {
     "name": "stderr",
     "output_type": "stream",
     "text": [
      "100%|██████████| 352/352 [00:36<00:00,  9.67it/s]"
     ]
    },
    {
     "name": "stdout",
     "output_type": "stream",
     "text": [
      "total reads overall 11694571\n"
     ]
    },
    {
     "name": "stderr",
     "output_type": "stream",
     "text": [
      "\n"
     ]
    }
   ],
   "source": [
    "from collections import defaultdict\n",
    "import pandas as pd\n",
    "from matplotlib import pyplot as plt\n",
    "import numpy as np\n",
    "import time\n",
    "from multiprocessing import Pool\n",
    "import multiprocessing\n",
    "from tqdm import tqdm\n",
    "\n",
    "start_time = time.perf_counter()\n",
    "\n",
    "print(\"CPU count: {}\".format(multiprocessing.cpu_count()))\n",
    "\n",
    "output_folder = '/projects/ps-yeolab3/ekofman/sailor2/scripts/check_against_pileup_all_cells_threaded_outs_bigger'\n",
    "\n",
    "contig_lengths_dict = get_contig_lengths_dict(samfile)\n",
    "\n",
    "# Print info?\n",
    "verbose = False \n",
    "EDITED_CODE = 'edited'\n",
    "\n",
    "# How many subcontigs to split each contig into to leverage multi-processing\n",
    "num_intervals = 16\n",
    "\n",
    "num_reads_to_coverage_dict_kb = {}\n",
    "num_reads_to_seconds = {}\n",
    "\n",
    "\n",
    "start_time = time.perf_counter()\n",
    "total_seconds_for_reads = {0: 1}\n",
    "\n",
    "barcodes = defaultdict(lambda:defaultdict(lambda:0))\n",
    "\n",
    "jobs = []\n",
    "for contig in contig_lengths_dict.keys():\n",
    "    # Skip useless contigs\n",
    "    if len(contig) > 5 or contig == 'Stamp':# or contig != '17':\n",
    "        continue\n",
    "        \n",
    "    print(\"Contig {}\".format(contig))\n",
    "    contig_length = contig_lengths_dict.get(contig)\n",
    "    intervals_for_contig = get_intervals(contig, contig_lengths_dict, num_intervals)\n",
    "    \n",
    "    # Make subfolder in which to information about edits\n",
    "    edit_info_subfolder = '{}/edit_info'.format(output_folder)\n",
    "    make_folder(edit_info_subfolder)\n",
    "        \n",
    "    # Set up for pool\n",
    "    for split_index, interval in enumerate(intervals_for_contig):\n",
    "        split_index = str(split_index).zfill(3)\n",
    "        parameters = [bampath, contig, split_index, interval[0], interval[1], output_folder, verbose]\n",
    "        jobs.append(parameters)\n",
    "    \n",
    "print(\"{} total jobs\".format(len(jobs)))\n",
    "\n",
    "# Pooling\n",
    "results = []\n",
    "overall_total_reads = 0\n",
    "with Pool(processes=16) as p:\n",
    "    max_ = len(jobs)\n",
    "    with tqdm(total=max_) as pbar:\n",
    "        for _ in p.imap_unordered(find_edits_and_split_bams_wrapper, jobs):\n",
    "            pbar.update()\n",
    "            results.append(_)\n",
    "            \n",
    "            total_reads = _[1]\n",
    "            total_time = time.perf_counter() - start_time\n",
    "            \n",
    "            overall_total_reads += total_reads\n",
    "            print('total reads overall', overall_total_reads)\n",
    "\n",
    "            total_seconds_for_reads[overall_total_reads] = total_time\n",
    "\n",
    "overall_time = time.perf_counter() - start_time \n"
   ]
  },
  {
   "cell_type": "code",
   "execution_count": 10,
   "id": "ef9f6856-e2bb-42bf-808c-4460b722aebe",
   "metadata": {},
   "outputs": [],
   "source": [
    "# Read with softclipping\n",
    "failed_read_as_string = 'A01535:287:H3JJHDSX7:1:2557:22101:32534\t16\t17\t35623697\t255\t10S91M\t*\t0\t0\tGTACTGTGTGATATAAAGTTTGCGTTTCTAATTTGCTTCTCTTTACAGTGTTGGACGACTAGGACATCTTTTGATACATATGCAGCTATAGTCAAGAGCTC\t:F:,F,,FFFFF,F,,F::FF:F,F,F:,F,FF,F,,FFF,FFF,,,FF:,F,:,,F,FFFFF,,F,,FFFFFF,F::F,F,,FF,F,,,:F,F,FFF:FF\tNH:i:1\tHI:i:1\tAS:i:73\tnM:i:8\tTX:Z:ENSMUSG00000090588,+\tGX:Z:ENSMUSG00000090588\tGN:Z:Gm9573\tfx:Z:ENSMUSG00000090588\tRE:A:N\tAN:Z:ENSMUSG00000090509,-\txf:i:25\tCR:Z:AAACCAAAGTAAAGCT\tCY:Z:,::,F,FF:::,F,::\tCB:Z:AAACCCAAGTAAAGCT-1\tUR:Z:AGTTAATAATTT\tUY:Z:FF:FF,FF:FFF\tUB:Z:AGTTAATAATTT\tNM:i:8\tMD:Z:22G0G2C7C5A3C8C24G12\tRG:Z:ms_hippo_stamp_EIF4A_batch2:0:1:H3JJHDSX7:1-158658B'\n",
    "failed_read = pysam.AlignedSegment.fromstring(failed_read_as_string, samfile.header)\n",
    "read = failed_read"
   ]
  },
  {
   "cell_type": "code",
   "execution_count": 11,
   "id": "332007ed-28ef-4b3d-860c-7f5270b844da",
   "metadata": {},
   "outputs": [],
   "source": [
    "# Read with insertion\n",
    "#failed_read_as_string = 'A01535:287:H3JJHDSX7:1:2521:32226:37012\t16\t17\t35834044\t255\t58M1I42M\t*\t0\t0\tGATCATGGGTCAGAGGTGGTGACAGCCCATCTGGGCAGTGTCTTAAAGACCCAGTTGGAAAACATACTTTCCCAAGTTTGGAGTTTCAGCGGGAATTGTGA\tFF,F,F:F:,::F,F,FF::F,FF:F,F:FFFF,,F,FF:F:F,FFF:FFF::F,F,,:,:F:FFF,,FFF,:FF,:,F,,F::FF:F,,,F,:FFF,,:F\tNH:i:1\tHI:i:1\tAS:i:82\tnM:i:6\tTX:Z:ENSMUST00000001566,+2426,42M1I58M\tGX:Z:ENSMUSG00000001525\tGN:Z:Tubb5\tfx:Z:ENSMUSG00000001525\tRE:A:E\txf:i:25\tCR:Z:AAACCCATCATCTATA\tCY:Z:FFF,F,:::F:FF,,F\tCB:Z:AAACCCATCATCTCTA-1\tUR:Z:AATAGAGAATTC\tUY:Z:FF:FF:,,,::F\tUB:Z:AATAGAGACTTC\tNM:i:7\tMD:Z:2G6G33G10G21G20G2\tRG:Z:ms_hippo_stamp_EIF4A_batch2:0:1:H3JJHDSX7:1-20B66910'\n",
    "#failed_read = pysam.AlignedSegment.fromstring(failed_read_as_string, samfile.header)\n",
    "#read = failed_read"
   ]
  },
  {
   "cell_type": "code",
   "execution_count": 12,
   "id": "997092c0-977e-4b1c-9399-b762915cde70",
   "metadata": {},
   "outputs": [],
   "source": [
    "# Read with splice junction\n",
    "\n",
    "#read_as_string = 'A01535:287:H3JJHDSX7:1:2176:29188:6324\t16\t17\t33952115\t255\t4M102N92M90N5M\t*\t0\t0\tAAGGCCCCAAAAGTGGCGCAGCCCTCTATGGGCTCGAATTTTCTTCAGCCTCTCCAGGTCCTCACGCAGCTTGTTGTCTAGACCGTTGGTCAGAACCTGGC\t:FFFFFFF:FFFFFFFFF,FFFFFFFF,FFFF,FFF::FF:FF:FFFFFFFFFFFFFFFFFFF,FFFFFFFFF,FFFFFFFFFFFFFFFFFFFFFFFFFFF\tNH:i:1\tHI:i:1\tAS:i:101\tnM:i:1\tTX:Z:ENSMUST00000008812,+383,101M;ENSMUST00000172799,+935,101M;ENSMUST00000174745,+319,101M;ENSMUST00000174758,+282,101M\tGX:Z:ENSMUSG00000008668\tGN:Z:Rps18\tfx:Z:ENSMUSG00000008668\tRE:A:E\txf:i:25\tCR:Z:AAACCCAAGAACTTCC\tCY:Z:FF:F,FFFFFFFF:FF\tCB:Z:AAACCCAAGAACTTCC-1\tUR:Z:CGCCCCTGCGCA\tUY:Z:FFFFFFFF:,FF\tUB:Z:CGCCCCTGCTCA\tNM:i:1\tMD:Z:89C11\tRG:Z:ms_hippo_stamp_EIF4A_batch2:0:1:H3JJHDSX7:1-32F01FC'\n",
    "#read = pysam.AlignedSegment.fromstring(read_as_string, samfile.header)\n"
   ]
  },
  {
   "cell_type": "code",
   "execution_count": 13,
   "id": "eb713987-0d43-400e-9797-649a0f4d1a0f",
   "metadata": {},
   "outputs": [],
   "source": [
    "#read_as_string = 'A01535:287:H3JJHDSX7:1:2557:22101:32534\t16\t17\t35623697\t255\t10S91M\t*\t0\t0\tGTACTGTGTGATATAAAGTTTGCGTTTCTAATTTGCTTCTCTTTACAGTGTTGGACGACTAGGACATCTTTTGATACATATGCAGCTATAGTCAAGAGCTC\t:F:,F,,FFFFF,F,,F::FF:F,F,F:,F,FF,F,,FFF,FFF,,,FF:,F,:,,F,FFFFF,,F,,FFFFFF,F::F,F,,FF,F,,,:F,F,FFF:FF\tNH:i:1\tHI:i:1\tAS:i:73\tnM:i:8\tTX:Z:ENSMUSG00000090588,+\tGX:Z:ENSMUSG00000090588\tGN:Z:Gm9573\tfx:Z:ENSMUSG00000090588\tRE:A:N\tAN:Z:ENSMUSG00000090509,-\txf:i:25\tCR:Z:AAACCAAAGTAAAGCT\tCY:Z:,::,F,FF:::,F,::\tCB:Z:AAACCCAAGTAAAGCT-1\tUR:Z:AGTTAATAATTT\tUY:Z:FF:FF,FF:FFF\tUB:Z:AGTTAATAATTT\tNM:i:8\tMD:Z:22G0G2C7C5A3C8C24G12\tRG:Z:ms_hippo_stamp_EIF4A_batch2:0:1:H3JJHDSX7:1-158658B'\n",
    "#failed_read = pysam.AlignedSegment.fromstring(read_as_string, samfile.header)\n",
    "#read = failed_read"
   ]
  },
  {
   "cell_type": "code",
   "execution_count": 14,
   "id": "d3841007-528a-4bc1-a381-4f29ab934033",
   "metadata": {},
   "outputs": [],
   "source": [
    "# Read with softclipping and insertions and deletions and splice junction\n",
    "#read_as_string = 'A01535:287:H3JJHDSX7:1:1142:11198:27085\t16\t17\t35893040\t255\t2S70M1809N3M1D26M\t*\t0\t0\tAGCTTGTCCAGGTGATGGCGACAGATGAGGCCACTGGAATTCAGGTAGAAGGTGGAAAAGGCATCGAAGGTCCGGAAAGATCCTCTTTATCACGCCTGTAG\tFFF,FFFFFFFFFFF,FFFFFFFFF:FFFFFFFFFFFFFFFFFFFFFFFFFFFFFFF:FFFFFFFFFFFFFFFFFFFFFFFFFFFFFFF:FFFFFFFFFFF\tNH:i:1\tHI:i:1\tAS:i:94\tnM:i:0\tTX:Z:ENSMUST00000059740,+510,26M1D73M2S;ENSMUST00000146451,+1701,26M1D73M2S;ENSMUST00000148482,+803,26M1D73M2S;ENSMUST00000148721,+903,26M1D73M2S;ENSMUST00000154670,+201,26M1D73M2S\tGX:Z:ENSMUSG00000050705\tGN:Z:2310061I04Rik\tfx:Z:ENSMUSG00000050705\tRE:A:E\txf:i:25\tCR:Z:AACCTTTCAGTAGAGC\tCY:Z:FFFFFFFFFFFFFFFF\tCB:Z:AACCTTTCAGTAGAGC-1\tUR:Z:ACAATATACTCT\tUY:Z:FFFFFFFFFFFF\tUB:Z:ACAATATACTCT\tNM:i:1\tMD:Z:73^T26\tRG:Z:ms_hippo_stamp_EIF4A_batch2:0:1:H3JJHDSX7:1-620CAE94'\n",
    "#failed_read = pysam.AlignedSegment.fromstring(read_as_string, samfile.header)\n",
    "#read = failed_read"
   ]
  },
  {
   "cell_type": "code",
   "execution_count": 15,
   "id": "c5a968cd-cf5e-4855-94e5-301e78cc4c47",
   "metadata": {},
   "outputs": [],
   "source": [
    "# Read with multiple splice junctions and a deletion\n",
    "#read_as_string = 'A01535:287:H3JJHDSX7:1:1247:13738:3051\t0\t17\t33941075\t255\t17M100N31M1D49M133N4M\t*\t0\t0\tAGAGGACGCTGTCGGGGGCTCAGGACCCGTTCCCAGGACCCGTCCCCGCCCCCTGGAGGAGGCCCGGAAGTCTTGTCGAATTGACAAGTCCAAAACGCTCC\tFFFFFFFFFFFFFFFFFFFFFFFFFFFFFFFFFFFFFFFFFFFFFFFFFFFFFFFFFFFFFFFFFFFFFFFFFF:FFFFFFFFFF:FFF:FFFFFFFFFFF\tNH:i:1\tHI:i:1\tAS:i:97\tnM:i:1\tTX:Z:ENSMUST00000025170,+337,48M1D53M\tGX:Z:ENSMUSG00000024312\tGN:Z:Wdr46\tfx:Z:ENSMUSG00000024312\tRE:A:E\txf:i:25\tCR:Z:AAGACTCAGTGAATAC\tCY:Z:FFFFFFFFFFFFFFFF\tCB:Z:AAGACTCAGTGAATAC-1\tUR:Z:CTACCGGTTCCG\tUY:Z:FFFFFFFFFFFF\tUB:Z:CTACCGGTTCCG\tNM:i:2\tMD:Z:48^C23T29\tRG:Z:ms_hippo_stamp_EIF4A_batch2:0:1:H3JJHDSX7:1-340D5C1D'\n",
    "#failed_read = pysam.AlignedSegment.fromstring(read_as_string, samfile.header)\n",
    "#read = failed_read"
   ]
  },
  {
   "cell_type": "raw",
   "id": "736e6f99-d2fe-44fa-8036-daa83658e40a",
   "metadata": {
    "tags": []
   },
   "source": [
    "is_reverse = read.is_reverse\n",
    "verbose = True\n",
    "\n",
    "strand = '+'\n",
    "if is_reverse:\n",
    "    strand = '-'\n",
    "    \n",
    "print(\"strand is {}\".format(strand))\n",
    "\n",
    "md_tag = read.get_tag('MD')\n",
    "print(\"MD tag is {}\".format(md_tag))\n",
    "cigarstring = read.cigarstring\n",
    "\n",
    "cigar_tuples = read.cigartuples\n",
    "aligned_seq = read.get_forward_sequence()\n",
    "if is_reverse:\n",
    "    aligned_seq = reverse_complement(aligned_seq)\n",
    "        \n",
    "query_qualities = read.query_qualities\n",
    "\n",
    "\n",
    "reference_seq = read.get_reference_sequence().lower()\n",
    "\n",
    "if verbose:\n",
    "        print('CIGAR tuples before clipping (if needed):\\n', cigar_tuples)\n",
    "        print('Aligned sequence before clipping (if needed):\\n', aligned_seq)\n",
    "\n",
    "aligned_seq, cigar_tuples = remove_softclipped_bases(cigar_tuples, aligned_seq)\n",
    "\n",
    "if verbose:\n",
    "    print('~~~~~~~~~~~~~~~~~~~~~~~~~~~~~~~~~~~~~~~')\n",
    "    print('CIGAR tuples after clipping (if needed):\\n', cigar_tuples)\n",
    "    print('Aligned sequence after clipping (if needed):\\n', aligned_seq)\n",
    "    print('~~~~~~~~~~~~~~~~~~~~~~~~~~~~~~~~~~~~~~~')\n",
    "\n",
    "\n",
    "positions_replaced = get_positions_from_md_tag(md_tag, verbose=verbose)\n",
    "# Incorporate insertions, deletions, and splice junctions (N)\n",
    "fixed_aligned_seq_for_deletion_locations = incorporate_insertions_and_deletions(aligned_seq, cigar_tuples, junctions=False)\n",
    "fixed_aligned_seq = incorporate_insertions_and_deletions(aligned_seq, cigar_tuples)\n",
    "\n",
    "# Account for deletions\n",
    "if '*' in fixed_aligned_seq_for_deletion_locations:\n",
    "    # These are coordinates after already fixing the read with deletions, insertions and junctions\n",
    "    positions_deleted = find(fixed_aligned_seq_for_deletion_locations, '*')\n",
    "else:\n",
    "    positions_deleted = []\n",
    "\n",
    "indicated_reference_seq, ref_bases = incorporate_replaced_pos_info(reference_seq, positions_replaced, positions_deleted=positions_deleted)\n",
    "fixed_reference_seq = incorporate_insertions_and_deletions(indicated_reference_seq, cigar_tuples, insertions=False, deletions=False)\n",
    "indicated_qualities, qualities = incorporate_replaced_pos_info(query_qualities, positions_replaced, qualities=True)\n",
    "\n",
    "\n",
    "# Get global coordinates of positions replaced\n",
    "global_positions_replaced = []\n",
    "finalized_fixed_aligned_seq = ''\n",
    "alt_bases = []\n",
    "for i, character in enumerate(fixed_reference_seq):\n",
    "    if character.isupper():\n",
    "        global_positions_replaced.append(i)\n",
    "        upper_char = fixed_aligned_seq[i].upper()\n",
    "        finalized_fixed_aligned_seq += upper_char\n",
    "        if upper_char != '*':\n",
    "            alt_bases.append(upper_char)\n",
    "    else:\n",
    "        lower_char = fixed_aligned_seq[i].lower()\n",
    "        finalized_fixed_aligned_seq += lower_char\n",
    "\n",
    "if verbose:\n",
    "    print(\"Indicated reference seq:\\n\", indicated_reference_seq)\n",
    "    print('~~~~~~~~~~~~~~~~~~~~~~~~~~~~~~~~~~~~~~~')\n",
    "    print(\"Fixed reference seq:\\n\", fixed_reference_seq)\n",
    "    print(\"Fixed aligned seq:\\n\", fixed_aligned_seq)\n",
    "    print(\"Finalized fixed aligned seq:\\n\", finalized_fixed_aligned_seq)\n",
    "\n",
    "    print('~~~~~~~~~~~~~~~~~~~~~~~~~~~~~~~~~~~~~~~')\n",
    "    print('alt bases', alt_bases)\n",
    "    print('ref bases', ref_bases)\n",
    "\n",
    "hamming_check = True\n",
    "\n",
    "if hamming_check:\n",
    "    num_deletions = finalized_fixed_aligned_seq.count('*')\n",
    "    hamming_distance = get_hamming_distance(finalized_fixed_aligned_seq, fixed_reference_seq) - num_deletions\n",
    "    print(\"Hamming distance: {}\".format(hamming_distance))\n",
    "    assert(hamming_distance == len(alt_bases))"
   ]
  },
  {
   "cell_type": "code",
   "execution_count": 33,
   "id": "658d30fb-efc7-4682-a0da-c7bffda96390",
   "metadata": {},
   "outputs": [
    {
     "name": "stdout",
     "output_type": "stream",
     "text": [
      "AGAGGACGCTGTCGGGGGCTCAGGACCCGTTCCCAGGACCCGTCCCCG*CCCCCTGGAGGAGGCCCGGAAGTCTTGTCGAATTGACAAGTCCAAAACGCTCC\n",
      "AGAGGACGCTGTCGGGGnnnnnnnnnnnnnnnnnnnnnnnnnnnnnnnnnnnnnnnnnnnnnnnnnnnnnnnnnnnnnnnnnnnnnnnnnnnnnnnnnnnnnnnnnnnnnnnnnnnnGCTCAGGACCCGTTCCCAGGACCCGTCCCCG*CCCCCTGGAGGAGGCCCGGAAGTCTTGTCGAATTGACAAGTCCAAAACGnnnnnnnnnnnnnnnnnnnnnnnnnnnnnnnnnnnnnnnnnnnnnnnnnnnnnnnnnnnnnnnnnnnnnnnnnnnnnnnnnnnnnnnnnnnnnnnnnnnnnnnnnnnnnnnnnnnnnnnnnnnnnnnnnnnnnCTCC\n"
     ]
    }
   ],
   "source": [
    "\n",
    "def incorporate_insertions_and_deletions(aligned_sequence, cigar_tuples, insertions=True, deletions=True, junctions=True):\n",
    "    \"\"\"\n",
    "    Update an aligned sequence to reflect any insertions (take away those positions) such\n",
    "    that it can be better compared base-to-base to a reference sequence.\n",
    "    \"\"\"\n",
    "    new_seq = ''\n",
    "    \n",
    "    current_pos = 0\n",
    "    \n",
    "    positions_of_deletions = []\n",
    "    \n",
    "    for mod, num_bases in cigar_tuples:\n",
    "        if mod == 0:\n",
    "            # match\n",
    "            new_seq += aligned_sequence[current_pos:current_pos+num_bases]\n",
    "            current_pos += num_bases\n",
    "        if mod in [1]:\n",
    "            # insertion -- only do this for aligned sequence, not reference\n",
    "            if insertions:\n",
    "                current_pos += num_bases\n",
    "            \n",
    "        if mod in [2]:\n",
    "            # deletion -- only do this for aligned sequence, not reference\n",
    "            if deletions:\n",
    "                new_seq += ''.join(['*' for r in range(num_bases)])\n",
    "        if mod in [3]:\n",
    "            # N\n",
    "            if junctions:\n",
    "                new_seq += ''.join(['n' for r in range(num_bases)])\n",
    "            \n",
    "    return new_seq\n",
    "\n",
    "fixed_aligned_seq_for_deletion_locations = incorporate_insertions_and_deletions(aligned_seq, cigar_tuples, junctions=False)\n",
    "fixed_aligned_seq = incorporate_insertions_and_deletions(aligned_seq, cigar_tuples)\n",
    "\n",
    "print(fixed_aligned_seq_for_deletion_locations)\n",
    "print(fixed_aligned_seq)"
   ]
  },
  {
   "cell_type": "code",
   "execution_count": 8,
   "id": "df0f1977-a6e9-4653-97ef-fb2afa07ad19",
   "metadata": {},
   "outputs": [
    {
     "name": "stdout",
     "output_type": "stream",
     "text": [
      "Total time: 36.60574158281088 seconds\n",
      "Total time: 0.610095693046848 minutes\n"
     ]
    }
   ],
   "source": [
    "print(\"Total time: {} seconds\".format(overall_time))\n",
    "print(\"Total time: {} minutes\".format(overall_time/60))"
   ]
  },
  {
   "cell_type": "markdown",
   "id": "1f7ad726-4045-4229-ae90-369ae6327f06",
   "metadata": {},
   "source": [
    "# More helper functions"
   ]
  },
  {
   "cell_type": "code",
   "execution_count": 10,
   "id": "139466f8-428d-418b-808b-103f70897871",
   "metadata": {},
   "outputs": [],
   "source": [
    "def sort_bam(bam_file_name):\n",
    "    output_name = bam_file_name.split(\"bam\")[0] + \".sorted.bam\"\n",
    "    pysam.sort(\"-o\", output_name, bam_file_name)  \n",
    "    return output_name\n",
    "\n",
    "def write_reads_to_file(reads, bam_file_name, header_string):\n",
    "    with pysam.AlignmentFile(bam_file_name, \"wb\", text=header_string) as bam_handle:\n",
    "        for read_str in reads:\n",
    "            read = pysam.AlignedSegment.fromstring(read_str, bam_handle.header)\n",
    "            bam_handle.write(read) \n",
    "    bam_handle.close()\n",
    "            \n",
    "def write_reads_to_file_wrapper(parameters):\n",
    "    reads, bam_file_name, header_string = parameters\n",
    "    write_reads_to_file(reads, bam_file_name, header_string)\n",
    "    \n",
    "    try:\n",
    "        index_bam(bam_file_name)\n",
    "    except Exception as e:\n",
    "        print(\"Failed at indexing {}\".format(bam_file_name))\n",
    "        \n",
    "    "
   ]
  },
  {
   "cell_type": "markdown",
   "id": "75188cf5-e1f2-4390-ba25-541e0f7b2800",
   "metadata": {},
   "source": [
    "# Combine all of the reads (string representation) for each barcode\n",
    "## Groups the results from each sub-contig segment above, for example the reads from the first half of chr1 and those from the second half."
   ]
  },
  {
   "cell_type": "code",
   "execution_count": 11,
   "id": "7830a72a-38bb-4e9a-ab7a-fe3867daf56a",
   "metadata": {},
   "outputs": [
    {
     "name": "stdout",
     "output_type": "stream",
     "text": [
      "Length mismatch: Expected axis has 0 elements, new values have 1 elements MT(000):0-1019\n",
      "Length mismatch: Expected axis has 0 elements, new values have 1 elements MT(001):1019-2038\n",
      "Length mismatch: Expected axis has 0 elements, new values have 1 elements Y(004):22936176-28670220\n",
      "Length mismatch: Expected axis has 0 elements, new values have 1 elements Y(005):28670220-34404264\n",
      "Length mismatch: Expected axis has 0 elements, new values have 1 elements Y(008):45872352-51606396\n",
      "Length mismatch: Expected axis has 0 elements, new values have 1 elements Y(009):51606396-57340440\n",
      "Length mismatch: Expected axis has 0 elements, new values have 1 elements Y(012):68808528-74542572\n",
      "Length mismatch: Expected axis has 0 elements, new values have 1 elements Y(014):80276616-86010660\n"
     ]
    }
   ],
   "source": [
    "from copy import deepcopy \n",
    "\n",
    "results_copy = deepcopy(results)\n",
    "\n",
    "num_barcodes_to_time = {}\n",
    "num_contigs_to_time = {}\n",
    "\n",
    "overall_label_to_list_of_contents = defaultdict(lambda:{})\n",
    "\n",
    "for barcode_to_concatted_reads_df, total_reads, barcodes_df, label, counts_df, time_df, total_time in results_copy:\n",
    "    try:\n",
    "        barcode_to_concatted_reads_df.columns = ['contents']\n",
    "        barcode_to_concatted_reads_df['barcode'] = [b.split('/')[-1].split('.bam')[0] for b in barcode_to_concatted_reads_df.index]\n",
    "        contig = label.split('(')[0]\n",
    "        barcode_to_concatted_reads_df['barcode_contig'] = barcode_to_concatted_reads_df['barcode'] + '_' + contig\n",
    "        overall_label_to_list_of_contents[contig][label] = barcode_to_concatted_reads_df\n",
    "    except Exception as e:\n",
    "        print(e, label)"
   ]
  },
  {
   "cell_type": "code",
   "execution_count": 12,
   "id": "de955557-09d6-4d68-b415-8e16802c64ee",
   "metadata": {},
   "outputs": [
    {
     "name": "stdout",
     "output_type": "stream",
     "text": [
      "Overall contigs:\n",
      "\n",
      "\t dict_keys(['1', '10', '11', '12', '13', '14', '15', '16', '17', '18', '19', '2', '3', '4', '5', '6', '7', '8', '9', 'MT', 'X', 'Y'])\n",
      "\n",
      "Subcontig regions for an example contig (17):\n",
      "\n",
      "\t ['17(000):0-5936705', '17(001):5936705-11873410', '17(002):11873410-17810115', '17(003):17810115-23746820', '17(004):23746820-29683525', '17(005):29683525-35620230', '17(006):35620230-41556935', '17(007):41556935-47493640', '17(008):47493640-53430345', '17(009):53430345-59367050', '17(010):59367050-65303755', '17(011):65303755-71240460', '17(012):71240460-77177165', '17(013):77177165-83113870', '17(014):83113870-89050575', '17(015):89050575-94987280']\n"
     ]
    }
   ],
   "source": [
    "print(\"Overall contigs:\\n\\n\\t\",overall_label_to_list_of_contents.keys())\n",
    "print(\"\\nSubcontig regions for an example contig (17):\\n\\n\\t\",sorted(overall_label_to_list_of_contents.get('17').keys()))"
   ]
  },
  {
   "cell_type": "markdown",
   "id": "8134fb0e-6dd2-4348-9848-ee1cf666cd3b",
   "metadata": {},
   "source": [
    "### Generate list of jobs to be multiprocessed"
   ]
  },
  {
   "cell_type": "code",
   "execution_count": 13,
   "id": "6589a91c-43b3-44eb-9a06-ae430dba3c3b",
   "metadata": {
    "scrolled": true,
    "tags": []
   },
   "outputs": [
    {
     "name": "stdout",
     "output_type": "stream",
     "text": [
      "Contig: 1\n",
      "0/1500 barcodes\n",
      "100/1500 barcodes\n",
      "200/1500 barcodes\n",
      "300/1500 barcodes\n",
      "400/1500 barcodes\n",
      "500/1500 barcodes\n",
      "600/1500 barcodes\n",
      "700/1500 barcodes\n",
      "800/1500 barcodes\n",
      "900/1500 barcodes\n",
      "1000/1500 barcodes\n",
      "1100/1500 barcodes\n",
      "1200/1500 barcodes\n",
      "1300/1500 barcodes\n",
      "1400/1500 barcodes\n",
      "Contig: 10\n",
      "0/1500 barcodes\n",
      "100/1500 barcodes\n",
      "200/1500 barcodes\n",
      "300/1500 barcodes\n",
      "400/1500 barcodes\n",
      "500/1500 barcodes\n",
      "600/1500 barcodes\n",
      "700/1500 barcodes\n",
      "800/1500 barcodes\n",
      "900/1500 barcodes\n",
      "1000/1500 barcodes\n",
      "1100/1500 barcodes\n",
      "1200/1500 barcodes\n",
      "1300/1500 barcodes\n",
      "1400/1500 barcodes\n",
      "Contig: 11\n",
      "0/1500 barcodes\n",
      "100/1500 barcodes\n",
      "200/1500 barcodes\n",
      "300/1500 barcodes\n",
      "400/1500 barcodes\n",
      "500/1500 barcodes\n",
      "600/1500 barcodes\n",
      "700/1500 barcodes\n",
      "800/1500 barcodes\n",
      "900/1500 barcodes\n",
      "1000/1500 barcodes\n",
      "1100/1500 barcodes\n",
      "1200/1500 barcodes\n",
      "1300/1500 barcodes\n",
      "1400/1500 barcodes\n",
      "Contig: 12\n",
      "0/1500 barcodes\n",
      "100/1500 barcodes\n",
      "200/1500 barcodes\n",
      "300/1500 barcodes\n",
      "400/1500 barcodes\n",
      "500/1500 barcodes\n",
      "600/1500 barcodes\n",
      "700/1500 barcodes\n",
      "800/1500 barcodes\n",
      "900/1500 barcodes\n",
      "1000/1500 barcodes\n",
      "1100/1500 barcodes\n",
      "1200/1500 barcodes\n",
      "1300/1500 barcodes\n",
      "1400/1500 barcodes\n",
      "Contig: 13\n",
      "0/1500 barcodes\n",
      "100/1500 barcodes\n",
      "200/1500 barcodes\n",
      "300/1500 barcodes\n",
      "400/1500 barcodes\n",
      "500/1500 barcodes\n",
      "600/1500 barcodes\n",
      "700/1500 barcodes\n",
      "800/1500 barcodes\n",
      "900/1500 barcodes\n",
      "1000/1500 barcodes\n",
      "1100/1500 barcodes\n",
      "1200/1500 barcodes\n",
      "1300/1500 barcodes\n",
      "1400/1500 barcodes\n",
      "Contig: 14\n",
      "0/1500 barcodes\n",
      "100/1500 barcodes\n",
      "200/1500 barcodes\n",
      "300/1500 barcodes\n",
      "400/1500 barcodes\n",
      "500/1500 barcodes\n",
      "600/1500 barcodes\n",
      "700/1500 barcodes\n",
      "800/1500 barcodes\n",
      "900/1500 barcodes\n",
      "1000/1500 barcodes\n",
      "1100/1500 barcodes\n",
      "1200/1500 barcodes\n",
      "1300/1500 barcodes\n",
      "1400/1500 barcodes\n",
      "Contig: 15\n",
      "0/1500 barcodes\n",
      "100/1500 barcodes\n",
      "200/1500 barcodes\n",
      "300/1500 barcodes\n",
      "400/1500 barcodes\n",
      "500/1500 barcodes\n",
      "600/1500 barcodes\n",
      "700/1500 barcodes\n",
      "800/1500 barcodes\n",
      "900/1500 barcodes\n",
      "1000/1500 barcodes\n",
      "1100/1500 barcodes\n",
      "1200/1500 barcodes\n",
      "1300/1500 barcodes\n",
      "1400/1500 barcodes\n",
      "Contig: 16\n",
      "0/1500 barcodes\n",
      "100/1500 barcodes\n",
      "200/1500 barcodes\n",
      "300/1500 barcodes\n",
      "400/1500 barcodes\n",
      "500/1500 barcodes\n",
      "600/1500 barcodes\n",
      "700/1500 barcodes\n",
      "800/1500 barcodes\n",
      "900/1500 barcodes\n",
      "1000/1500 barcodes\n",
      "1100/1500 barcodes\n",
      "1200/1500 barcodes\n",
      "1300/1500 barcodes\n",
      "1400/1500 barcodes\n",
      "Contig: 17\n",
      "0/1500 barcodes\n",
      "100/1500 barcodes\n",
      "200/1500 barcodes\n",
      "300/1500 barcodes\n",
      "400/1500 barcodes\n",
      "500/1500 barcodes\n",
      "600/1500 barcodes\n",
      "700/1500 barcodes\n",
      "800/1500 barcodes\n",
      "900/1500 barcodes\n",
      "1000/1500 barcodes\n",
      "1100/1500 barcodes\n",
      "1200/1500 barcodes\n",
      "1300/1500 barcodes\n",
      "1400/1500 barcodes\n",
      "Contig: 18\n",
      "0/1500 barcodes\n",
      "100/1500 barcodes\n",
      "200/1500 barcodes\n",
      "300/1500 barcodes\n",
      "400/1500 barcodes\n",
      "500/1500 barcodes\n",
      "600/1500 barcodes\n",
      "700/1500 barcodes\n",
      "800/1500 barcodes\n",
      "900/1500 barcodes\n",
      "1000/1500 barcodes\n",
      "1100/1500 barcodes\n",
      "1200/1500 barcodes\n",
      "1300/1500 barcodes\n",
      "1400/1500 barcodes\n",
      "Contig: 19\n",
      "0/1500 barcodes\n",
      "100/1500 barcodes\n",
      "200/1500 barcodes\n",
      "300/1500 barcodes\n",
      "400/1500 barcodes\n",
      "500/1500 barcodes\n",
      "600/1500 barcodes\n",
      "700/1500 barcodes\n",
      "800/1500 barcodes\n",
      "900/1500 barcodes\n",
      "1000/1500 barcodes\n",
      "1100/1500 barcodes\n",
      "1200/1500 barcodes\n",
      "1300/1500 barcodes\n",
      "1400/1500 barcodes\n",
      "Contig: 2\n",
      "0/1500 barcodes\n",
      "100/1500 barcodes\n",
      "200/1500 barcodes\n",
      "300/1500 barcodes\n",
      "400/1500 barcodes\n",
      "500/1500 barcodes\n",
      "600/1500 barcodes\n",
      "700/1500 barcodes\n",
      "800/1500 barcodes\n",
      "900/1500 barcodes\n",
      "1000/1500 barcodes\n",
      "1100/1500 barcodes\n",
      "1200/1500 barcodes\n",
      "1300/1500 barcodes\n",
      "1400/1500 barcodes\n",
      "Contig: 3\n",
      "0/1500 barcodes\n",
      "100/1500 barcodes\n",
      "200/1500 barcodes\n",
      "300/1500 barcodes\n",
      "400/1500 barcodes\n",
      "500/1500 barcodes\n",
      "600/1500 barcodes\n",
      "700/1500 barcodes\n",
      "800/1500 barcodes\n",
      "900/1500 barcodes\n",
      "1000/1500 barcodes\n",
      "1100/1500 barcodes\n",
      "1200/1500 barcodes\n",
      "1300/1500 barcodes\n",
      "1400/1500 barcodes\n",
      "Contig: 4\n",
      "0/1500 barcodes\n",
      "100/1500 barcodes\n",
      "200/1500 barcodes\n",
      "300/1500 barcodes\n",
      "400/1500 barcodes\n",
      "500/1500 barcodes\n",
      "600/1500 barcodes\n",
      "700/1500 barcodes\n",
      "800/1500 barcodes\n",
      "900/1500 barcodes\n",
      "1000/1500 barcodes\n",
      "1100/1500 barcodes\n",
      "1200/1500 barcodes\n",
      "1300/1500 barcodes\n",
      "1400/1500 barcodes\n",
      "Contig: 5\n",
      "0/1500 barcodes\n",
      "100/1500 barcodes\n",
      "200/1500 barcodes\n",
      "300/1500 barcodes\n",
      "400/1500 barcodes\n",
      "500/1500 barcodes\n",
      "600/1500 barcodes\n",
      "700/1500 barcodes\n",
      "800/1500 barcodes\n",
      "900/1500 barcodes\n",
      "1000/1500 barcodes\n",
      "1100/1500 barcodes\n",
      "1200/1500 barcodes\n",
      "1300/1500 barcodes\n",
      "1400/1500 barcodes\n",
      "Contig: 6\n",
      "0/1500 barcodes\n",
      "100/1500 barcodes\n",
      "200/1500 barcodes\n",
      "300/1500 barcodes\n",
      "400/1500 barcodes\n",
      "500/1500 barcodes\n",
      "600/1500 barcodes\n",
      "700/1500 barcodes\n",
      "800/1500 barcodes\n",
      "900/1500 barcodes\n",
      "1000/1500 barcodes\n",
      "1100/1500 barcodes\n",
      "1200/1500 barcodes\n",
      "1300/1500 barcodes\n",
      "1400/1500 barcodes\n",
      "Contig: 7\n",
      "0/1500 barcodes\n",
      "100/1500 barcodes\n",
      "200/1500 barcodes\n",
      "300/1500 barcodes\n",
      "400/1500 barcodes\n",
      "500/1500 barcodes\n",
      "600/1500 barcodes\n",
      "700/1500 barcodes\n",
      "800/1500 barcodes\n",
      "900/1500 barcodes\n",
      "1000/1500 barcodes\n",
      "1100/1500 barcodes\n",
      "1200/1500 barcodes\n",
      "1300/1500 barcodes\n",
      "1400/1500 barcodes\n",
      "Contig: 8\n",
      "0/1500 barcodes\n",
      "100/1500 barcodes\n",
      "200/1500 barcodes\n",
      "300/1500 barcodes\n",
      "400/1500 barcodes\n",
      "500/1500 barcodes\n",
      "600/1500 barcodes\n",
      "700/1500 barcodes\n",
      "800/1500 barcodes\n",
      "900/1500 barcodes\n",
      "1000/1500 barcodes\n",
      "1100/1500 barcodes\n",
      "1200/1500 barcodes\n",
      "1300/1500 barcodes\n",
      "1400/1500 barcodes\n",
      "Contig: 9\n",
      "0/1500 barcodes\n",
      "100/1500 barcodes\n",
      "200/1500 barcodes\n",
      "300/1500 barcodes\n",
      "400/1500 barcodes\n",
      "500/1500 barcodes\n",
      "600/1500 barcodes\n",
      "700/1500 barcodes\n",
      "800/1500 barcodes\n",
      "900/1500 barcodes\n",
      "1000/1500 barcodes\n",
      "1100/1500 barcodes\n",
      "1200/1500 barcodes\n",
      "1300/1500 barcodes\n",
      "1400/1500 barcodes\n",
      "Contig: MT\n",
      "0/1499 barcodes\n",
      "100/1499 barcodes\n",
      "200/1499 barcodes\n",
      "300/1499 barcodes\n",
      "400/1499 barcodes\n",
      "500/1499 barcodes\n",
      "600/1499 barcodes\n",
      "700/1499 barcodes\n",
      "800/1499 barcodes\n",
      "900/1499 barcodes\n",
      "1000/1499 barcodes\n",
      "1100/1499 barcodes\n",
      "1200/1499 barcodes\n",
      "1300/1499 barcodes\n",
      "1400/1499 barcodes\n",
      "Contig: X\n",
      "0/1500 barcodes\n",
      "100/1500 barcodes\n",
      "200/1500 barcodes\n",
      "300/1500 barcodes\n",
      "400/1500 barcodes\n",
      "500/1500 barcodes\n",
      "600/1500 barcodes\n",
      "700/1500 barcodes\n",
      "800/1500 barcodes\n",
      "900/1500 barcodes\n",
      "1000/1500 barcodes\n",
      "1100/1500 barcodes\n",
      "1200/1500 barcodes\n",
      "1300/1500 barcodes\n",
      "1400/1500 barcodes\n",
      "Contig: Y\n",
      "0/1063 barcodes\n",
      "100/1063 barcodes\n",
      "200/1063 barcodes\n",
      "300/1063 barcodes\n",
      "400/1063 barcodes\n",
      "500/1063 barcodes\n",
      "600/1063 barcodes\n",
      "700/1063 barcodes\n",
      "800/1063 barcodes\n",
      "900/1063 barcodes\n",
      "1000/1063 barcodes\n"
     ]
    }
   ],
   "source": [
    "from collections import OrderedDict\n",
    "\n",
    "start_time = time.perf_counter() \n",
    "\n",
    "# Get the bam header, which will be used for each of the split bams too\n",
    "header_string = str(samfile.header)\n",
    "\n",
    "# Make a subfolder into which the split bams will be placed\n",
    "split_bams_folder = '{}/split_bams'.format(output_folder)\n",
    "if not os.path.exists(split_bams_folder):\n",
    "    os.mkdir(split_bams_folder)\n",
    "\n",
    "    \n",
    "num_contigs = 0\n",
    "jobs_params = []\n",
    "\n",
    "for contig, df_dict in overall_label_to_list_of_contents.items():\n",
    "    num_contigs += 1\n",
    "    print(\"Contig: {}\".format(contig))\n",
    "    \n",
    "    # Make a sub-subfolder to put the bams for this specific contig\n",
    "    contig_folder = '{}/{}/'.format(split_bams_folder, contig)\n",
    "    if not os.path.exists(contig_folder):\n",
    "        os.mkdir(contig_folder)\n",
    "    \n",
    "    # Sort the subcontig regions such that the reads are properly ordered \n",
    "    sorted_subcontig_names = sorted(df_dict.keys())\n",
    "    sorted_subcontig_dfs = []\n",
    "    for n in sorted_subcontig_names:\n",
    "        sorted_subcontig_dfs.append(df_dict.get(n))\n",
    "        \n",
    "    # All of the reads for all of the barcodes are in this dataframe\n",
    "    all_contents_df = pd.concat(sorted_subcontig_dfs)\n",
    "    \n",
    "    # Get all the unique barcodes\n",
    "    all_barcodes = list(all_contents_df.barcode.unique())\n",
    "    \n",
    "    \n",
    "    for i, barcode in enumerate(all_barcodes):            \n",
    "        if i % 100 == 0:\n",
    "            print('{}/{} barcodes'.format(i, len(all_barcodes)))\n",
    "\n",
    "        # Combine the reads (in string representation) for all rows corresponding to a barcode\n",
    "        contents_for_barcode = all_contents_df[all_contents_df.barcode == barcode]\n",
    "                \n",
    "        all_contents_text = '\\n'.join(contents_for_barcode.contents)\n",
    "        \n",
    "        # Turn the newline-delimited block of text back into list of reads as strings\n",
    "        reads = all_contents_text.split('\\n')\n",
    "            \n",
    "        # Remove duplicates\n",
    "        reads_deduped = list(OrderedDict.fromkeys(reads))\n",
    "                \n",
    "        # Establish the name of the split bam that will be generated\n",
    "        bam_file_name = '{}/{}_{}.bam'.format(contig_folder, contig, barcode)\n",
    "        \n",
    "        # Add parameters to list of jobs\n",
    "        jobs_params.append([reads_deduped, bam_file_name, header_string])\n",
    "        \n",
    "            \n",
    "total_time = time.perf_counter() - start_time\n"
   ]
  },
  {
   "cell_type": "code",
   "execution_count": 14,
   "id": "d100d6c4-3e3f-46a8-8bdf-6f6e45bad65d",
   "metadata": {},
   "outputs": [
    {
     "name": "stdout",
     "output_type": "stream",
     "text": [
      "Total time to prepare list for multiprocess-writing bams: 1 minutes\n"
     ]
    }
   ],
   "source": [
    "print(\"Total time to prepare list for multiprocess-writing bams: {} minutes\".format(round(total_time/60)))"
   ]
  },
  {
   "cell_type": "markdown",
   "id": "ecd90c81-f322-46fb-965d-186f9f53630d",
   "metadata": {},
   "source": [
    "# Generate bams"
   ]
  },
  {
   "cell_type": "code",
   "execution_count": 15,
   "id": "4d728e6e-bb60-4996-a35e-346c8e62d867",
   "metadata": {},
   "outputs": [
    {
     "name": "stderr",
     "output_type": "stream",
     "text": [
      "100%|██████████| 32562/32562 [07:41<00:00, 70.60it/s]\n"
     ]
    }
   ],
   "source": [
    "start_time = time.perf_counter()\n",
    "\n",
    "with Pool(processes=16) as p:\n",
    "    max_ = len(jobs_params)\n",
    "    with tqdm(total=max_) as pbar:\n",
    "        for _ in p.imap_unordered(write_reads_to_file_wrapper, jobs_params):\n",
    "            pbar.update()\n",
    "\n",
    "total_time = time.perf_counter() - start_time\n"
   ]
  },
  {
   "cell_type": "code",
   "execution_count": 16,
   "id": "8a0577cf-6600-4107-9db0-8399417d4c18",
   "metadata": {},
   "outputs": [
    {
     "name": "stdout",
     "output_type": "stream",
     "text": [
      "Total time to write bams: 8 minutes\n"
     ]
    }
   ],
   "source": [
    "print(\"Total time to write bams: {} minutes\".format(round(total_time/60)))"
   ]
  },
  {
   "cell_type": "markdown",
   "id": "ebaa2d81-c8bc-4bf9-9487-b67bea3ec0eb",
   "metadata": {},
   "source": [
    "# Time profiling of the edit-counting step"
   ]
  },
  {
   "cell_type": "code",
   "execution_count": 17,
   "id": "b84dae60-ee51-4358-9784-596af7449002",
   "metadata": {
    "scrolled": true,
    "tags": []
   },
   "outputs": [
    {
     "name": "stdout",
     "output_type": "stream",
     "text": [
      "Length mismatch: Expected axis has 0 elements, new values have 1 elements MT(000):0-1019\n",
      "Length mismatch: Expected axis has 0 elements, new values have 1 elements MT(001):1019-2038\n",
      "Length mismatch: Expected axis has 0 elements, new values have 1 elements Y(004):22936176-28670220\n",
      "Length mismatch: Expected axis has 0 elements, new values have 1 elements Y(005):28670220-34404264\n",
      "Length mismatch: Expected axis has 0 elements, new values have 1 elements Y(008):45872352-51606396\n",
      "Length mismatch: Expected axis has 0 elements, new values have 1 elements Y(009):51606396-57340440\n",
      "Length mismatch: Expected axis has 0 elements, new values have 1 elements Y(012):68808528-74542572\n",
      "Length mismatch: Expected axis has 0 elements, new values have 1 elements Y(014):80276616-86010660\n"
     ]
    }
   ],
   "source": [
    "total_contig_times = {}\n",
    "all_read_info_dfs = []\n",
    "all_time_dfs = []\n",
    "\n",
    "total_times = {}\n",
    "for result in results:\n",
    "    \n",
    "    label = result[3]\n",
    "\n",
    "    try:\n",
    "        total_time = result[6]\n",
    "        total_times[label] = total_time\n",
    "        \n",
    "        time_df = result[5]\n",
    "        all_time_dfs.append(time_df)\n",
    "        total_time_for_contig = (float(time_df.max()))\n",
    "        total_contig_times[label] = total_time_for_contig\n",
    "        \n",
    "        read_info_df = result[4]\n",
    "        read_info_df.columns = [label]\n",
    "        all_read_info_dfs.append(read_info_df)\n",
    "    except Exception as e:\n",
    "        print(e, label)"
   ]
  },
  {
   "cell_type": "code",
   "execution_count": 18,
   "id": "4d8708d9-72d1-4cd3-ae8c-8b9622e522b1",
   "metadata": {},
   "outputs": [],
   "source": [
    "total_contig_times_df = pd.DataFrame.from_dict(total_contig_times, orient='index', columns=['seconds']).sort_values('seconds')"
   ]
  },
  {
   "cell_type": "code",
   "execution_count": 19,
   "id": "72adfbd7-f62c-4eaf-ba72-3cb457e69515",
   "metadata": {},
   "outputs": [
    {
     "data": {
      "text/plain": [
       "'Total time without threading: 8.34 minutes'"
      ]
     },
     "execution_count": 19,
     "metadata": {},
     "output_type": "execute_result"
    }
   ],
   "source": [
    "'Total time without threading: {} minutes'.format(round(total_contig_times_df.seconds.sum()/60, 2))"
   ]
  },
  {
   "cell_type": "code",
   "execution_count": 20,
   "id": "d7ff6910-f0d7-46dc-8014-7d9301763a1b",
   "metadata": {},
   "outputs": [],
   "source": [
    "total_reads_df = pd.concat(all_read_info_dfs,axis=1).T"
   ]
  },
  {
   "cell_type": "code",
   "execution_count": 21,
   "id": "b88823e6-5ce4-4c90-b5ba-28ef2c245857",
   "metadata": {},
   "outputs": [
    {
     "data": {
      "text/plain": [
       "<matplotlib.legend.Legend at 0x2b9b2be6ef50>"
      ]
     },
     "execution_count": 21,
     "metadata": {},
     "output_type": "execute_result"
    },
    {
     "data": {
      "image/png": "[encoded data removed]",
      "text/plain": [
       "<Figure size 432x288 with 1 Axes>"
      ]
     },
     "metadata": {
      "needs_background": "light"
     },
     "output_type": "display_data"
    }
   ],
   "source": [
    "total_reads_and_times_df = total_reads_df.join(total_contig_times_df)\n",
    "\n",
    "plt.scatter(total_reads_and_times_df.edited, total_reads_and_times_df.seconds, s=1)\n",
    "plt.scatter(total_reads_and_times_df.no_edits, total_reads_and_times_df.seconds, s=1)\n",
    "\n",
    "plt.title(\"Total processing time vs number of reads\")\n",
    "plt.ylabel(\"Time (seconds)\")\n",
    "plt.xlabel(\"Reads\")\n",
    "plt.legend(['Reads with edits', 'Read without edits'])"
   ]
  },
  {
   "cell_type": "code",
   "execution_count": 22,
   "id": "202d2ff9-8a63-49e0-ab56-678d89cebb99",
   "metadata": {},
   "outputs": [
    {
     "data": {
      "text/plain": [
       "Text(0.5, 1.0, 'Runtime vs number of reads processed')"
      ]
     },
     "execution_count": 22,
     "metadata": {},
     "output_type": "execute_result"
    },
    {
     "data": {
      "image/png": "[encoded data removed]",
      "text/plain": [
       "<Figure size 432x288 with 1 Axes>"
      ]
     },
     "metadata": {
      "needs_background": "light"
     },
     "output_type": "display_data"
    }
   ],
   "source": [
    "pd.DataFrame.from_dict(total_seconds_for_reads, orient='index').sort_index().plot(legend=False)\n",
    "plt.xlabel(\"Reads\")\n",
    "plt.ylabel(\"Time (seconds)\")\n",
    "plt.title(\"Runtime vs number of reads processed\")"
   ]
  },
  {
   "cell_type": "code",
   "execution_count": 23,
   "id": "f76b2337-3172-4383-a63f-eedfea506871",
   "metadata": {},
   "outputs": [],
   "source": [
    "rates = []\n",
    "for reads, secs in zip(list(total_seconds_for_reads.keys()), list(total_seconds_for_reads.values())):\n",
    "    rate = reads/secs\n",
    "    rates.append(rate)"
   ]
  },
  {
   "cell_type": "code",
   "execution_count": 24,
   "id": "22692d03-d308-44b2-8dd3-ed39c20b6166",
   "metadata": {},
   "outputs": [
    {
     "name": "stdout",
     "output_type": "stream",
     "text": [
      "Average of 300224.2362724413 reads/second\n"
     ]
    },
    {
     "data": {
      "image/png": "[encoded data removed]",
      "text/plain": [
       "<Figure size 432x288 with 1 Axes>"
      ]
     },
     "metadata": {
      "needs_background": "light"
     },
     "output_type": "display_data"
    }
   ],
   "source": [
    "plt.plot(range(len(rates)), rates)\n",
    "plt.title(\"Mean rate (reads per second)\")\n",
    "plt.ylabel(\"Reads/Second\")\n",
    "plt.xlabel(\"Number of reads (e10^6)\")\n",
    "\n",
    "average_rate = np.mean(rates)\n",
    "plt.axhline(average_rate, color='r')\n",
    "print(\"Average of {} reads/second\".format(average_rate))"
   ]
  },
  {
   "cell_type": "code",
   "execution_count": 25,
   "id": "44894b19-e631-46ac-ad91-f9dbac3d91fb",
   "metadata": {},
   "outputs": [],
   "source": [
    "seconds_per_read = 1/average_rate"
   ]
  },
  {
   "cell_type": "code",
   "execution_count": 29,
   "id": "82d0c4d3-f985-4275-8a78-1a176188eae0",
   "metadata": {},
   "outputs": [
    {
     "name": "stdout",
     "output_type": "stream",
     "text": [
      "750000000\n",
      "Estimated total time in minutes for 15000 cells with 50000 reads per cell (750000000 total reads): 42 minutes\n"
     ]
    }
   ],
   "source": [
    "import math\n",
    "\n",
    "reads_per_cell = 50000\n",
    "total_cells = 15000\n",
    "total_reads = reads_per_cell * total_cells\n",
    "print(total_reads)\n",
    "\n",
    "total_estimated_time = total_reads * seconds_per_read\n",
    "print('Estimated total time in minutes for {} cells with {} reads per cell ({} total reads): {} minutes'.format(total_cells,\n",
    "                                                                                               reads_per_cell,\n",
    "                                                                                                                total_reads,\n",
    "                                                                                               math.ceil(total_estimated_time/60), 3))\n"
   ]
  },
  {
   "cell_type": "markdown",
   "id": "b9e49151-ba3c-40a4-9290-3d8360753d96",
   "metadata": {},
   "source": [
    "# Second loop to get coverage at sites with edits"
   ]
  },
  {
   "cell_type": "code",
   "execution_count": 30,
   "id": "e6eb4885-1a35-4ed6-845e-8b64c34ea558",
   "metadata": {},
   "outputs": [],
   "source": [
    "# Todo: get all edit info files for each contig and group them by contig, before processing.\n",
    "# Todo: Multiprocess that too."
   ]
  },
  {
   "cell_type": "code",
   "execution_count": 31,
   "id": "7ab82bcb-c420-41d2-bd70-95f3958f54fc",
   "metadata": {
    "scrolled": true,
    "tags": []
   },
   "outputs": [
    {
     "name": "stdout",
     "output_type": "stream",
     "text": [
      "Accessing split bams: 10_000_0_8168438, 10_001_8168438_16336876, 10_002_16336876_24505314, 10_003_24505314_32673752, 10_004_32673752_40842190, 10_005_40842190_49010628, 10_006_49010628_57179066, 10_007_57179066_65347504, 10_008_65347504_73515942, 10_009_73515942_81684380, 10_010_81684380_89852818, 10_011_89852818_98021256, 10_012_98021256_106189694, 10_013_106189694_114358132, 10_014_114358132_122526570, 10_015_122526570_130695008, 11_000_0_7630159, 11_001_7630159_15260318, 11_002_15260318_22890477, 11_003_22890477_30520636, 11_004_30520636_38150795, 11_005_38150795_45780954, 11_006_45780954_53411113, 11_007_53411113_61041272, 11_008_61041272_68671431, 11_009_68671431_76301590, 11_010_76301590_83931749, 11_011_83931749_91561908, 11_012_91561908_99192067, 11_013_99192067_106822226, 11_014_106822226_114452385, 11_015_114452385_122082544, 12_000_0_7508064, 12_001_7508064_15016128, 12_002_15016128_22524192, 12_003_22524192_30032256, 12_004_30032256_37540320, 12_005_37540320_45048384, 12_006_45048384_52556448, 12_007_52556448_60064512, 12_008_60064512_67572576, 12_009_67572576_75080640, 12_010_75080640_82588704, 12_011_82588704_90096768, 12_012_90096768_97604832, 12_013_97604832_105112896, 12_014_105112896_112620960, 12_015_112620960_120129024, 13_000_0_7526353, 13_001_7526353_15052706, 13_002_15052706_22579059, 13_003_22579059_30105412, 13_004_30105412_37631765, 13_005_37631765_45158118, 13_006_45158118_52684471, 13_007_52684471_60210824, 13_008_60210824_67737177, 13_009_67737177_75263530, 13_010_75263530_82789883, 13_011_82789883_90316236, 13_012_90316236_97842589, 13_013_97842589_105368942, 13_014_105368942_112895295, 13_015_112895295_120421648, 14_000_0_7806391, 14_001_7806391_15612782, 14_002_15612782_23419173, 14_003_23419173_31225564, 14_004_31225564_39031955, 14_005_39031955_46838346, 14_006_46838346_54644737, 14_007_54644737_62451128, 14_008_62451128_70257519, 14_009_70257519_78063910, 14_010_78063910_85870301, 14_011_85870301_93676692, 14_012_93676692_101483083, 14_013_101483083_109289474, 14_014_109289474_117095865, 14_015_117095865_124902256, 15_000_0_6502731, 15_001_6502731_13005462, 15_002_13005462_19508193, 15_003_19508193_26010924, 15_004_26010924_32513655, 15_005_32513655_39016386, 15_006_39016386_45519117, 15_007_45519117_52021848, 15_008_52021848_58524579, 15_009_58524579_65027310, 15_010_65027310_71530041, 15_011_71530041_78032772, 15_012_78032772_84535503, 15_013_84535503_91038234, 15_014_91038234_97540965, 15_015_97540965_104043696, 16_000_0_6137986, 16_001_6137986_12275972, 16_002_12275972_18413958, 16_003_18413958_24551944, 16_004_24551944_30689930, 16_005_30689930_36827916, 16_006_36827916_42965902, 16_007_42965902_49103888, 16_008_49103888_55241874, 16_009_55241874_61379860, 16_010_61379860_67517846, 16_011_67517846_73655832, 16_012_73655832_79793818, 16_013_79793818_85931804, 16_014_85931804_92069790, 16_015_92069790_98207776, 17_000_0_5936705, 17_001_5936705_11873410, 17_002_11873410_17810115, 17_003_17810115_23746820, 17_004_23746820_29683525, 17_005_29683525_35620230, 17_006_35620230_41556935, 17_007_41556935_47493640, 17_008_47493640_53430345, 17_009_53430345_59367050, 17_010_59367050_65303755, 17_011_65303755_71240460, 17_012_71240460_77177165, 17_013_77177165_83113870, 17_014_83113870_89050575, 17_015_89050575_94987280, 18_000_0_5668915, 18_001_5668915_11337830, 18_002_11337830_17006745, 18_003_17006745_22675660, 18_004_22675660_28344575, 18_005_28344575_34013490, 18_006_34013490_39682405, 18_007_39682405_45351320, 18_008_45351320_51020235, 18_009_51020235_56689150, 18_010_56689150_62358065, 18_011_62358065_68026980, 18_012_68026980_73695895, 18_013_73695895_79364810, 18_014_79364810_85033725, 18_015_85033725_90702640, 19_000_0_3839473, 19_001_3839473_7678946, 19_002_7678946_11518419, 19_003_11518419_15357892, 19_004_15357892_19197365, 19_005_19197365_23036838, 19_006_23036838_26876311, 19_007_26876311_30715784, 19_008_30715784_34555257, 19_009_34555257_38394730, 19_010_38394730_42234203, 19_011_42234203_46073676, 19_012_46073676_49913149, 19_013_49913149_53752622, 19_014_53752622_57592095, 19_015_57592095_61431568, 1_000_0_12216999, 1_001_12216999_24433998, 1_002_24433998_36650997, 1_003_36650997_48867996, 1_004_48867996_61084995, 1_005_61084995_73301994, 1_006_73301994_85518993, 1_007_85518993_97735992, 1_008_97735992_109952991, 1_009_109952991_122169990, 1_010_122169990_134386989, 1_011_134386989_146603988, 1_012_146603988_158820987, 1_013_158820987_171037986, 1_014_171037986_183254985, 1_015_183254985_195471984, 2_000_0_11382077, 2_001_11382077_22764154, 2_002_22764154_34146231, 2_003_34146231_45528308, 2_004_45528308_56910385, 2_005_56910385_68292462, 2_006_68292462_79674539, 2_007_79674539_91056616, 2_008_91056616_102438693, 2_009_102438693_113820770, 2_010_113820770_125202847, 2_011_125202847_136584924, 2_012_136584924_147967001, 2_013_147967001_159349078, 2_014_159349078_170731155, 2_015_170731155_182113232, 3_000_0_10002480, 3_001_10002480_20004960, 3_002_20004960_30007440, 3_003_30007440_40009920, 3_004_40009920_50012400, 3_005_50012400_60014880, 3_006_60014880_70017360, 3_007_70017360_80019840, 3_008_80019840_90022320, 3_009_90022320_100024800, 3_010_100024800_110027280, 3_011_110027280_120029760, 3_012_120029760_130032240, 3_013_130032240_140034720, 3_014_140034720_150037200, 3_015_150037200_160039680, 4_000_0_9781758, 4_001_9781758_19563516, 4_002_19563516_29345274, 4_003_29345274_39127032, 4_004_39127032_48908790, 4_005_48908790_58690548, 4_006_58690548_68472306, 4_007_68472306_78254064, 4_008_78254064_88035822, 4_009_88035822_97817580, 4_010_97817580_107599338, 4_011_107599338_117381096, 4_012_117381096_127162854, 4_013_127162854_136944612, 4_014_136944612_146726370, 4_015_146726370_156508128, 5_000_0_9489668, 5_001_9489668_18979336, 5_002_18979336_28469004, 5_003_28469004_37958672, 5_004_37958672_47448340, 5_005_47448340_56938008, 5_006_56938008_66427676, 5_007_66427676_75917344, 5_008_75917344_85407012, 5_009_85407012_94896680, 5_010_94896680_104386348, 5_011_104386348_113876016, 5_012_113876016_123365684, 5_013_123365684_132855352, 5_014_132855352_142345020, 5_015_142345020_151834688, 6_000_0_9358535, 6_001_9358535_18717070, 6_002_18717070_28075605, 6_003_28075605_37434140, 6_004_37434140_46792675, 6_005_46792675_56151210, 6_006_56151210_65509745, 6_007_65509745_74868280, 6_008_74868280_84226815, 6_009_84226815_93585350, 6_010_93585350_102943885, 6_011_102943885_112302420, 6_012_112302420_121660955, 6_013_121660955_131019490, 6_014_131019490_140378025, 6_015_140378025_149736560, 7_000_0_9090092, 7_001_9090092_18180184, 7_002_18180184_27270276, 7_003_27270276_36360368, 7_004_36360368_45450460, 7_005_45450460_54540552, 7_006_54540552_63630644, 7_007_63630644_72720736, 7_008_72720736_81810828, 7_009_81810828_90900920, 7_010_90900920_99991012, 7_011_99991012_109081104, 7_012_109081104_118171196, 7_013_118171196_127261288, 7_014_127261288_136351380, 7_015_136351380_145441472, 8_000_0_8087576, 8_001_8087576_16175152, 8_002_16175152_24262728, 8_003_24262728_32350304, 8_004_32350304_40437880, 8_005_40437880_48525456, 8_006_48525456_56613032, 8_007_56613032_64700608, 8_008_64700608_72788184, 8_009_72788184_80875760, 8_010_80875760_88963336, 8_011_88963336_97050912, 8_012_97050912_105138488, 8_013_105138488_113226064, 8_014_113226064_121313640, 8_015_121313640_129401216, 9_000_0_7787195, 9_001_7787195_15574390, 9_002_15574390_23361585, 9_003_23361585_31148780, 9_004_31148780_38935975, 9_005_38935975_46723170, 9_006_46723170_54510365, 9_007_54510365_62297560, 9_008_62297560_70084755, 9_009_70084755_77871950, 9_010_77871950_85659145, 9_011_85659145_93446340, 9_012_93446340_101233535, 9_013_101233535_109020730, 9_014_109020730_116807925, 9_015_116807925_124595120, MT_000_0_1019, MT_001_1019_2038, MT_002_2038_3057, MT_003_3057_4076, MT_004_4076_5095, MT_005_5095_6114, MT_006_6114_7133, MT_007_7133_8152, MT_008_8152_9171, MT_009_9171_10190, MT_010_10190_11209, MT_011_11209_12228, MT_012_12228_13247, MT_013_13247_14266, MT_014_14266_15285, MT_015_15285_16304, X_000_0_10689457, X_001_10689457_21378914, X_002_21378914_32068371, X_003_32068371_42757828, X_004_42757828_53447285, X_005_53447285_64136742, X_006_64136742_74826199, X_007_74826199_85515656, X_008_85515656_96205113, X_009_96205113_106894570, X_010_106894570_117584027, X_011_117584027_128273484, X_012_128273484_138962941, X_013_138962941_149652398, X_014_149652398_160341855, X_015_160341855_171031312, Y_000_0_5734044, Y_001_5734044_11468088, Y_002_11468088_17202132, Y_003_17202132_22936176, Y_004_22936176_28670220, Y_005_28670220_34404264, Y_006_34404264_40138308, Y_007_40138308_45872352, Y_008_45872352_51606396, Y_009_51606396_57340440, Y_010_57340440_63074484, Y_011_63074484_68808528, Y_012_68808528_74542572, Y_013_74542572_80276616, Y_014_80276616_86010660, Y_015_86010660_91744704\n"
     ]
    }
   ],
   "source": [
    "from glob import glob\n",
    "\n",
    "splits = [i.split(\"/\")[-1].split('_edit')[0] for i in glob('{}/edit_info/*'.format(output_folder))]\n",
    "print(\"Accessing split bams: {}\".format(', '.join(sorted(splits))))"
   ]
  },
  {
   "cell_type": "markdown",
   "id": "bf7b58ee-46a1-41e1-b3d5-d1aa4959975f",
   "metadata": {},
   "source": [
    "### Gather the edit information generated for each subcontig, and group by contig so we only have 1 edit information dataframe to process per contig"
   ]
  },
  {
   "cell_type": "code",
   "execution_count": 32,
   "id": "c5aa1ff3-69e7-4a5c-8cee-d6af8008eec0",
   "metadata": {
    "scrolled": true,
    "tags": []
   },
   "outputs": [
    {
     "name": "stdout",
     "output_type": "stream",
     "text": [
      "Grouping edit information outputs by contig...\n",
      "\t0/352...\n",
      "\t10/352...\n",
      "\t20/352...\n",
      "\t30/352...\n",
      "\t40/352...\n",
      "\t50/352...\n",
      "\t60/352...\n",
      "\t70/352...\n",
      "\t80/352...\n",
      "\t90/352...\n",
      "\t100/352...\n",
      "\t110/352...\n",
      "\t120/352...\n",
      "\t130/352...\n",
      "\t140/352...\n",
      "\t150/352...\n",
      "\t160/352...\n",
      "\t170/352...\n",
      "\t180/352...\n",
      "\t190/352...\n",
      "\t200/352...\n",
      "\t210/352...\n",
      "\t220/352...\n",
      "\t230/352...\n",
      "\t240/352...\n",
      "\t250/352...\n",
      "\t260/352...\n",
      "\t270/352...\n",
      "\t280/352...\n",
      "\t290/352...\n",
      "\t300/352...\n",
      "\t310/352...\n",
      "\t320/352...\n",
      "\t330/352...\n",
      "\t340/352...\n",
      "\t350/352...\n",
      "Done grouping! Concatenating ...\n",
      "Done concatenating!\n"
     ]
    }
   ],
   "source": [
    "all_edit_info_for_barcodes = []\n",
    "\n",
    "edit_info_grouped_per_contig = defaultdict(lambda:[])\n",
    "edit_info_grouped_per_contig_combined = defaultdict(lambda:[])\n",
    "\n",
    "num_splits = len(splits)\n",
    "print(\"Grouping edit information outputs by contig...\")\n",
    "for i, split in enumerate(splits):\n",
    "    if i%10 == 0:\n",
    "        print(\"\\t{}/{}...\".format(i, num_splits))\n",
    "    contig = split.split(\"_\")[0]\n",
    "    \n",
    "    barcode_to_coverage_dict = defaultdict()    \n",
    "    \n",
    "    barcode_to_coverage_dict = defaultdict()\n",
    "    edit_info_file = '{}/edit_info/{}_edit_info.tsv'.format(output_folder, split)\n",
    "    edit_info = pd.read_csv(edit_info_file, sep='\\t')\n",
    "    edit_info_grouped_per_contig[contig].append(edit_info)\n",
    "print(\"Done grouping! Concatenating ...\")\n",
    "\n",
    "for contig, list_of_edit_info_dfs in edit_info_grouped_per_contig.items():\n",
    "    edit_info_grouped_per_contig_combined[contig] = pd.concat(list_of_edit_info_dfs)\n",
    "\n",
    "print(\"Done concatenating!\")"
   ]
  },
  {
   "cell_type": "markdown",
   "id": "0a5ef51b-eeba-4fb5-a716-3d6cd204c1b6",
   "metadata": {},
   "source": [
    "### Get coverage at edit positions for each contig"
   ]
  },
  {
   "cell_type": "code",
   "execution_count": 33,
   "id": "32c22ae8-9b11-490a-8913-9fbe3fc7ff3e",
   "metadata": {},
   "outputs": [],
   "source": [
    "import pandas as pd\n",
    "pd.options.mode.chained_assignment = None \n",
    "\n",
    "def get_edit_info_for_barcode_in_contig(edit_info, contig, barcode, output_folder):\n",
    "    \n",
    "    bam_subfolder = \"{}/split_bams/{}\".format(output_folder, contig)\n",
    "    barcode_bam = '{}/{}_{}.bam'.format(bam_subfolder, contig, barcode)\n",
    "\n",
    "    samfile_for_barcode = pysam.AlignmentFile(barcode_bam, \"rb\")\n",
    "\n",
    "    edit_info_for_barcode = edit_info[edit_info.barcode == barcode]\n",
    "    positions_for_barcode = edit_info_for_barcode.position.tolist()\n",
    "\n",
    "    coverage = []\n",
    "    for pos in positions_for_barcode:\n",
    "        coverage_at_pos = np.sum(samfile_for_barcode.count_coverage(contig, pos-1, pos, quality_threshold=0))\n",
    "        coverage.append(coverage_at_pos)\n",
    "\n",
    "    edit_info_for_barcode['coverage'] = coverage\n",
    "    edit_info_for_barcode['contig'] = edit_info_for_barcode.contig.astype(str)\n",
    "\n",
    "    return edit_info_for_barcode\n",
    "\n",
    "\n",
    "def get_edit_info_for_barcode_in_contig_wrapper(parameters):\n",
    "    edit_info, contig, barcode, output_folder = parameters\n",
    "    edit_info_for_barcode = get_edit_info_for_barcode_in_contig(edit_info, contig, barcode, output_folder)\n",
    "    return edit_info_for_barcode\n",
    "\n",
    "\n",
    "def get_coverage_for_edits_in_contig(edit_info_grouped_per_contig_combined, output_folder):\n",
    "    job_params = []\n",
    "    \n",
    "    for contig, edit_info in edit_info_grouped_per_contig_combined.items():\n",
    "        unique_barcodes = sorted(edit_info.barcode.unique())\n",
    "\n",
    "        for i, barcode in enumerate(unique_barcodes):                 \n",
    "            job_params.append([edit_info, contig, barcode, output_folder])  \n",
    "    return job_params\n",
    "    \n",
    "coverage_counting_job_params = get_coverage_for_edits_in_contig(edit_info_grouped_per_contig_combined, output_folder)"
   ]
  },
  {
   "cell_type": "code",
   "execution_count": 34,
   "id": "56f90222-7506-42ea-abac-c6c55966785d",
   "metadata": {},
   "outputs": [
    {
     "data": {
      "text/plain": [
       "285392"
      ]
     },
     "execution_count": 34,
     "metadata": {},
     "output_type": "execute_result"
    }
   ],
   "source": [
    "getsizeof(coverage_counting_job_params)"
   ]
  },
  {
   "cell_type": "code",
   "execution_count": 35,
   "id": "5851efc7-2766-4666-b426-a1ab243db920",
   "metadata": {},
   "outputs": [
    {
     "name": "stderr",
     "output_type": "stream",
     "text": [
      "100%|██████████| 32034/32034 [25:47<00:00, 20.70it/s]  \n"
     ]
    }
   ],
   "source": [
    "start_time = time.perf_counter()\n",
    "\n",
    "results = []\n",
    "with Pool(processes=16) as p:\n",
    "    max_ = len(coverage_counting_job_params)\n",
    "    with tqdm(total=max_) as pbar:\n",
    "        for _ in p.imap_unordered(get_edit_info_for_barcode_in_contig_wrapper, coverage_counting_job_params):\n",
    "            pbar.update()\n",
    "            results.append(_)\n",
    "            \n",
    "total_time = time.perf_counter() - start_time"
   ]
  },
  {
   "cell_type": "code",
   "execution_count": 36,
   "id": "fd648239-8132-4ed1-b324-09e03b198a6e",
   "metadata": {},
   "outputs": [
    {
     "name": "stdout",
     "output_type": "stream",
     "text": [
      "1550.5566718876362\n"
     ]
    }
   ],
   "source": [
    "print(total_time)"
   ]
  },
  {
   "cell_type": "code",
   "execution_count": 37,
   "id": "f7caa846-b0c5-4783-b7b7-984d8f8658ae",
   "metadata": {},
   "outputs": [],
   "source": [
    "all_edit_info = pd.concat(results)"
   ]
  },
  {
   "cell_type": "markdown",
   "id": "c8620db3-658d-4e62-a352-302ce84c4c8c",
   "metadata": {},
   "source": [
    "# Group by site to get final total edit and coverage counts at each site"
   ]
  },
  {
   "cell_type": "markdown",
   "id": "f03097c3-ad74-474b-8af6-921e9fc031e0",
   "metadata": {},
   "source": [
    "# Verify C>T ratios"
   ]
  },
  {
   "cell_type": "code",
   "execution_count": 38,
   "id": "803f5b24-4714-4309-a08b-9b9445218c64",
   "metadata": {},
   "outputs": [
    {
     "data": {
      "image/png": "[encoded data removed]",
      "text/plain": [
       "<Figure size 432x288 with 1 Axes>"
      ]
     },
     "metadata": {
      "needs_background": "light"
     },
     "output_type": "display_data"
    },
    {
     "data": {
      "image/png": "[encoded data removed]",
      "text/plain": [
       "<Figure size 432x288 with 1 Axes>"
      ]
     },
     "metadata": {
      "needs_background": "light"
     },
     "output_type": "display_data"
    }
   ],
   "source": [
    "all_edit_info.groupby(['ref', 'alt']).count().plot(kind='barh', legend=False)\n",
    "plt.title(\"All edits\")\n",
    "\n",
    "base_quality_thresh = 15\n",
    "all_edit_info[all_edit_info.base_quality > base_quality_thresh].groupby(['ref', 'alt']).count().plot(kind='barh', legend=False)\n",
    "plt.title(\"Edits with base quality > {}\".format(base_quality_thresh))\n",
    "\n",
    "all_edit_info_filtered = all_edit_info[all_edit_info.base_quality > base_quality_thresh]\n"
   ]
  },
  {
   "cell_type": "code",
   "execution_count": 39,
   "id": "7a97fbec-9329-4c9c-8c9b-a785a8ae376c",
   "metadata": {},
   "outputs": [],
   "source": [
    "example_new_ct =  all_edit_info_filtered[(all_edit_info_filtered.ref == 'C') & (all_edit_info_filtered.alt == 'T')].sort_values('position')"
   ]
  },
  {
   "cell_type": "code",
   "execution_count": 40,
   "id": "e9b3fdc3-7fab-448f-a9e9-52cbab695e2b",
   "metadata": {},
   "outputs": [
    {
     "data": {
      "text/plain": [
       "453805"
      ]
     },
     "execution_count": 40,
     "metadata": {},
     "output_type": "execute_result"
    }
   ],
   "source": [
    "len(example_new_ct)"
   ]
  },
  {
   "cell_type": "code",
   "execution_count": 41,
   "id": "7be865e2-f294-4152-ae0b-85d24509a1d5",
   "metadata": {},
   "outputs": [
    {
     "data": {
      "text/html": [
       "<div>\n",
       "<style scoped>\n",
       "    .dataframe tbody tr th:only-of-type {\n",
       "        vertical-align: middle;\n",
       "    }\n",
       "\n",
       "    .dataframe tbody tr th {\n",
       "        vertical-align: top;\n",
       "    }\n",
       "\n",
       "    .dataframe thead th {\n",
       "        text-align: right;\n",
       "    }\n",
       "</style>\n",
       "<table border=\"1\" class=\"dataframe\">\n",
       "  <thead>\n",
       "    <tr style=\"text-align: right;\">\n",
       "      <th></th>\n",
       "      <th>barcode</th>\n",
       "      <th>contig</th>\n",
       "      <th>position</th>\n",
       "      <th>ref</th>\n",
       "      <th>alt</th>\n",
       "      <th>read_id</th>\n",
       "      <th>strand</th>\n",
       "      <th>dist_from_end</th>\n",
       "      <th>base_quality</th>\n",
       "      <th>mapping_quality</th>\n",
       "      <th>coverage</th>\n",
       "    </tr>\n",
       "  </thead>\n",
       "  <tbody>\n",
       "    <tr>\n",
       "      <th>116</th>\n",
       "      <td>AACCACAGTCGTGATT-1</td>\n",
       "      <td>MT</td>\n",
       "      <td>2767</td>\n",
       "      <td>C</td>\n",
       "      <td>T</td>\n",
       "      <td>A01535:287:H3JJHDSX7:1:1446:13928:17284</td>\n",
       "      <td>+</td>\n",
       "      <td>17</td>\n",
       "      <td>37</td>\n",
       "      <td>255</td>\n",
       "      <td>1</td>\n",
       "    </tr>\n",
       "    <tr>\n",
       "      <th>89</th>\n",
       "      <td>AACAACCAGTAATACG-1</td>\n",
       "      <td>MT</td>\n",
       "      <td>2767</td>\n",
       "      <td>C</td>\n",
       "      <td>T</td>\n",
       "      <td>A01535:287:H3JJHDSX7:2:1273:15157:16094</td>\n",
       "      <td>+</td>\n",
       "      <td>17</td>\n",
       "      <td>37</td>\n",
       "      <td>255</td>\n",
       "      <td>8</td>\n",
       "    </tr>\n",
       "    <tr>\n",
       "      <th>134</th>\n",
       "      <td>AACGTCACAAGAATGT-1</td>\n",
       "      <td>MT</td>\n",
       "      <td>2785</td>\n",
       "      <td>C</td>\n",
       "      <td>T</td>\n",
       "      <td>A01535:287:H3JJHDSX7:1:2159:15483:16783</td>\n",
       "      <td>+</td>\n",
       "      <td>35</td>\n",
       "      <td>37</td>\n",
       "      <td>255</td>\n",
       "      <td>4</td>\n",
       "    </tr>\n",
       "    <tr>\n",
       "      <th>8</th>\n",
       "      <td>AAACCCACACCGTGGT-1</td>\n",
       "      <td>MT</td>\n",
       "      <td>2794</td>\n",
       "      <td>C</td>\n",
       "      <td>T</td>\n",
       "      <td>A01535:287:H3JJHDSX7:1:2352:3640:34287</td>\n",
       "      <td>+</td>\n",
       "      <td>27</td>\n",
       "      <td>37</td>\n",
       "      <td>255</td>\n",
       "      <td>10</td>\n",
       "    </tr>\n",
       "    <tr>\n",
       "      <th>176</th>\n",
       "      <td>AACCTGATCGCTCATC-1</td>\n",
       "      <td>MT</td>\n",
       "      <td>2802</td>\n",
       "      <td>C</td>\n",
       "      <td>T</td>\n",
       "      <td>A01535:287:H3JJHDSX7:2:1476:20745:1752</td>\n",
       "      <td>+</td>\n",
       "      <td>25</td>\n",
       "      <td>37</td>\n",
       "      <td>255</td>\n",
       "      <td>8</td>\n",
       "    </tr>\n",
       "    <tr>\n",
       "      <th>...</th>\n",
       "      <td>...</td>\n",
       "      <td>...</td>\n",
       "      <td>...</td>\n",
       "      <td>...</td>\n",
       "      <td>...</td>\n",
       "      <td>...</td>\n",
       "      <td>...</td>\n",
       "      <td>...</td>\n",
       "      <td>...</td>\n",
       "      <td>...</td>\n",
       "      <td>...</td>\n",
       "    </tr>\n",
       "    <tr>\n",
       "      <th>6801</th>\n",
       "      <td>AACGTCAAGCGAGGAG-1</td>\n",
       "      <td>1</td>\n",
       "      <td>194990129</td>\n",
       "      <td>C</td>\n",
       "      <td>T</td>\n",
       "      <td>A01535:287:H3JJHDSX7:1:1328:17092:35258</td>\n",
       "      <td>-</td>\n",
       "      <td>45</td>\n",
       "      <td>37</td>\n",
       "      <td>255</td>\n",
       "      <td>1</td>\n",
       "    </tr>\n",
       "    <tr>\n",
       "      <th>6839</th>\n",
       "      <td>AAAGGATCATGAAGCG-1</td>\n",
       "      <td>1</td>\n",
       "      <td>195036921</td>\n",
       "      <td>C</td>\n",
       "      <td>T</td>\n",
       "      <td>A01535:287:H3JJHDSX7:1:2307:26910:7639</td>\n",
       "      <td>-</td>\n",
       "      <td>30</td>\n",
       "      <td>37</td>\n",
       "      <td>255</td>\n",
       "      <td>1</td>\n",
       "    </tr>\n",
       "    <tr>\n",
       "      <th>6857</th>\n",
       "      <td>AAAGGGCCACCAGTTA-1</td>\n",
       "      <td>1</td>\n",
       "      <td>195047095</td>\n",
       "      <td>C</td>\n",
       "      <td>T</td>\n",
       "      <td>A01535:287:H3JJHDSX7:1:2602:27670:19820</td>\n",
       "      <td>-</td>\n",
       "      <td>39</td>\n",
       "      <td>37</td>\n",
       "      <td>255</td>\n",
       "      <td>1</td>\n",
       "    </tr>\n",
       "    <tr>\n",
       "      <th>6907</th>\n",
       "      <td>AAGACAAAGCCGGATA-1</td>\n",
       "      <td>1</td>\n",
       "      <td>195098756</td>\n",
       "      <td>C</td>\n",
       "      <td>T</td>\n",
       "      <td>A01535:287:H3JJHDSX7:1:1359:15429:5916</td>\n",
       "      <td>-</td>\n",
       "      <td>29</td>\n",
       "      <td>37</td>\n",
       "      <td>255</td>\n",
       "      <td>1</td>\n",
       "    </tr>\n",
       "    <tr>\n",
       "      <th>6960</th>\n",
       "      <td>AACAAAGCACGCAGTC-1</td>\n",
       "      <td>1</td>\n",
       "      <td>195117529</td>\n",
       "      <td>C</td>\n",
       "      <td>T</td>\n",
       "      <td>A01535:287:H3JJHDSX7:2:1266:20392:36432</td>\n",
       "      <td>-</td>\n",
       "      <td>22</td>\n",
       "      <td>37</td>\n",
       "      <td>255</td>\n",
       "      <td>1</td>\n",
       "    </tr>\n",
       "  </tbody>\n",
       "</table>\n",
       "<p>453805 rows × 11 columns</p>\n",
       "</div>"
      ],
      "text/plain": [
       "                 barcode contig   position ref alt  \\\n",
       "116   AACCACAGTCGTGATT-1     MT       2767   C   T   \n",
       "89    AACAACCAGTAATACG-1     MT       2767   C   T   \n",
       "134   AACGTCACAAGAATGT-1     MT       2785   C   T   \n",
       "8     AAACCCACACCGTGGT-1     MT       2794   C   T   \n",
       "176   AACCTGATCGCTCATC-1     MT       2802   C   T   \n",
       "...                  ...    ...        ...  ..  ..   \n",
       "6801  AACGTCAAGCGAGGAG-1      1  194990129   C   T   \n",
       "6839  AAAGGATCATGAAGCG-1      1  195036921   C   T   \n",
       "6857  AAAGGGCCACCAGTTA-1      1  195047095   C   T   \n",
       "6907  AAGACAAAGCCGGATA-1      1  195098756   C   T   \n",
       "6960  AACAAAGCACGCAGTC-1      1  195117529   C   T   \n",
       "\n",
       "                                      read_id strand dist_from_end  \\\n",
       "116   A01535:287:H3JJHDSX7:1:1446:13928:17284      +            17   \n",
       "89    A01535:287:H3JJHDSX7:2:1273:15157:16094      +            17   \n",
       "134   A01535:287:H3JJHDSX7:1:2159:15483:16783      +            35   \n",
       "8      A01535:287:H3JJHDSX7:1:2352:3640:34287      +            27   \n",
       "176    A01535:287:H3JJHDSX7:2:1476:20745:1752      +            25   \n",
       "...                                       ...    ...           ...   \n",
       "6801  A01535:287:H3JJHDSX7:1:1328:17092:35258      -            45   \n",
       "6839   A01535:287:H3JJHDSX7:1:2307:26910:7639      -            30   \n",
       "6857  A01535:287:H3JJHDSX7:1:2602:27670:19820      -            39   \n",
       "6907   A01535:287:H3JJHDSX7:1:1359:15429:5916      -            29   \n",
       "6960  A01535:287:H3JJHDSX7:2:1266:20392:36432      -            22   \n",
       "\n",
       "     base_quality mapping_quality  coverage  \n",
       "116            37             255         1  \n",
       "89             37             255         8  \n",
       "134            37             255         4  \n",
       "8              37             255        10  \n",
       "176            37             255         8  \n",
       "...           ...             ...       ...  \n",
       "6801           37             255         1  \n",
       "6839           37             255         1  \n",
       "6857           37             255         1  \n",
       "6907           37             255         1  \n",
       "6960           37             255         1  \n",
       "\n",
       "[453805 rows x 11 columns]"
      ]
     },
     "execution_count": 41,
     "metadata": {},
     "output_type": "execute_result"
    }
   ],
   "source": [
    "example_new_ct"
   ]
  },
  {
   "cell_type": "markdown",
   "id": "5dc30c7f-73aa-4be6-83a7-ff2a2072d602",
   "metadata": {},
   "source": [
    "# Cells that do have STAMP expressed versus don't...?"
   ]
  },
  {
   "cell_type": "code",
   "execution_count": 42,
   "id": "bc7ee3ff-374f-4a6e-8ab7-0b1e1311c07d",
   "metadata": {},
   "outputs": [],
   "source": [
    "stamp_expression_path = \\\n",
    "'/projects/ps-yeolab3/ekofman/Sammi/MouseBrainEF1A_SingleCell_EPR_combined/\\\n",
    "4.1_cells_with_middling_stamp/stamp_expression_for_all_used_cells.tsv'"
   ]
  },
  {
   "cell_type": "code",
   "execution_count": 43,
   "id": "f2684ed2-1146-4e4c-9b4d-186865d6e4aa",
   "metadata": {},
   "outputs": [],
   "source": [
    "stamp_expression_df = pd.read_csv(stamp_expression_path, sep='\\t', index_col=0)"
   ]
  },
  {
   "cell_type": "code",
   "execution_count": 44,
   "id": "093153f4-7d3a-4a04-bf6d-ee855e23a02f",
   "metadata": {},
   "outputs": [
    {
     "data": {
      "text/plain": [
       "<AxesSubplot:>"
      ]
     },
     "execution_count": 44,
     "metadata": {},
     "output_type": "execute_result"
    },
    {
     "data": {
      "image/png": "[encoded data removed]",
      "text/plain": [
       "<Figure size 432x288 with 1 Axes>"
      ]
     },
     "metadata": {
      "needs_background": "light"
     },
     "output_type": "display_data"
    }
   ],
   "source": [
    "stamp_expression_df.Stamp.hist(bins=50)"
   ]
  },
  {
   "cell_type": "code",
   "execution_count": 50,
   "id": "af056065-287e-4639-bc12-6f2e83468b56",
   "metadata": {},
   "outputs": [],
   "source": [
    "all_edit_info_filtered['edit'] = all_edit_info_filtered['ref'] + '>' + all_edit_info_filtered['alt']"
   ]
  },
  {
   "cell_type": "code",
   "execution_count": 65,
   "id": "26edccde-cad7-48fe-ab64-20d91bcf8844",
   "metadata": {
    "scrolled": true,
    "tags": []
   },
   "outputs": [
    {
     "name": "stdout",
     "output_type": "stream",
     "text": [
      "0\n",
      "0.5\n",
      "1\n",
      "2\n",
      "3\n",
      "4\n",
      "5\n",
      "6\n",
      "6.5\n",
      "6.6\n"
     ]
    },
    {
     "data": {
      "image/png": "[encoded data removed]",
      "text/plain": [
       "<Figure size 432x288 with 1 Axes>"
      ]
     },
     "metadata": {
      "needs_background": "light"
     },
     "output_type": "display_data"
    },
    {
     "data": {
      "image/png": "[encoded data removed]",
      "text/plain": [
       "<Figure size 432x288 with 1 Axes>"
      ]
     },
     "metadata": {
      "needs_background": "light"
     },
     "output_type": "display_data"
    },
    {
     "data": {
      "image/png": "[encoded data removed]",
      "text/plain": [
       "<Figure size 432x288 with 1 Axes>"
      ]
     },
     "metadata": {
      "needs_background": "light"
     },
     "output_type": "display_data"
    },
    {
     "data": {
      "image/png": "[encoded data removed]",
      "text/plain": [
       "<Figure size 432x288 with 1 Axes>"
      ]
     },
     "metadata": {
      "needs_background": "light"
     },
     "output_type": "display_data"
    },
    {
     "data": {
      "image/png": "[encoded data removed]",
      "text/plain": [
       "<Figure size 432x288 with 1 Axes>"
      ]
     },
     "metadata": {
      "needs_background": "light"
     },
     "output_type": "display_data"
    },
    {
     "data": {
      "image/png": "[encoded data removed]",
      "text/plain": [
       "<Figure size 432x288 with 1 Axes>"
      ]
     },
     "metadata": {
      "needs_background": "light"
     },
     "output_type": "display_data"
    },
    {
     "data": {
      "image/png": "[encoded data removed]",
      "text/plain": [
       "<Figure size 432x288 with 1 Axes>"
      ]
     },
     "metadata": {
      "needs_background": "light"
     },
     "output_type": "display_data"
    },
    {
     "data": {
      "image/png": "[encoded data removed]",
      "text/plain": [
       "<Figure size 432x288 with 1 Axes>"
      ]
     },
     "metadata": {
      "needs_background": "light"
     },
     "output_type": "display_data"
    },
    {
     "data": {
      "image/png": "[encoded data removed]",
      "text/plain": [
       "<Figure size 432x288 with 1 Axes>"
      ]
     },
     "metadata": {
      "needs_background": "light"
     },
     "output_type": "display_data"
    },
    {
     "data": {
      "image/png": "[encoded data removed]",
      "text/plain": [
       "<Figure size 432x288 with 1 Axes>"
      ]
     },
     "metadata": {
      "needs_background": "light"
     },
     "output_type": "display_data"
    }
   ],
   "source": [
    "fractions_ct = []\n",
    "threshs = [0, 0.5, 1, 2, 3, 4, 5, 6, 6.5, 6.6]\n",
    "for thresh in threshs:\n",
    "    print(thresh)\n",
    "    barcodes_at_stamp_thresh = stamp_expression_df[stamp_expression_df.Stamp > thresh].index\n",
    "    \n",
    "    all_edit_info_filtered_in_stamp_level = all_edit_info_filtered[\n",
    "        all_edit_info_filtered.barcode.isin(barcodes_at_stamp_thresh)]\n",
    "    \n",
    "    all_edit_info_filtered_in_stamp_level.groupby(['ref', 'alt']).count().plot(kind='barh', legend=False)\n",
    "    plt.title(\"Edit Type Distribution for Cells with STAMP expression above {}\".format(thresh))\n",
    "    \n",
    "    fraction_ct = len(all_edit_info_filtered_in_stamp_level[all_edit_info_filtered_in_stamp_level['edit'] == 'C>T'])/len(all_edit_info_filtered_in_stamp_level)\n",
    "    fractions_ct.append(fraction_ct)\n",
    "    \n",
    "    "
   ]
  },
  {
   "cell_type": "code",
   "execution_count": 66,
   "id": "01e6b127-1356-40c4-b700-02c31a0c5266",
   "metadata": {},
   "outputs": [
    {
     "data": {
      "text/plain": [
       "Text(0.5, 1.0, 'Enrichment for C>T edits within cells filtered by STAMP threshold')"
      ]
     },
     "execution_count": 66,
     "metadata": {},
     "output_type": "execute_result"
    },
    {
     "data": {
      "image/png": "[encoded data removed]",
      "text/plain": [
       "<Figure size 432x288 with 1 Axes>"
      ]
     },
     "metadata": {
      "needs_background": "light"
     },
     "output_type": "display_data"
    }
   ],
   "source": [
    "plt.plot(threshs, fractions_ct)\n",
    "plt.ylabel(\"Fraction of total edits that are C>T\")\n",
    "plt.xlabel(\"STAMP expression minimum\")\n",
    "plt.title(\"Enrichment for C>T edits within cells filtered by STAMP threshold\")"
   ]
  },
  {
   "cell_type": "code",
   "execution_count": 70,
   "id": "f8800507-1d95-4bb6-94a8-9c0ec7de29fb",
   "metadata": {
    "scrolled": true,
    "tags": []
   },
   "outputs": [
    {
     "name": "stdout",
     "output_type": "stream",
     "text": [
      "1\n",
      "2\n",
      "3\n",
      "4\n",
      "5\n",
      "6\n",
      "6.5\n",
      "6.6\n"
     ]
    },
    {
     "data": {
      "image/png": "[encoded data removed]",
      "text/plain": [
       "<Figure size 432x288 with 1 Axes>"
      ]
     },
     "metadata": {
      "needs_background": "light"
     },
     "output_type": "display_data"
    },
    {
     "data": {
      "image/png": "[encoded data removed]",
      "text/plain": [
       "<Figure size 432x288 with 1 Axes>"
      ]
     },
     "metadata": {
      "needs_background": "light"
     },
     "output_type": "display_data"
    },
    {
     "data": {
      "image/png": "[encoded data removed]",
      "text/plain": [
       "<Figure size 432x288 with 1 Axes>"
      ]
     },
     "metadata": {
      "needs_background": "light"
     },
     "output_type": "display_data"
    },
    {
     "data": {
      "image/png": "[encoded data removed]",
      "text/plain": [
       "<Figure size 432x288 with 1 Axes>"
      ]
     },
     "metadata": {
      "needs_background": "light"
     },
     "output_type": "display_data"
    },
    {
     "data": {
      "image/png": "[encoded data removed]",
      "text/plain": [
       "<Figure size 432x288 with 1 Axes>"
      ]
     },
     "metadata": {
      "needs_background": "light"
     },
     "output_type": "display_data"
    },
    {
     "data": {
      "image/png": "[encoded data removed]",
      "text/plain": [
       "<Figure size 432x288 with 1 Axes>"
      ]
     },
     "metadata": {
      "needs_background": "light"
     },
     "output_type": "display_data"
    },
    {
     "data": {
      "image/png": "[encoded data removed]",
      "text/plain": [
       "<Figure size 432x288 with 1 Axes>"
      ]
     },
     "metadata": {
      "needs_background": "light"
     },
     "output_type": "display_data"
    },
    {
     "data": {
      "image/png": "[encoded data removed]",
      "text/plain": [
       "<Figure size 432x288 with 1 Axes>"
      ]
     },
     "metadata": {
      "needs_background": "light"
     },
     "output_type": "display_data"
    }
   ],
   "source": [
    "fractions_ct_low = []\n",
    "threshs = [1, 2, 3, 4, 5, 6, 6.5, 6.6]\n",
    "for thresh in threshs:\n",
    "    print(thresh)\n",
    "    barcodes_at_stamp_thresh = stamp_expression_df[stamp_expression_df.Stamp < thresh].index\n",
    "    \n",
    "    all_edit_info_filtered_in_stamp_level = all_edit_info_filtered[\n",
    "        all_edit_info_filtered.barcode.isin(barcodes_at_stamp_thresh)]\n",
    "    \n",
    "    all_edit_info_filtered_in_stamp_level.groupby(['ref', 'alt']).count().plot(kind='barh', legend=False)\n",
    "    plt.title(\"Edit Type Distribution for Cells with STAMP expression below {}\".format(thresh))\n",
    "    \n",
    "    fraction_ct = len(all_edit_info_filtered_in_stamp_level[all_edit_info_filtered_in_stamp_level['edit'] == 'C>T'])/len(all_edit_info_filtered_in_stamp_level)\n",
    "    fractions_ct_low.append(fraction_ct)"
   ]
  },
  {
   "cell_type": "code",
   "execution_count": 71,
   "id": "46bc326f-a695-41f6-bafb-5daf952a4dd8",
   "metadata": {},
   "outputs": [
    {
     "data": {
      "text/plain": [
       "Text(0.5, 1.0, 'Enrichment for C>T edits within cells filtered by STAMP threshold')"
      ]
     },
     "execution_count": 71,
     "metadata": {},
     "output_type": "execute_result"
    },
    {
     "data": {
      "image/png": "[encoded data removed]",
      "text/plain": [
       "<Figure size 432x288 with 1 Axes>"
      ]
     },
     "metadata": {
      "needs_background": "light"
     },
     "output_type": "display_data"
    }
   ],
   "source": [
    "plt.plot(threshs, fractions_ct_low)\n",
    "plt.ylabel(\"Fraction of total edits that are C>T\")\n",
    "plt.xlabel(\"STAMP expression maximum\")\n",
    "plt.title(\"Enrichment for C>T edits within cells filtered by STAMP threshold\")"
   ]
  },
  {
   "cell_type": "code",
   "execution_count": null,
   "id": "c71e31ad-c7fb-4c3d-b1f2-84ed484cb525",
   "metadata": {},
   "outputs": [],
   "source": []
  }
 ],
 "metadata": {
  "kernelspec": {
   "display_name": "new_anaconda3",
   "language": "python",
   "name": "new_anaconda3"
  },
  "language_info": {
   "codemirror_mode": {
    "name": "ipython",
    "version": 3
   },
   "file_extension": ".py",
   "mimetype": "text/x-python",
   "name": "python",
   "nbconvert_exporter": "python",
   "pygments_lexer": "ipython3",
   "version": "3.7.4"
  }
 },
 "nbformat": 4,
 "nbformat_minor": 5
}
