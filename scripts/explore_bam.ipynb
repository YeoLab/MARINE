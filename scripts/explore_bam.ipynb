{
 "cells": [
  {
   "cell_type": "code",
   "execution_count": 1,
   "id": "834c9266-dd67-464d-b30d-eb56aee77724",
   "metadata": {},
   "outputs": [],
   "source": [
    "import pysam\n",
    "import os\n",
    "import sys\n",
    "directory_path = os.path.abspath(os.path.join('../src/'))\n",
    "if directory_path not in sys.path:\n",
    "    sys.path.append(directory_path)\n",
    "    \n",
    "from read_process import get_contig_lengths_dict,\\\n",
    "incorporate_replaced_pos_info,incorporate_insertions_and_deletions,\\\n",
    "get_positions_from_md_tag,reverse_complement,get_edit_information,get_edit_information_wrapper,\\\n",
    "keep_read,has_edits"
   ]
  },
  {
   "cell_type": "markdown",
   "id": "df7166d4-3f54-4108-abb8-e978f704727a",
   "metadata": {},
   "source": [
    "# Bam example"
   ]
  },
  {
   "cell_type": "code",
   "execution_count": 2,
   "id": "fba3a6f1-60ab-4ec3-9f17-a59ab8d4bbed",
   "metadata": {},
   "outputs": [],
   "source": [
    "bampath = '/projects/ps-yeolab5/ekofman/Sammi/MouseBrainEF1A_SingleCell_EPR_batch2/filtered_possorted_ms_hippo_stamp_bam/filtered_keep_xf25_possorted_genome_with_header.bam_MD.bam'\n"
   ]
  },
  {
   "cell_type": "code",
   "execution_count": 3,
   "id": "6c2899e1-6cbd-48bd-b255-197b8aa1437e",
   "metadata": {},
   "outputs": [],
   "source": [
    "samfile = pysam.AlignmentFile(bampath, \"rb\")"
   ]
  },
  {
   "cell_type": "markdown",
   "id": "cd46fd31-deb3-4cce-996e-0544d924efa5",
   "metadata": {},
   "source": [
    "# Helper functions"
   ]
  },
  {
   "cell_type": "code",
   "execution_count": 4,
   "id": "afeaced5-14d7-4781-b517-a939044990c1",
   "metadata": {
    "scrolled": true,
    "tags": []
   },
   "outputs": [],
   "source": [
    "\n",
    "contig_lengths_dict = get_contig_lengths_dict(samfile)"
   ]
  },
  {
   "cell_type": "code",
   "execution_count": 11,
   "id": "5bcc8902-4748-44e9-b848-722d21f39f53",
   "metadata": {},
   "outputs": [],
   "source": [
    "\n",
    "def print_read_info(read):\n",
    "    md_tag = read.get_tag('MD')\n",
    "    read_id = read.query_name\n",
    "    cigar_string = read.cigarstring\n",
    "    barcode = read.get_tag('CR')\n",
    "    print('MD tag', md_tag)\n",
    "    print(\"CIGAR tag\", cigar_string)\n",
    "    print('barcode', barcode)\n",
    "    "
   ]
  },
  {
   "cell_type": "markdown",
   "id": "67ea541e-ab33-40a6-9d12-88c707c3932c",
   "metadata": {},
   "source": [
    "# Full test"
   ]
  },
  {
   "cell_type": "code",
   "execution_count": 59,
   "id": "5481bde1-a0e7-43b6-8699-1043a6d7cae3",
   "metadata": {
    "scrolled": true,
    "tags": []
   },
   "outputs": [],
   "source": [
    "from collections import defaultdict\n",
    "from sys import getsizeof\n",
    "import time\n",
    "\n",
    "\n",
    "start_time = time.perf_counter()\n",
    "\n",
    "barcode_counts = defaultdict(lambda:0)\n",
    "barcode_to_position_to_alts = defaultdict(lambda:defaultdict(lambda:defaultdict(lambda:defaultdict()))) \n",
    "skipped_for_deletions_count = 0 \n",
    "\n",
    "MAX_READS = 10000000\n",
    "contig = '1'\n",
    "reads_for_contig = samfile.fetch(contig, 0, contig_lengths_dict.get(contig))\n",
    "\n",
    "num_barcodes_to_kb = {}\n",
    "num_reads_to_kb = {}\n",
    "num_barcodes_to_seconds = {}\n",
    "num_reads_to_seconds = {}\n",
    "\n",
    "for i, read in enumerate(reads_for_contig):\n",
    "    \n",
    "    # Keep track of number of reads processed\n",
    "    if i%10000 == 0:\n",
    "        #print('Read {}'.format(i))\n",
    "        kb_size = getsizeof(barcode_to_position_to_alts)/1000\n",
    "        num_barcodes = len(barcode_to_position_to_alts.keys())\n",
    "        num_barcodes_to_kb[num_barcodes] = kb_size\n",
    "        num_reads_to_kb[i] = kb_size\n",
    "        num_barcodes_to_seconds[num_barcodes] = time.perf_counter() - start_time\n",
    "        num_reads_to_seconds[i] = time.perf_counter() - start_time\n",
    "\n",
    "    if i == MAX_READS:\n",
    "        end_time = time.perf_counter()\n",
    "        break\n",
    "        \n",
    "    md_tag = read.get_tag('MD')\n",
    "    is_reverse = read.is_reverse\n",
    "        \n",
    "    if not is_reverse:\n",
    "        # FOR NOW SKIP FORWARD READS\n",
    "        continue\n",
    "        \n",
    "    if '^' in md_tag:\n",
    "        # FOR NOW SKIP DELETIONS, THEY ARE TRICKY TO PARSE...\n",
    "        skipped_for_deletions_count += 1\n",
    "        continue\n",
    "    \n",
    "    if not has_edits(read):\n",
    "        continue\n",
    "\n",
    "    should_keep = keep_read(read)\n",
    "    \n",
    "    barcode = read.get_tag('CR')\n",
    "    barcode_counts[barcode] += 1\n",
    "\n",
    "    #print_read_info(read)\n",
    "    #print()\n",
    "\n",
    "    alt_bases, ref_bases, positions_replaced = get_edit_information_wrapper(read)\n",
    "    reference_start = read.reference_start\n",
    "    read_id = read.query_name\n",
    "    \n",
    "    for alt, ref, pos in zip(alt_bases, ref_bases, positions_replaced):\n",
    "        assert(alt != ref)\n",
    "        barcode_to_position_to_alts[barcode]['{}_{}'.format(pos+reference_start, ref)][alt][read_id] = should_keep\n",
    "    \n",
    "    \n",
    "    \n",
    "    "
   ]
  },
  {
   "cell_type": "markdown",
   "id": "14253834-76b1-44c5-ac49-fbce5de7b52b",
   "metadata": {},
   "source": [
    "# Example dataframe construction"
   ]
  },
  {
   "cell_type": "code",
   "execution_count": 69,
   "id": "7cb265bc-a968-405c-85fa-415150029b64",
   "metadata": {
    "scrolled": true,
    "tags": []
   },
   "outputs": [],
   "source": [
    "import pandas as pd\n",
    "\n",
    "all_rows = []\n",
    "for barcode, pos_dict in barcode_to_position_to_alts.items():\n",
    "    for pos, alt_dict in pos_dict.items():\n",
    "        for alt, read_dict in alt_dict.items():\n",
    "            for read, keep in read_dict.items():\n",
    "                new_row = (barcode, contig, pos, alt, read, keep)\n",
    "                all_rows.append(new_row)\n",
    "            \n",
    "example_dataframe = pd.DataFrame(all_rows, columns=['barcode', 'contig', 'position_ref', 'alt', 'read_id', 'keep'])"
   ]
  },
  {
   "cell_type": "markdown",
   "id": "9bbca5c4-b8e5-4cf5-b26e-ccf5cd6c9306",
   "metadata": {},
   "source": [
    "# Time and memory analyses"
   ]
  },
  {
   "cell_type": "code",
   "execution_count": 61,
   "id": "2603ed4b-3861-471e-9245-35b2a049db6c",
   "metadata": {
    "tags": []
   },
   "outputs": [
    {
     "data": {
      "text/plain": [
       "Text(0.5, 1.0, 'Time vs. number of reads')"
      ]
     },
     "execution_count": 61,
     "metadata": {},
     "output_type": "execute_result"
    },
    {
     "data": {
      "image/png": "[encoded data removed]",
      "text/plain": [
       "<Figure size 432x288 with 1 Axes>"
      ]
     },
     "metadata": {
      "needs_background": "light"
     },
     "output_type": "display_data"
    },
    {
     "data": {
      "image/png": "[encoded data removed]",
      "text/plain": [
       "<Figure size 432x288 with 1 Axes>"
      ]
     },
     "metadata": {
      "needs_background": "light"
     },
     "output_type": "display_data"
    }
   ],
   "source": [
    "from matplotlib import pyplot as plt\n",
    "\n",
    "pd.DataFrame.from_dict(num_barcodes_to_seconds, orient='index').plot()\n",
    "plt.ylabel(\"Total time\")\n",
    "plt.xlabel(\"Number of unique cell barcodes stored\")\n",
    "plt.title(\"Time vs. number of barcodes\")\n",
    "\n",
    "pd.DataFrame.from_dict(num_reads_to_seconds, orient='index').plot()\n",
    "plt.ylabel(\"Total time\")\n",
    "plt.xlabel(\"Number of reads processed\")\n",
    "plt.title(\"Time vs. number of reads\")"
   ]
  },
  {
   "cell_type": "code",
   "execution_count": 62,
   "id": "bd161f9e-bedc-4d04-b4a5-32a6ea4e87d0",
   "metadata": {},
   "outputs": [
    {
     "name": "stdout",
     "output_type": "stream",
     "text": [
      "6.332527523813769e-06 0.0005242992000000001\n"
     ]
    }
   ],
   "source": [
    "import numpy as np\n",
    "\n",
    "max_reads = np.max(list(num_reads_to_seconds.keys()))\n",
    "max_seconds = num_reads_to_seconds.get(max_reads)\n",
    "max_kb = num_reads_to_kb.get(max_reads)\n",
    "seconds_per_read = max_seconds/max_reads\n",
    "kb_per_read = max_kb/max_reads\n",
    "print(seconds_per_read, kb_per_read)"
   ]
  },
  {
   "cell_type": "code",
   "execution_count": 63,
   "id": "f0a4dbc8-659f-46c0-8019-43f523a7061a",
   "metadata": {},
   "outputs": [
    {
     "name": "stdout",
     "output_type": "stream",
     "text": [
      "1000000000\n"
     ]
    }
   ],
   "source": [
    "reads_per_cell = 50000\n",
    "total_cells = 20000\n",
    "total_reads = reads_per_cell * total_cells\n",
    "print(total_reads)"
   ]
  },
  {
   "cell_type": "code",
   "execution_count": 64,
   "id": "c22a7fb1-1ff7-4d6a-b37d-ec83af30a0a3",
   "metadata": {},
   "outputs": [
    {
     "name": "stdout",
     "output_type": "stream",
     "text": [
      "Estimated total time in minutes for 1000000000 reads: 106 minutes\n",
      "Estimated total kilobytes for 1000000000 reads: 524299.2000000001 kb\n"
     ]
    }
   ],
   "source": [
    "total_estimated_time = total_reads * seconds_per_read\n",
    "print('Estimated total time in minutes for {} reads: {} minutes'.format(total_reads, round(total_estimated_time/60), 3))\n",
    "total_estimated_kb = total_reads * kb_per_read\n",
    "print('Estimated total kilobytes for {} reads: {} kb'.format(total_reads, total_estimated_kb))\n"
   ]
  },
  {
   "cell_type": "code",
   "execution_count": 65,
   "id": "baf8285f-0109-4506-bcd0-6fdd289d9ce5",
   "metadata": {},
   "outputs": [
    {
     "data": {
      "text/plain": [
       "Text(0.5, 1.0, 'Memory requirements vs. number of reads')"
      ]
     },
     "execution_count": 65,
     "metadata": {},
     "output_type": "execute_result"
    },
    {
     "data": {
      "image/png": "[encoded data removed]",
      "text/plain": [
       "<Figure size 432x288 with 1 Axes>"
      ]
     },
     "metadata": {
      "needs_background": "light"
     },
     "output_type": "display_data"
    },
    {
     "data": {
      "image/png": "[encoded data removed]",
      "text/plain": [
       "<Figure size 432x288 with 1 Axes>"
      ]
     },
     "metadata": {
      "needs_background": "light"
     },
     "output_type": "display_data"
    }
   ],
   "source": [
    "from matplotlib import pyplot as plt\n",
    "\n",
    "pd.DataFrame.from_dict(num_barcodes_to_kb, orient='index').plot()\n",
    "plt.ylabel(\"kilobytes of memory utilized\")\n",
    "plt.xlabel(\"Number of unique cell barcodes stored\")\n",
    "plt.title(\"Memory requirements vs. number of barcodes\")\n",
    "\n",
    "\n",
    "pd.DataFrame.from_dict(num_reads_to_kb, orient='index').plot()\n",
    "plt.ylabel(\"kilobytes of memory utilized\")\n",
    "plt.xlabel(\"Number of reads\")\n",
    "plt.title(\"Memory requirements vs. number of reads\")"
   ]
  },
  {
   "cell_type": "code",
   "execution_count": 66,
   "id": "46b7d151-ea80-49cf-a624-c4577ff72f50",
   "metadata": {},
   "outputs": [],
   "source": [
    "num_reads_per_barcode_df = pd.DataFrame.from_dict(barcode_counts, orient='index', columns=['reads']).sort_values('reads')"
   ]
  },
  {
   "cell_type": "code",
   "execution_count": 67,
   "id": "9e98fabd-2209-4432-a005-1407a4f96ea7",
   "metadata": {},
   "outputs": [
    {
     "data": {
      "text/plain": [
       "reads    683319\n",
       "dtype: int64"
      ]
     },
     "execution_count": 67,
     "metadata": {},
     "output_type": "execute_result"
    }
   ],
   "source": [
    "num_reads_per_barcode_df.sum()"
   ]
  },
  {
   "cell_type": "code",
   "execution_count": 68,
   "id": "93a584a6-0741-4ad0-b8dc-ba9d737d4a76",
   "metadata": {},
   "outputs": [
    {
     "data": {
      "text/plain": [
       "32575"
      ]
     },
     "execution_count": 68,
     "metadata": {},
     "output_type": "execute_result"
    }
   ],
   "source": [
    "skipped_for_deletions_count"
   ]
  },
  {
   "cell_type": "code",
   "execution_count": null,
   "id": "e3bd3b8a-d447-45f9-ad34-098c86c52fe6",
   "metadata": {},
   "outputs": [],
   "source": []
  }
 ],
 "metadata": {
  "kernelspec": {
   "display_name": "new_anaconda3",
   "language": "python",
   "name": "new_anaconda3"
  },
  "language_info": {
   "codemirror_mode": {
    "name": "ipython",
    "version": 3
   },
   "file_extension": ".py",
   "mimetype": "text/x-python",
   "name": "python",
   "nbconvert_exporter": "python",
   "pygments_lexer": "ipython3",
   "version": "3.7.4"
  }
 },
 "nbformat": 4,
 "nbformat_minor": 5
}
