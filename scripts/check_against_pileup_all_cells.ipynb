{
 "cells": [
  {
   "cell_type": "code",
   "execution_count": 1,
   "id": "834c9266-dd67-464d-b30d-eb56aee77724",
   "metadata": {},
   "outputs": [],
   "source": [
    "import pysam\n",
    "import os\n",
    "import sys\n",
    "from sys import getsizeof\n",
    "import time\n",
    "\n",
    "directory_path = os.path.abspath(os.path.join('../src/'))\n",
    "if directory_path not in sys.path:\n",
    "    sys.path.append(directory_path)\n",
    "    \n",
    "from read_process import get_contig_lengths_dict,\\\n",
    "incorporate_replaced_pos_info,incorporate_insertions_and_deletions,\\\n",
    "get_positions_from_md_tag,reverse_complement,get_edit_information,get_edit_information_wrapper,\\\n",
    "has_edits,get_dataframe_from_barcode_dict,get_total_coverage_for_contig_at_position,\\\n",
    "print_read_info, update_coverage_array, add_read_information_to_barcode_dict, get_hamming_distance\n"
   ]
  },
  {
   "cell_type": "markdown",
   "id": "df7166d4-3f54-4108-abb8-e978f704727a",
   "metadata": {},
   "source": [
    "# An example on a bam for 875 cell barcodes (group0, group1, group2, group3, group4, group5, group6 split from the original bam)"
   ]
  },
  {
   "cell_type": "markdown",
   "id": "a16eb554-a261-4239-b48b-358674b9b827",
   "metadata": {},
   "source": [
    "### Should be about 875*30,000 = 26 million reads"
   ]
  },
  {
   "cell_type": "markdown",
   "id": "d5962296-f5be-4c0f-8323-74f591d58dea",
   "metadata": {},
   "source": [
    "#### in 10X's bam file, xf=25 means that read is uniquely mapped to a genome, and was used for counting UMI. So we should only look at reads with xf=25 from the 10X bam."
   ]
  },
  {
   "cell_type": "code",
   "execution_count": 2,
   "id": "fba3a6f1-60ab-4ec3-9f17-a59ab8d4bbed",
   "metadata": {},
   "outputs": [],
   "source": [
    "bampath = '/projects/ps-yeolab3/ekofman/sailor2/data/groups_0_1_2_3_4_5_6_merged.bam'\n"
   ]
  },
  {
   "cell_type": "code",
   "execution_count": 35,
   "id": "6c2899e1-6cbd-48bd-b255-197b8aa1437e",
   "metadata": {},
   "outputs": [],
   "source": [
    "samfile = pysam.AlignmentFile(bampath, \"rb\")\n",
    "\n"
   ]
  },
  {
   "cell_type": "markdown",
   "id": "67ea541e-ab33-40a6-9d12-88c707c3932c",
   "metadata": {},
   "source": [
    "# Full test"
   ]
  },
  {
   "cell_type": "code",
   "execution_count": 304,
   "id": "5481bde1-a0e7-43b6-8699-1043a6d7cae3",
   "metadata": {
    "scrolled": true,
    "tags": []
   },
   "outputs": [
    {
     "name": "stdout",
     "output_type": "stream",
     "text": [
      "1\n",
      "/projects/ps-yeolab3/ekofman/sailor2/scripts/check_against_pileup_all_cells_outs/edit_info/1_edit_info.tsv exists... deleting\n",
      "\tTotal reads: 100000\n",
      "\tTotal reads: 200000\n",
      "\tTotal reads: 300000\n",
      "10\n",
      "/projects/ps-yeolab3/ekofman/sailor2/scripts/check_against_pileup_all_cells_outs/edit_info/10_edit_info.tsv exists... deleting\n",
      "\tTotal reads: 400000\n",
      "\tTotal reads: 500000\n",
      "\tTotal reads: 600000\n",
      "11\n",
      "/projects/ps-yeolab3/ekofman/sailor2/scripts/check_against_pileup_all_cells_outs/edit_info/11_edit_info.tsv exists... deleting\n",
      "\tTotal reads: 700000\n",
      "\tTotal reads: 800000\n",
      "\tTotal reads: 900000\n",
      "\tTotal reads: 1000000\n",
      "\tTotal reads: 1100000\n",
      "12\n",
      "/projects/ps-yeolab3/ekofman/sailor2/scripts/check_against_pileup_all_cells_outs/edit_info/12_edit_info.tsv exists... deleting\n",
      "\tTotal reads: 1200000\n",
      "\tTotal reads: 1300000\n",
      "13\n",
      "/projects/ps-yeolab3/ekofman/sailor2/scripts/check_against_pileup_all_cells_outs/edit_info/13_edit_info.tsv exists... deleting\n",
      "\tTotal reads: 1400000\n",
      "\tTotal reads: 1500000\n",
      "14\n",
      "/projects/ps-yeolab3/ekofman/sailor2/scripts/check_against_pileup_all_cells_outs/edit_info/14_edit_info.tsv exists... deleting\n",
      "\tTotal reads: 1600000\n",
      "\tTotal reads: 1700000\n",
      "\tTotal reads: 1800000\n",
      "15\n",
      "/projects/ps-yeolab3/ekofman/sailor2/scripts/check_against_pileup_all_cells_outs/edit_info/15_edit_info.tsv exists... deleting\n",
      "\tTotal reads: 1900000\n",
      "\tTotal reads: 2000000\n",
      "16\n",
      "/projects/ps-yeolab3/ekofman/sailor2/scripts/check_against_pileup_all_cells_outs/edit_info/16_edit_info.tsv exists... deleting\n",
      "\tTotal reads: 2100000\n",
      "\tTotal reads: 2200000\n",
      "\tTotal reads: 2300000\n",
      "17\n",
      "/projects/ps-yeolab3/ekofman/sailor2/scripts/check_against_pileup_all_cells_outs/edit_info/17_edit_info.tsv exists... deleting\n",
      "\tTotal reads: 2400000\n",
      "\tTotal reads: 2500000\n",
      "\tTotal reads: 2600000\n",
      "\tTotal reads: 2700000\n",
      "\tTotal reads: 2800000\n",
      "18\n",
      "/projects/ps-yeolab3/ekofman/sailor2/scripts/check_against_pileup_all_cells_outs/edit_info/18_edit_info.tsv exists... deleting\n",
      "\tTotal reads: 2900000\n",
      "19\n",
      "/projects/ps-yeolab3/ekofman/sailor2/scripts/check_against_pileup_all_cells_outs/edit_info/19_edit_info.tsv exists... deleting\n",
      "\tTotal reads: 3000000\n",
      "\tTotal reads: 3100000\n",
      "\tTotal reads: 3200000\n",
      "\tTotal reads: 3300000\n",
      "2\n",
      "/projects/ps-yeolab3/ekofman/sailor2/scripts/check_against_pileup_all_cells_outs/edit_info/2_edit_info.tsv exists... deleting\n",
      "\tTotal reads: 3400000\n",
      "\tTotal reads: 3500000\n",
      "\tTotal reads: 3600000\n",
      "\tTotal reads: 3700000\n",
      "\tTotal reads: 3800000\n",
      "3\n",
      "/projects/ps-yeolab3/ekofman/sailor2/scripts/check_against_pileup_all_cells_outs/edit_info/3_edit_info.tsv exists... deleting\n",
      "\tTotal reads: 3900000\n",
      "\tTotal reads: 4000000\n",
      "\tTotal reads: 4100000\n",
      "4\n",
      "/projects/ps-yeolab3/ekofman/sailor2/scripts/check_against_pileup_all_cells_outs/edit_info/4_edit_info.tsv exists... deleting\n",
      "\tTotal reads: 4200000\n",
      "\tTotal reads: 4300000\n",
      "\tTotal reads: 4400000\n",
      "5\n",
      "/projects/ps-yeolab3/ekofman/sailor2/scripts/check_against_pileup_all_cells_outs/edit_info/5_edit_info.tsv exists... deleting\n",
      "\tTotal reads: 4500000\n",
      "\tTotal reads: 4600000\n",
      "\tTotal reads: 4700000\n",
      "\tTotal reads: 4800000\n",
      "6\n",
      "/projects/ps-yeolab3/ekofman/sailor2/scripts/check_against_pileup_all_cells_outs/edit_info/6_edit_info.tsv exists... deleting\n",
      "\tTotal reads: 4900000\n",
      "\tTotal reads: 5000000\n",
      "\tTotal reads: 5100000\n",
      "7\n",
      "/projects/ps-yeolab3/ekofman/sailor2/scripts/check_against_pileup_all_cells_outs/edit_info/7_edit_info.tsv exists... deleting\n",
      "\tTotal reads: 5200000\n",
      "\tTotal reads: 5300000\n",
      "\tTotal reads: 5400000\n",
      "\tTotal reads: 5500000\n",
      "8\n",
      "/projects/ps-yeolab3/ekofman/sailor2/scripts/check_against_pileup_all_cells_outs/edit_info/8_edit_info.tsv exists... deleting\n",
      "\tTotal reads: 5600000\n",
      "\tTotal reads: 5700000\n",
      "\tTotal reads: 5800000\n",
      "9\n",
      "/projects/ps-yeolab3/ekofman/sailor2/scripts/check_against_pileup_all_cells_outs/edit_info/9_edit_info.tsv exists... deleting\n",
      "\tTotal reads: 5900000\n",
      "\tTotal reads: 6000000\n",
      "\tTotal reads: 6100000\n",
      "MT\n",
      "/projects/ps-yeolab3/ekofman/sailor2/scripts/check_against_pileup_all_cells_outs/edit_info/MT_edit_info.tsv exists... deleting\n",
      "\tTotal reads: 6200000\n",
      "\tTotal reads: 6300000\n",
      "\tTotal reads: 6400000\n",
      "X\n",
      "/projects/ps-yeolab3/ekofman/sailor2/scripts/check_against_pileup_all_cells_outs/edit_info/X_edit_info.tsv exists... deleting\n",
      "\tTotal reads: 6500000\n",
      "\tTotal reads: 6600000\n",
      "Y\n",
      "/projects/ps-yeolab3/ekofman/sailor2/scripts/check_against_pileup_all_cells_outs/edit_info/Y_edit_info.tsv exists... deleting\n",
      "JH584299.1\n",
      "/projects/ps-yeolab3/ekofman/sailor2/scripts/check_against_pileup_all_cells_outs/edit_info/JH584299.1_edit_info.tsv exists... deleting\n",
      "GL456233.1\n",
      "/projects/ps-yeolab3/ekofman/sailor2/scripts/check_against_pileup_all_cells_outs/edit_info/GL456233.1_edit_info.tsv exists... deleting\n",
      "JH584301.1\n",
      "/projects/ps-yeolab3/ekofman/sailor2/scripts/check_against_pileup_all_cells_outs/edit_info/JH584301.1_edit_info.tsv exists... deleting\n",
      "GL456211.1\n",
      "/projects/ps-yeolab3/ekofman/sailor2/scripts/check_against_pileup_all_cells_outs/edit_info/GL456211.1_edit_info.tsv exists... deleting\n",
      "GL456350.1\n",
      "/projects/ps-yeolab3/ekofman/sailor2/scripts/check_against_pileup_all_cells_outs/edit_info/GL456350.1_edit_info.tsv exists... deleting\n",
      "JH584293.1\n",
      "/projects/ps-yeolab3/ekofman/sailor2/scripts/check_against_pileup_all_cells_outs/edit_info/JH584293.1_edit_info.tsv exists... deleting\n",
      "GL456221.1\n",
      "/projects/ps-yeolab3/ekofman/sailor2/scripts/check_against_pileup_all_cells_outs/edit_info/GL456221.1_edit_info.tsv exists... deleting\n",
      "GL456221.1 [Errno 2] could not open alignment file `/projects/ps-yeolab3/ekofman/sailor2/scripts/check_against_pileup_all_cells_outs/split_bams/contig_GL456221.1/AACCACAAGATGCTTC-1.bam`: No such file or directory\n",
      "JH584297.1\n",
      "/projects/ps-yeolab3/ekofman/sailor2/scripts/check_against_pileup_all_cells_outs/edit_info/JH584297.1_edit_info.tsv exists... deleting\n",
      "JH584296.1\n",
      "/projects/ps-yeolab3/ekofman/sailor2/scripts/check_against_pileup_all_cells_outs/edit_info/JH584296.1_edit_info.tsv exists... deleting\n",
      "GL456354.1\n",
      "/projects/ps-yeolab3/ekofman/sailor2/scripts/check_against_pileup_all_cells_outs/edit_info/GL456354.1_edit_info.tsv exists... deleting\n",
      "JH584294.1\n",
      "/projects/ps-yeolab3/ekofman/sailor2/scripts/check_against_pileup_all_cells_outs/edit_info/JH584294.1_edit_info.tsv exists... deleting\n",
      "JH584294.1 [Errno 2] could not open alignment file `/projects/ps-yeolab3/ekofman/sailor2/scripts/check_against_pileup_all_cells_outs/split_bams/contig_JH584294.1/AACCAACGTAGGTAGC-1.bam`: No such file or directory\n",
      "JH584298.1\n",
      "/projects/ps-yeolab3/ekofman/sailor2/scripts/check_against_pileup_all_cells_outs/edit_info/JH584298.1_edit_info.tsv exists... deleting\n",
      "JH584300.1\n",
      "/projects/ps-yeolab3/ekofman/sailor2/scripts/check_against_pileup_all_cells_outs/edit_info/JH584300.1_edit_info.tsv exists... deleting\n",
      "GL456219.1\n",
      "/projects/ps-yeolab3/ekofman/sailor2/scripts/check_against_pileup_all_cells_outs/edit_info/GL456219.1_edit_info.tsv exists... deleting\n",
      "GL456210.1\n",
      "/projects/ps-yeolab3/ekofman/sailor2/scripts/check_against_pileup_all_cells_outs/edit_info/GL456210.1_edit_info.tsv exists... deleting\n",
      "GL456210.1 [Errno 2] could not open alignment file `/projects/ps-yeolab3/ekofman/sailor2/scripts/check_against_pileup_all_cells_outs/split_bams/contig_GL456210.1/AACACACTCTGCGGGT-1.bam`: No such file or directory\n",
      "JH584303.1\n",
      "/projects/ps-yeolab3/ekofman/sailor2/scripts/check_against_pileup_all_cells_outs/edit_info/JH584303.1_edit_info.tsv exists... deleting\n",
      "JH584302.1\n",
      "/projects/ps-yeolab3/ekofman/sailor2/scripts/check_against_pileup_all_cells_outs/edit_info/JH584302.1_edit_info.tsv exists... deleting\n",
      "GL456212.1\n",
      "/projects/ps-yeolab3/ekofman/sailor2/scripts/check_against_pileup_all_cells_outs/edit_info/GL456212.1_edit_info.tsv exists... deleting\n",
      "GL456212.1 [Errno 2] could not open alignment file `/projects/ps-yeolab3/ekofman/sailor2/scripts/check_against_pileup_all_cells_outs/split_bams/contig_GL456212.1/AACAAGAGTAGAATGT-1.bam`: No such file or directory\n",
      "JH584304.1\n",
      "/projects/ps-yeolab3/ekofman/sailor2/scripts/check_against_pileup_all_cells_outs/edit_info/JH584304.1_edit_info.tsv exists... deleting\n",
      "JH584304.1 [Errno 2] could not open alignment file `/projects/ps-yeolab3/ekofman/sailor2/scripts/check_against_pileup_all_cells_outs/split_bams/contig_JH584304.1/AAACGAAAGGTAGTCG-1.bam`: No such file or directory\n",
      "GL456379.1\n",
      "/projects/ps-yeolab3/ekofman/sailor2/scripts/check_against_pileup_all_cells_outs/edit_info/GL456379.1_edit_info.tsv exists... deleting\n",
      "GL456216.1\n",
      "/projects/ps-yeolab3/ekofman/sailor2/scripts/check_against_pileup_all_cells_outs/edit_info/GL456216.1_edit_info.tsv exists... deleting\n",
      "GL456216.1 [Errno 2] could not open alignment file `/projects/ps-yeolab3/ekofman/sailor2/scripts/check_against_pileup_all_cells_outs/split_bams/contig_GL456216.1/AACCACAAGCTTTGTG-1.bam`: No such file or directory\n",
      "GL456393.1\n",
      "/projects/ps-yeolab3/ekofman/sailor2/scripts/check_against_pileup_all_cells_outs/edit_info/GL456393.1_edit_info.tsv exists... deleting\n",
      "GL456366.1\n",
      "/projects/ps-yeolab3/ekofman/sailor2/scripts/check_against_pileup_all_cells_outs/edit_info/GL456366.1_edit_info.tsv exists... deleting\n",
      "GL456367.1\n",
      "/projects/ps-yeolab3/ekofman/sailor2/scripts/check_against_pileup_all_cells_outs/edit_info/GL456367.1_edit_info.tsv exists... deleting\n",
      "GL456239.1\n",
      "/projects/ps-yeolab3/ekofman/sailor2/scripts/check_against_pileup_all_cells_outs/edit_info/GL456239.1_edit_info.tsv exists... deleting\n",
      "GL456213.1\n",
      "/projects/ps-yeolab3/ekofman/sailor2/scripts/check_against_pileup_all_cells_outs/edit_info/GL456213.1_edit_info.tsv exists... deleting\n",
      "GL456383.1\n",
      "/projects/ps-yeolab3/ekofman/sailor2/scripts/check_against_pileup_all_cells_outs/edit_info/GL456383.1_edit_info.tsv exists... deleting\n",
      "GL456385.1\n",
      "/projects/ps-yeolab3/ekofman/sailor2/scripts/check_against_pileup_all_cells_outs/edit_info/GL456385.1_edit_info.tsv exists... deleting\n",
      "GL456360.1\n",
      "/projects/ps-yeolab3/ekofman/sailor2/scripts/check_against_pileup_all_cells_outs/edit_info/GL456360.1_edit_info.tsv exists... deleting\n",
      "GL456378.1\n",
      "/projects/ps-yeolab3/ekofman/sailor2/scripts/check_against_pileup_all_cells_outs/edit_info/GL456378.1_edit_info.tsv exists... deleting\n",
      "GL456389.1\n",
      "/projects/ps-yeolab3/ekofman/sailor2/scripts/check_against_pileup_all_cells_outs/edit_info/GL456389.1_edit_info.tsv exists... deleting\n",
      "GL456372.1\n",
      "/projects/ps-yeolab3/ekofman/sailor2/scripts/check_against_pileup_all_cells_outs/edit_info/GL456372.1_edit_info.tsv exists... deleting\n",
      "GL456370.1\n",
      "/projects/ps-yeolab3/ekofman/sailor2/scripts/check_against_pileup_all_cells_outs/edit_info/GL456370.1_edit_info.tsv exists... deleting\n",
      "GL456381.1\n",
      "/projects/ps-yeolab3/ekofman/sailor2/scripts/check_against_pileup_all_cells_outs/edit_info/GL456381.1_edit_info.tsv exists... deleting\n",
      "GL456387.1\n",
      "/projects/ps-yeolab3/ekofman/sailor2/scripts/check_against_pileup_all_cells_outs/edit_info/GL456387.1_edit_info.tsv exists... deleting\n",
      "GL456390.1\n",
      "/projects/ps-yeolab3/ekofman/sailor2/scripts/check_against_pileup_all_cells_outs/edit_info/GL456390.1_edit_info.tsv exists... deleting\n",
      "GL456394.1\n",
      "/projects/ps-yeolab3/ekofman/sailor2/scripts/check_against_pileup_all_cells_outs/edit_info/GL456394.1_edit_info.tsv exists... deleting\n",
      "GL456392.1\n",
      "/projects/ps-yeolab3/ekofman/sailor2/scripts/check_against_pileup_all_cells_outs/edit_info/GL456392.1_edit_info.tsv exists... deleting\n",
      "GL456382.1\n",
      "/projects/ps-yeolab3/ekofman/sailor2/scripts/check_against_pileup_all_cells_outs/edit_info/GL456382.1_edit_info.tsv exists... deleting\n",
      "GL456359.1\n",
      "/projects/ps-yeolab3/ekofman/sailor2/scripts/check_against_pileup_all_cells_outs/edit_info/GL456359.1_edit_info.tsv exists... deleting\n",
      "GL456396.1\n",
      "/projects/ps-yeolab3/ekofman/sailor2/scripts/check_against_pileup_all_cells_outs/edit_info/GL456396.1_edit_info.tsv exists... deleting\n",
      "GL456368.1\n",
      "/projects/ps-yeolab3/ekofman/sailor2/scripts/check_against_pileup_all_cells_outs/edit_info/GL456368.1_edit_info.tsv exists... deleting\n",
      "JH584292.1\n",
      "/projects/ps-yeolab3/ekofman/sailor2/scripts/check_against_pileup_all_cells_outs/edit_info/JH584292.1_edit_info.tsv exists... deleting\n",
      "JH584295.1\n",
      "/projects/ps-yeolab3/ekofman/sailor2/scripts/check_against_pileup_all_cells_outs/edit_info/JH584295.1_edit_info.tsv exists... deleting\n",
      "JH584295.1 [Errno 2] could not open alignment file `/projects/ps-yeolab3/ekofman/sailor2/scripts/check_against_pileup_all_cells_outs/split_bams/contig_JH584295.1/AAAGGATGTTTCGGCG-1.bam`: No such file or directory\n",
      "Stamp\n",
      "/projects/ps-yeolab3/ekofman/sailor2/scripts/check_against_pileup_all_cells_outs/edit_info/Stamp_edit_info.tsv exists... deleting\n",
      "Stamp \"tag 'MD' not present\"\n"
     ]
    }
   ],
   "source": [
    "from collections import defaultdict\n",
    "import time\n",
    "import pandas as pd\n",
    "from matplotlib import pyplot as plt\n",
    "import numpy as np\n",
    "#%load_ext memory_profiler\n",
    "\n",
    "\n",
    "output_folder = '/projects/ps-yeolab3/ekofman/sailor2/scripts/check_against_pileup_all_cells_outs'\n",
    "\n",
    "MAX_NUM_READS = 1000000\n",
    "\n",
    "# TOLERANCES/THRESHOLD FOR FILTERING\n",
    "edit_type_of_interest = 'C>T'\n",
    "\n",
    "dist_from_end_tolerance = 5\n",
    "base_quality_threshold = 37\n",
    "mapping_quality_threshold = 255\n",
    "\n",
    "# DICTIONARIES TO FILL WITH EDIT INFORMATION\n",
    "barcode_to_position_to_alts = defaultdict(lambda:defaultdict(lambda:defaultdict(lambda:defaultdict(lambda:defaultdict())))) \n",
    "\n",
    "\n",
    "contig_lengths_dict = get_contig_lengths_dict(samfile)\n",
    "\n",
    "# THE HEAVY LIFTING\n",
    "counts = defaultdict(lambda:defaultdict(lambda:0))\n",
    "coverage_dict = {}\n",
    "num_edits_per_read = {}\n",
    "mapping_quality_per_read = {}\n",
    "\n",
    "# Print info?\n",
    "verbose = False \n",
    "    \n",
    "EDITED_CODE = 'edited'\n",
    "deletions = []\n",
    "\n",
    "contigs = []\n",
    "\n",
    "\n",
    "import time\n",
    "start_time = time.perf_counter()\n",
    "\n",
    "\n",
    "num_reads_to_coverage_dict_kb = {}\n",
    "num_reads_to_seconds = {}\n",
    "\n",
    "\n",
    "\n",
    "barcodes = defaultdict(lambda:defaultdict(lambda:[]))\n",
    "bam_handles_for_barcodes = {}\n",
    "\n",
    "total_reads = 0\n",
    "for contig in contig_lengths_dict.keys():\n",
    "    print(contig)\n",
    "    try:\n",
    "        contig_length = contig_lengths_dict.get(contig)\n",
    "        reads_for_contig = samfile.fetch(contig, 0, contig_length)\n",
    "\n",
    "        edit_info_subfolder = '{}/edit_info'.format(output_folder)\n",
    "        if not os.path.exists(edit_info_subfolder):\n",
    "            os.mkdir(edit_info_subfolder)\n",
    "            \n",
    "        output_file = '{}/{}_edit_info.tsv'.format(edit_info_subfolder, contig)\n",
    "        if os.path.exists(output_file):\n",
    "            print(\"{} exists... deleting\".format(output_file))\n",
    "            os.remove(output_file)\n",
    "            \n",
    "            \n",
    "        with open(output_file, 'w') as f:        \n",
    "            f.write('barcode\\tcontig\\tposition\\tref\\talt\\tread_id\\tstrand\\tdist_from_end\\tbase_quality\\n')                       \n",
    "            for i, read in enumerate(reads_for_contig):\n",
    "                total_reads += 1\n",
    "                if total_reads % 10000 == 0:\n",
    "                    num_reads_to_coverage_dict_kb[total_reads] = getsizeof(coverage_dict)/1000\n",
    "                    num_reads_to_seconds[total_reads] = time.perf_counter() - start_time\n",
    "                    if total_reads % 100000 == 0:\n",
    "                        print(\"\\tTotal reads: {}\".format(total_reads))\n",
    "                        \n",
    "                barcode = read.get_tag(\"CB\")\n",
    "                \n",
    "                barcodes[contig][barcode].append(read)\n",
    "\n",
    "                error_code, list_of_rows, num_edits_of_each_type = add_read_information_to_barcode_dict(read, contig, verbose=verbose)\n",
    "\n",
    "                if error_code:\n",
    "                    counts[contig][error_code] += 1\n",
    "                else:\n",
    "                    counts[contig][EDITED_CODE] += 1\n",
    "                    for info_list in list_of_rows:\n",
    "                        info_line = '\\t'.join(info_list) + '\\n'\n",
    "                        f.write(info_line)\n",
    "                        \n",
    "                # WRITE READ TO BAM FILE SPECIFIC TO THAT BARCODE AND THAT CONTIG\n",
    "                barcode_bam_file_path = \"{}/split_bams/contig_{}/{}.bam\".format(output_folder, contig, barcode)\n",
    "                bam_for_barcode = bam_handles_for_barcodes.get(barcode_bam_file_path)\n",
    "                if not bam_for_barcode:\n",
    "                    bam_for_barcode = pysam.AlignmentFile(barcode_bam_file_path, \"wb\", template=samfile)\n",
    "                    bam_handles_for_barcodes[barcode_bam_file_path] = bam_for_barcode\n",
    "                bam_for_barcode.write(read)\n",
    "                \n",
    "                # BREAK OUT EARLY ONCE WE HIT NUMBER OF READS\n",
    "                if counts[contig][error_code] + counts[contig][EDITED_CODE]> MAX_NUM_READS:\n",
    "                    print(\"We maxed out past {}\".format(MAX_NUM_READS))\n",
    "                    break\n",
    "                \n",
    "        \n",
    "        contigs.append(contig)\n",
    "        \n",
    "        \n",
    "        \n",
    "\n",
    "    except Exception as e:\n",
    "        print(contig, e)\n",
    "        \n",
    "    # Index all subset bams\n",
    "    for barcode_bam_file_path, bam_file_handle in bam_handles_for_barcodes.items():\n",
    "        bam_file_handle.close()\n",
    "        if not os.path.exists('{}.bai'.format(barcode_bam_file_path)):\n",
    "            pysam.index(barcode_bam_file_path)\n",
    "\n",
    "    \n",
    "    "
   ]
  },
  {
   "cell_type": "markdown",
   "id": "e77b5c80-4bc8-4f5f-be9e-509a9d161e62",
   "metadata": {},
   "source": [
    "# Time profiling "
   ]
  },
  {
   "cell_type": "markdown",
   "id": "54940055-8087-4b7d-8895-d5814c69b886",
   "metadata": {},
   "source": [
    "#### Identifying edits, as well as splitting reads by barcode into separate bams, is O(reads) in terms of time"
   ]
  },
  {
   "cell_type": "code",
   "execution_count": 305,
   "id": "d030c8af-2df5-4db5-9b72-4a4f870c7692",
   "metadata": {},
   "outputs": [
    {
     "data": {
      "text/plain": [
       "Text(0.5, 1.0, 'Time vs. number of reads')"
      ]
     },
     "execution_count": 305,
     "metadata": {},
     "output_type": "execute_result"
    },
    {
     "data": {
      "image/png": "[encoded data removed]",
      "text/plain": [
       "<Figure size 432x288 with 1 Axes>"
      ]
     },
     "metadata": {
      "needs_background": "light"
     },
     "output_type": "display_data"
    }
   ],
   "source": [
    "\n",
    "pd.DataFrame.from_dict(num_reads_to_seconds, orient='index').plot()\n",
    "plt.ylabel(\"Seconds\")\n",
    "plt.xlabel(\"Number of reads processed\")\n",
    "plt.title(\"Time vs. number of reads\")"
   ]
  },
  {
   "cell_type": "code",
   "execution_count": 306,
   "id": "f76b2337-3172-4383-a63f-eedfea506871",
   "metadata": {},
   "outputs": [],
   "source": [
    "rates = []\n",
    "for reads, secs in zip(list(num_reads_to_seconds.keys()), list(num_reads_to_seconds.values())):\n",
    "    rate = reads/secs\n",
    "    rates.append(rate)"
   ]
  },
  {
   "cell_type": "code",
   "execution_count": 336,
   "id": "22692d03-d308-44b2-8dd3-ed39c20b6166",
   "metadata": {},
   "outputs": [
    {
     "name": "stdout",
     "output_type": "stream",
     "text": [
      "Average of 6399.2934672265155 reads/second\n"
     ]
    },
    {
     "data": {
      "image/png": "[encoded data removed]",
      "text/plain": [
       "<Figure size 432x288 with 1 Axes>"
      ]
     },
     "metadata": {
      "needs_background": "light"
     },
     "output_type": "display_data"
    }
   ],
   "source": [
    "plt.plot(range(len(rates)), rates)\n",
    "plt.title(\"Mean rate (reads per second)\")\n",
    "plt.ylabel(\"Reads/Second\")\n",
    "plt.xlabel(\"Number of reads (e10^6)\")\n",
    "\n",
    "average_rate = np.mean(rates)\n",
    "plt.axhline(average_rate, color='r')\n",
    "print(\"Average of {} reads/second\".format(average_rate))"
   ]
  },
  {
   "cell_type": "code",
   "execution_count": 338,
   "id": "44894b19-e631-46ac-ad91-f9dbac3d91fb",
   "metadata": {},
   "outputs": [],
   "source": [
    "seconds_per_read = 1/average_rate"
   ]
  },
  {
   "cell_type": "code",
   "execution_count": 340,
   "id": "e1b63b6e-332b-4551-94cc-384baf8de38f",
   "metadata": {},
   "outputs": [],
   "source": [
    "seconds_per_cell = seconds_per_read*50000"
   ]
  },
  {
   "cell_type": "code",
   "execution_count": 350,
   "id": "0c5d2dae-09bd-4b09-acf2-6255e4ea282a",
   "metadata": {},
   "outputs": [],
   "source": [
    "minutes_per_cell = seconds_per_cell/60"
   ]
  },
  {
   "cell_type": "code",
   "execution_count": 347,
   "id": "82d0c4d3-f985-4275-8a78-1a176188eae0",
   "metadata": {},
   "outputs": [
    {
     "name": "stdout",
     "output_type": "stream",
     "text": [
      "800000000\n",
      "Estimated total time in minutes for 800000000 reads: 2084 minutes\n",
      "Estimated total time in hours for 800000000 reads: 35 hours\n",
      "This can be split across contigs, to probably reduce to max 2-3 hours total with multiprocessing\n"
     ]
    }
   ],
   "source": [
    "reads_per_cell = 40000\n",
    "total_cells = 20000\n",
    "total_reads = reads_per_cell * total_cells\n",
    "print(total_reads)\n",
    "\n",
    "total_estimated_time = total_reads * seconds_per_read\n",
    "print('Estimated total time in minutes for {} reads: {} minutes'.format(total_reads, round(total_estimated_time/60), 3))\n",
    "print('Estimated total time in hours for {} reads: {} hours'.format(total_reads, round(total_estimated_time/3600), 3))\n",
    "print(\"This can be split across contigs, to probably reduce to max 2-3 hours total with multiprocessing\")"
   ]
  },
  {
   "cell_type": "markdown",
   "id": "b46034f4-abb4-4207-9c43-27f71c075f02",
   "metadata": {},
   "source": [
    "# Write reads for each barcode for each contig into separate bams"
   ]
  },
  {
   "cell_type": "raw",
   "id": "d37b04ba-95e7-45c7-8954-9b95724bae46",
   "metadata": {
    "tags": []
   },
   "source": [
    "import shutil\n",
    "\n",
    "num_barcodes = 0\n",
    "for contig, reads_for_barcode_in_contig in barcodes.items():\n",
    "    for barcode, reads_for_barcode in reads_for_barcode_in_contig.items():\n",
    "        num_barcodes += 1\n",
    "        if num_barcodes % 100 == 0:\n",
    "            print(\"Barcode {} (#{})\".format(barcode, num_barcodes))\n",
    "        barcode_bam_file_name = \"{}.bam\".format(barcode)\n",
    "\n",
    "        bam_for_barcode = pysam.AlignmentFile(barcode_bam_file_name, \"wb\", template=samfile)\n",
    "        for read in reads_for_barcode:\n",
    "            bam_for_barcode.write(read)\n",
    "        bam_for_barcode.close()\n",
    "        \n",
    "        split_bams_subfolder = '{}/split_bams/'.format(output_folder)\n",
    "        if not os.path.exists(split_bams_subfolder):\n",
    "            os.mkdir(split_bams_subfolder)\n",
    "            \n",
    "        folder_name = '{}/contig_{}'.format(split_bams_subfolder, contig)\n",
    "        if not os.path.exists(folder_name):\n",
    "            os.mkdir(folder_name)\n",
    "        \n",
    "        new_bam_location = '{}/{}'.format(folder_name, barcode_bam_file_name)\n",
    "        shutil.move(barcode_bam_file_name, new_bam_location)\n",
    "        \n",
    "        if not os.path.exists('{}.bai'.format(new_bam_location)):\n",
    "            print('indexing')\n",
    "            pysam.index(new_bam_location)\n"
   ]
  },
  {
   "cell_type": "markdown",
   "id": "b9e49151-ba3c-40a4-9290-3d8360753d96",
   "metadata": {},
   "source": [
    "# Second loop to get coverage at sites with edits"
   ]
  },
  {
   "cell_type": "code",
   "execution_count": 310,
   "id": "c5aa1ff3-69e7-4a5c-8cee-d6af8008eec0",
   "metadata": {
    "scrolled": true,
    "tags": []
   },
   "outputs": [
    {
     "name": "stdout",
     "output_type": "stream",
     "text": [
      "1\n",
      "0/875\n"
     ]
    },
    {
     "name": "stderr",
     "output_type": "stream",
     "text": [
      "/home/ekofman/new_anaconda3/lib/python3.7/site-packages/ipykernel_launcher.py:36: SettingWithCopyWarning: \n",
      "A value is trying to be set on a copy of a slice from a DataFrame.\n",
      "Try using .loc[row_indexer,col_indexer] = value instead\n",
      "\n",
      "See the caveats in the documentation: https://pandas.pydata.org/pandas-docs/stable/user_guide/indexing.html#returning-a-view-versus-a-copy\n"
     ]
    },
    {
     "name": "stdout",
     "output_type": "stream",
     "text": [
      "100/875\n",
      "200/875\n",
      "300/875\n",
      "400/875\n",
      "500/875\n",
      "600/875\n",
      "700/875\n",
      "800/875\n",
      "10\n",
      "0/875\n",
      "100/875\n",
      "200/875\n",
      "300/875\n",
      "400/875\n",
      "500/875\n",
      "600/875\n",
      "700/875\n",
      "800/875\n",
      "11\n",
      "0/875\n",
      "100/875\n",
      "200/875\n",
      "300/875\n",
      "400/875\n",
      "500/875\n",
      "600/875\n",
      "700/875\n",
      "800/875\n",
      "12\n",
      "0/875\n",
      "100/875\n",
      "200/875\n",
      "300/875\n",
      "400/875\n",
      "500/875\n",
      "600/875\n",
      "700/875\n",
      "800/875\n",
      "13\n",
      "0/875\n",
      "100/875\n",
      "200/875\n",
      "300/875\n",
      "400/875\n",
      "500/875\n",
      "600/875\n",
      "700/875\n",
      "800/875\n",
      "14\n",
      "0/874\n",
      "100/874\n",
      "200/874\n",
      "300/874\n",
      "400/874\n",
      "500/874\n",
      "600/874\n",
      "700/874\n",
      "800/874\n",
      "15\n",
      "0/875\n",
      "100/875\n",
      "200/875\n",
      "300/875\n",
      "400/875\n",
      "500/875\n",
      "600/875\n",
      "700/875\n",
      "800/875\n",
      "16\n",
      "0/875\n",
      "100/875\n",
      "200/875\n",
      "300/875\n",
      "400/875\n",
      "500/875\n",
      "600/875\n",
      "700/875\n",
      "800/875\n",
      "17\n",
      "0/875\n",
      "100/875\n",
      "200/875\n",
      "300/875\n",
      "400/875\n",
      "500/875\n",
      "600/875\n",
      "700/875\n",
      "800/875\n",
      "18\n",
      "0/869\n",
      "100/869\n",
      "200/869\n",
      "300/869\n",
      "400/869\n",
      "500/869\n",
      "600/869\n",
      "700/869\n",
      "800/869\n",
      "19\n",
      "0/875\n",
      "100/875\n",
      "200/875\n",
      "300/875\n",
      "400/875\n",
      "500/875\n",
      "600/875\n",
      "700/875\n",
      "800/875\n",
      "2\n",
      "0/875\n",
      "100/875\n",
      "200/875\n",
      "300/875\n",
      "400/875\n",
      "500/875\n",
      "600/875\n",
      "700/875\n",
      "800/875\n",
      "3\n",
      "0/874\n",
      "100/874\n",
      "200/874\n",
      "300/874\n",
      "400/874\n",
      "500/874\n",
      "600/874\n",
      "700/874\n",
      "800/874\n",
      "4\n",
      "0/875\n",
      "100/875\n",
      "200/875\n",
      "300/875\n",
      "400/875\n",
      "500/875\n",
      "600/875\n",
      "700/875\n",
      "800/875\n",
      "5\n",
      "0/875\n",
      "100/875\n",
      "200/875\n",
      "300/875\n",
      "400/875\n",
      "500/875\n",
      "600/875\n",
      "700/875\n",
      "800/875\n",
      "6\n",
      "0/874\n",
      "100/874\n",
      "200/874\n",
      "300/874\n",
      "400/874\n",
      "500/874\n",
      "600/874\n",
      "700/874\n",
      "800/874\n",
      "7\n",
      "0/875\n",
      "100/875\n",
      "200/875\n",
      "300/875\n",
      "400/875\n",
      "500/875\n",
      "600/875\n",
      "700/875\n",
      "800/875\n",
      "8\n",
      "0/875\n",
      "100/875\n",
      "200/875\n",
      "300/875\n",
      "400/875\n",
      "500/875\n",
      "600/875\n",
      "700/875\n",
      "800/875\n",
      "9\n",
      "0/875\n",
      "100/875\n",
      "200/875\n",
      "300/875\n",
      "400/875\n",
      "500/875\n",
      "600/875\n",
      "700/875\n",
      "800/875\n",
      "MT\n",
      "0/869\n",
      "100/869\n",
      "200/869\n",
      "300/869\n",
      "400/869\n",
      "500/869\n",
      "600/869\n",
      "700/869\n",
      "800/869\n",
      "X\n",
      "0/875\n",
      "100/875\n",
      "200/875\n",
      "300/875\n",
      "400/875\n",
      "500/875\n",
      "600/875\n",
      "700/875\n",
      "800/875\n",
      "Y\n",
      "0/314\n",
      "100/314\n",
      "200/314\n",
      "300/314\n",
      "JH584299.1\n",
      "GL456233.1\n",
      "0/53\n",
      "JH584301.1\n",
      "GL456211.1\n",
      "GL456350.1\n",
      "JH584293.1\n",
      "GL456221.1\n",
      "JH584297.1\n",
      "JH584296.1\n",
      "GL456354.1\n",
      "JH584294.1\n",
      "JH584298.1\n",
      "JH584300.1\n",
      "GL456219.1\n",
      "GL456210.1\n",
      "JH584303.1\n",
      "JH584302.1\n",
      "GL456212.1\n",
      "0/1\n",
      "[Errno 2] could not open alignment file `/projects/ps-yeolab3/ekofman/sailor2/scripts/check_against_pileup_all_cells_outs/split_bams/contig_GL456212.1/AACAAGAGTAGAATGT-1.bam`: No such file or directory\n",
      "JH584304.1\n",
      "GL456379.1\n",
      "GL456216.1\n",
      "0/1\n",
      "[Errno 2] could not open alignment file `/projects/ps-yeolab3/ekofman/sailor2/scripts/check_against_pileup_all_cells_outs/split_bams/contig_GL456216.1/AACCACAAGCTTTGTG-1.bam`: No such file or directory\n",
      "GL456393.1\n",
      "GL456366.1\n",
      "GL456367.1\n",
      "GL456239.1\n",
      "GL456213.1\n",
      "GL456383.1\n",
      "GL456385.1\n",
      "GL456360.1\n",
      "GL456378.1\n",
      "GL456389.1\n",
      "GL456372.1\n",
      "GL456370.1\n",
      "GL456381.1\n",
      "GL456387.1\n",
      "GL456390.1\n",
      "GL456394.1\n",
      "GL456392.1\n",
      "GL456382.1\n",
      "GL456359.1\n",
      "GL456396.1\n",
      "GL456368.1\n",
      "JH584292.1\n",
      "JH584295.1\n",
      "Stamp\n"
     ]
    }
   ],
   "source": [
    "all_edit_info_for_barcodes = []\n",
    "\n",
    "for contig in contig_lengths_dict.keys():\n",
    "    print(contig)\n",
    "    reads_skipped = 0\n",
    "    \n",
    "    barcode_to_coverage_dict = defaultdict()\n",
    "    \n",
    "    \n",
    "    contig_length = contig_lengths_dict.get(contig)\n",
    "    \n",
    "    barcode_to_coverage_dict = defaultdict()\n",
    "    output_file = '{}/edit_info/{}_edit_info.tsv'.format(output_folder, contig)\n",
    "    edit_info = pd.read_csv(output_file, sep='\\t')\n",
    "    \n",
    "    unique_barcodes = sorted(edit_info.barcode.unique())\n",
    "    \n",
    "\n",
    "    for i, barcode in enumerate(unique_barcodes):\n",
    "        if i % 100 == 0:\n",
    "            print('{}/{}'.format(i, len(unique_barcodes)))\n",
    "    \n",
    "        barcode_bam = '{}/split_bams/contig_{}/{}.bam'.format(output_folder, contig, barcode)\n",
    "    \n",
    "        try:\n",
    "            samfile_for_barcode = pysam.AlignmentFile(barcode_bam, \"rb\")\n",
    "\n",
    "            edit_info_for_barcode = edit_info[edit_info.barcode == barcode]\n",
    "            positions_for_barcode = edit_info_for_barcode.position.tolist()\n",
    "\n",
    "            coverage = []\n",
    "            for pos in positions_for_barcode:\n",
    "                coverage_at_pos = np.sum(samfile_for_barcode.count_coverage(contig, pos-1, pos))\n",
    "                coverage.append(coverage_at_pos)\n",
    "\n",
    "            edit_info_for_barcode['coverage'] = coverage\n",
    "            all_edit_info_for_barcodes.append(edit_info_for_barcode)\n",
    "        except Exception as e:\n",
    "            print(e)\n",
    "\n",
    "\n",
    "    \n"
   ]
  },
  {
   "cell_type": "code",
   "execution_count": 311,
   "id": "f7caa846-b0c5-4783-b7b7-984d8f8658ae",
   "metadata": {},
   "outputs": [],
   "source": [
    "all_edit_info = pd.concat(all_edit_info_for_barcodes)"
   ]
  },
  {
   "cell_type": "code",
   "execution_count": 312,
   "id": "0ba38634-6213-4556-8d16-8269e815142d",
   "metadata": {},
   "outputs": [],
   "source": [
    "all_edit_info['contig'] = all_edit_info.contig.astype(str)"
   ]
  },
  {
   "cell_type": "code",
   "execution_count": 354,
   "id": "803f5b24-4714-4309-a08b-9b9445218c64",
   "metadata": {},
   "outputs": [
    {
     "data": {
      "image/png": "[encoded data removed]",
      "text/plain": [
       "<Figure size 432x288 with 1 Axes>"
      ]
     },
     "metadata": {
      "needs_background": "light"
     },
     "output_type": "display_data"
    },
    {
     "data": {
      "image/png": "[encoded data removed]",
      "text/plain": [
       "<Figure size 432x288 with 1 Axes>"
      ]
     },
     "metadata": {
      "needs_background": "light"
     },
     "output_type": "display_data"
    }
   ],
   "source": [
    "all_edit_info.groupby(['ref', 'alt']).count().plot(kind='barh', legend=False)\n",
    "plt.title(\"All edits\")\n",
    "\n",
    "base_quality_thresh = 15\n",
    "all_edit_info[all_edit_info.base_quality > base_quality_thresh].groupby(['ref', 'alt']).count().plot(kind='barh', legend=False)\n",
    "plt.title(\"Edits with base quality > {}\".format(base_quality_thresh))\n",
    "\n",
    "all_edit_info_filtered = all_edit_info[all_edit_info.base_quality > base_quality_thresh]\n"
   ]
  },
  {
   "cell_type": "code",
   "execution_count": 314,
   "id": "7a97fbec-9329-4c9c-8c9b-a785a8ae376c",
   "metadata": {},
   "outputs": [],
   "source": [
    "example_new_ct =  all_edit_info_filtered[(all_edit_info_filtered.ref == 'C') & (all_edit_info_filtered.alt == 'T')].sort_values('position')"
   ]
  },
  {
   "cell_type": "code",
   "execution_count": 315,
   "id": "e9b3fdc3-7fab-448f-a9e9-52cbab695e2b",
   "metadata": {},
   "outputs": [
    {
     "data": {
      "text/plain": [
       "261280"
      ]
     },
     "execution_count": 315,
     "metadata": {},
     "output_type": "execute_result"
    }
   ],
   "source": [
    "len(example_new_ct)"
   ]
  },
  {
   "cell_type": "code",
   "execution_count": 316,
   "id": "7be865e2-f294-4152-ae0b-85d24509a1d5",
   "metadata": {},
   "outputs": [
    {
     "data": {
      "text/html": [
       "<div>\n",
       "<style scoped>\n",
       "    .dataframe tbody tr th:only-of-type {\n",
       "        vertical-align: middle;\n",
       "    }\n",
       "\n",
       "    .dataframe tbody tr th {\n",
       "        vertical-align: top;\n",
       "    }\n",
       "\n",
       "    .dataframe thead th {\n",
       "        text-align: right;\n",
       "    }\n",
       "</style>\n",
       "<table border=\"1\" class=\"dataframe\">\n",
       "  <thead>\n",
       "    <tr style=\"text-align: right;\">\n",
       "      <th></th>\n",
       "      <th>barcode</th>\n",
       "      <th>contig</th>\n",
       "      <th>position</th>\n",
       "      <th>ref</th>\n",
       "      <th>alt</th>\n",
       "      <th>read_id</th>\n",
       "      <th>strand</th>\n",
       "      <th>dist_from_end</th>\n",
       "      <th>base_quality</th>\n",
       "      <th>coverage</th>\n",
       "    </tr>\n",
       "  </thead>\n",
       "  <tbody>\n",
       "    <tr>\n",
       "      <th>61</th>\n",
       "      <td>AACAACCAGTAATACG-1</td>\n",
       "      <td>MT</td>\n",
       "      <td>2767</td>\n",
       "      <td>C</td>\n",
       "      <td>T</td>\n",
       "      <td>A01535:287:H3JJHDSX7:2:1273:15157:16094</td>\n",
       "      <td>+</td>\n",
       "      <td>17</td>\n",
       "      <td>37</td>\n",
       "      <td>8</td>\n",
       "    </tr>\n",
       "    <tr>\n",
       "      <th>8</th>\n",
       "      <td>AAACCCACACCGTGGT-1</td>\n",
       "      <td>MT</td>\n",
       "      <td>2794</td>\n",
       "      <td>C</td>\n",
       "      <td>T</td>\n",
       "      <td>A01535:287:H3JJHDSX7:1:2352:3640:34287</td>\n",
       "      <td>+</td>\n",
       "      <td>27</td>\n",
       "      <td>37</td>\n",
       "      <td>10</td>\n",
       "    </tr>\n",
       "    <tr>\n",
       "      <th>74</th>\n",
       "      <td>AACAAGACATTCGATG-1</td>\n",
       "      <td>MT</td>\n",
       "      <td>2802</td>\n",
       "      <td>C</td>\n",
       "      <td>T</td>\n",
       "      <td>A01535:287:H3JJHDSX7:1:2268:5791:28808</td>\n",
       "      <td>+</td>\n",
       "      <td>19</td>\n",
       "      <td>37</td>\n",
       "      <td>3</td>\n",
       "    </tr>\n",
       "    <tr>\n",
       "      <th>127</th>\n",
       "      <td>AAACGAACAGAACTTC-1</td>\n",
       "      <td>MT</td>\n",
       "      <td>2904</td>\n",
       "      <td>C</td>\n",
       "      <td>T</td>\n",
       "      <td>A01535:287:H3JJHDSX7:2:2424:26250:24502</td>\n",
       "      <td>+</td>\n",
       "      <td>8</td>\n",
       "      <td>37</td>\n",
       "      <td>1</td>\n",
       "    </tr>\n",
       "    <tr>\n",
       "      <th>148</th>\n",
       "      <td>AAAGTCCAGTCGGCCT-1</td>\n",
       "      <td>MT</td>\n",
       "      <td>2927</td>\n",
       "      <td>C</td>\n",
       "      <td>T</td>\n",
       "      <td>A01535:287:H3JJHDSX7:1:1151:26449:4492</td>\n",
       "      <td>+</td>\n",
       "      <td>49</td>\n",
       "      <td>37</td>\n",
       "      <td>1</td>\n",
       "    </tr>\n",
       "    <tr>\n",
       "      <th>...</th>\n",
       "      <td>...</td>\n",
       "      <td>...</td>\n",
       "      <td>...</td>\n",
       "      <td>...</td>\n",
       "      <td>...</td>\n",
       "      <td>...</td>\n",
       "      <td>...</td>\n",
       "      <td>...</td>\n",
       "      <td>...</td>\n",
       "      <td>...</td>\n",
       "    </tr>\n",
       "    <tr>\n",
       "      <th>94213</th>\n",
       "      <td>AAACCCACAAAGACGC-1</td>\n",
       "      <td>1</td>\n",
       "      <td>194961071</td>\n",
       "      <td>C</td>\n",
       "      <td>T</td>\n",
       "      <td>A01535:287:H3JJHDSX7:1:2106:16486:14356</td>\n",
       "      <td>+</td>\n",
       "      <td>3</td>\n",
       "      <td>37</td>\n",
       "      <td>5</td>\n",
       "    </tr>\n",
       "    <tr>\n",
       "      <th>94217</th>\n",
       "      <td>AACACACGTTTGTTCT-1</td>\n",
       "      <td>1</td>\n",
       "      <td>194961117</td>\n",
       "      <td>C</td>\n",
       "      <td>T</td>\n",
       "      <td>A01535:287:H3JJHDSX7:1:1278:24008:19742</td>\n",
       "      <td>+</td>\n",
       "      <td>28</td>\n",
       "      <td>37</td>\n",
       "      <td>1</td>\n",
       "    </tr>\n",
       "    <tr>\n",
       "      <th>94272</th>\n",
       "      <td>AAAGGATCATGAAGCG-1</td>\n",
       "      <td>1</td>\n",
       "      <td>195036921</td>\n",
       "      <td>C</td>\n",
       "      <td>T</td>\n",
       "      <td>A01535:287:H3JJHDSX7:1:2307:26910:7639</td>\n",
       "      <td>-</td>\n",
       "      <td>30</td>\n",
       "      <td>37</td>\n",
       "      <td>1</td>\n",
       "    </tr>\n",
       "    <tr>\n",
       "      <th>94279</th>\n",
       "      <td>AAAGGGCCACCAGTTA-1</td>\n",
       "      <td>1</td>\n",
       "      <td>195047095</td>\n",
       "      <td>C</td>\n",
       "      <td>T</td>\n",
       "      <td>A01535:287:H3JJHDSX7:1:2602:27670:19820</td>\n",
       "      <td>-</td>\n",
       "      <td>39</td>\n",
       "      <td>37</td>\n",
       "      <td>1</td>\n",
       "    </tr>\n",
       "    <tr>\n",
       "      <th>94346</th>\n",
       "      <td>AACAAAGCACGCAGTC-1</td>\n",
       "      <td>1</td>\n",
       "      <td>195114892</td>\n",
       "      <td>C</td>\n",
       "      <td>T</td>\n",
       "      <td>A01535:287:H3JJHDSX7:2:1266:20392:36432</td>\n",
       "      <td>-</td>\n",
       "      <td>79</td>\n",
       "      <td>37</td>\n",
       "      <td>0</td>\n",
       "    </tr>\n",
       "  </tbody>\n",
       "</table>\n",
       "<p>261280 rows × 10 columns</p>\n",
       "</div>"
      ],
      "text/plain": [
       "                  barcode contig   position ref alt  \\\n",
       "61     AACAACCAGTAATACG-1     MT       2767   C   T   \n",
       "8      AAACCCACACCGTGGT-1     MT       2794   C   T   \n",
       "74     AACAAGACATTCGATG-1     MT       2802   C   T   \n",
       "127    AAACGAACAGAACTTC-1     MT       2904   C   T   \n",
       "148    AAAGTCCAGTCGGCCT-1     MT       2927   C   T   \n",
       "...                   ...    ...        ...  ..  ..   \n",
       "94213  AAACCCACAAAGACGC-1      1  194961071   C   T   \n",
       "94217  AACACACGTTTGTTCT-1      1  194961117   C   T   \n",
       "94272  AAAGGATCATGAAGCG-1      1  195036921   C   T   \n",
       "94279  AAAGGGCCACCAGTTA-1      1  195047095   C   T   \n",
       "94346  AACAAAGCACGCAGTC-1      1  195114892   C   T   \n",
       "\n",
       "                                       read_id strand  dist_from_end  \\\n",
       "61     A01535:287:H3JJHDSX7:2:1273:15157:16094      +             17   \n",
       "8       A01535:287:H3JJHDSX7:1:2352:3640:34287      +             27   \n",
       "74      A01535:287:H3JJHDSX7:1:2268:5791:28808      +             19   \n",
       "127    A01535:287:H3JJHDSX7:2:2424:26250:24502      +              8   \n",
       "148     A01535:287:H3JJHDSX7:1:1151:26449:4492      +             49   \n",
       "...                                        ...    ...            ...   \n",
       "94213  A01535:287:H3JJHDSX7:1:2106:16486:14356      +              3   \n",
       "94217  A01535:287:H3JJHDSX7:1:1278:24008:19742      +             28   \n",
       "94272   A01535:287:H3JJHDSX7:1:2307:26910:7639      -             30   \n",
       "94279  A01535:287:H3JJHDSX7:1:2602:27670:19820      -             39   \n",
       "94346  A01535:287:H3JJHDSX7:2:1266:20392:36432      -             79   \n",
       "\n",
       "       base_quality  coverage  \n",
       "61               37         8  \n",
       "8                37        10  \n",
       "74               37         3  \n",
       "127              37         1  \n",
       "148              37         1  \n",
       "...             ...       ...  \n",
       "94213            37         5  \n",
       "94217            37         1  \n",
       "94272            37         1  \n",
       "94279            37         1  \n",
       "94346            37         0  \n",
       "\n",
       "[261280 rows x 10 columns]"
      ]
     },
     "execution_count": 316,
     "metadata": {},
     "output_type": "execute_result"
    }
   ],
   "source": [
    "example_new_ct"
   ]
  },
  {
   "cell_type": "markdown",
   "id": "5dc30c7f-73aa-4be6-83a7-ff2a2072d602",
   "metadata": {},
   "source": [
    "# Cells that do have STAMP expressed versus don't...?"
   ]
  },
  {
   "cell_type": "code",
   "execution_count": 317,
   "id": "bc7ee3ff-374f-4a6e-8ab7-0b1e1311c07d",
   "metadata": {},
   "outputs": [],
   "source": [
    "stamp_expression_path = \\\n",
    "'/projects/ps-yeolab3/ekofman/Sammi/MouseBrainEF1A_SingleCell_EPR_combined/\\\n",
    "4.1_cells_with_middling_stamp/stamp_expression_for_all_used_cells.tsv'"
   ]
  },
  {
   "cell_type": "code",
   "execution_count": 318,
   "id": "f2684ed2-1146-4e4c-9b4d-186865d6e4aa",
   "metadata": {},
   "outputs": [],
   "source": [
    "stamp_expression_df = pd.read_csv(stamp_expression_path, sep='\\t', index_col=0)"
   ]
  },
  {
   "cell_type": "code",
   "execution_count": 319,
   "id": "093153f4-7d3a-4a04-bf6d-ee855e23a02f",
   "metadata": {},
   "outputs": [
    {
     "data": {
      "text/plain": [
       "<AxesSubplot:>"
      ]
     },
     "execution_count": 319,
     "metadata": {},
     "output_type": "execute_result"
    },
    {
     "data": {
      "image/png": "[encoded data removed]",
      "text/plain": [
       "<Figure size 432x288 with 1 Axes>"
      ]
     },
     "metadata": {
      "needs_background": "light"
     },
     "output_type": "display_data"
    }
   ],
   "source": [
    "stamp_expression_df.Stamp.hist(bins=50)"
   ]
  },
  {
   "cell_type": "code",
   "execution_count": 334,
   "id": "26edccde-cad7-48fe-ab64-20d91bcf8844",
   "metadata": {},
   "outputs": [
    {
     "name": "stdout",
     "output_type": "stream",
     "text": [
      "0\n",
      "1\n",
      "2\n",
      "3\n",
      "4\n",
      "5\n",
      "6\n"
     ]
    },
    {
     "data": {
      "image/png": "[encoded data removed]",
      "text/plain": [
       "<Figure size 432x288 with 1 Axes>"
      ]
     },
     "metadata": {
      "needs_background": "light"
     },
     "output_type": "display_data"
    },
    {
     "data": {
      "image/png": "[encoded data removed]",
      "text/plain": [
       "<Figure size 432x288 with 1 Axes>"
      ]
     },
     "metadata": {
      "needs_background": "light"
     },
     "output_type": "display_data"
    },
    {
     "data": {
      "image/png": "[encoded data removed]",
      "text/plain": [
       "<Figure size 432x288 with 1 Axes>"
      ]
     },
     "metadata": {
      "needs_background": "light"
     },
     "output_type": "display_data"
    },
    {
     "data": {
      "image/png": "[encoded data removed]",
      "text/plain": [
       "<Figure size 432x288 with 1 Axes>"
      ]
     },
     "metadata": {
      "needs_background": "light"
     },
     "output_type": "display_data"
    },
    {
     "data": {
      "image/png": "[encoded data removed]",
      "text/plain": [
       "<Figure size 432x288 with 1 Axes>"
      ]
     },
     "metadata": {
      "needs_background": "light"
     },
     "output_type": "display_data"
    },
    {
     "data": {
      "image/png": "[encoded data removed]",
      "text/plain": [
       "<Figure size 432x288 with 1 Axes>"
      ]
     },
     "metadata": {
      "needs_background": "light"
     },
     "output_type": "display_data"
    },
    {
     "data": {
      "image/png": "[encoded data removed]",
      "text/plain": [
       "<Figure size 432x288 with 1 Axes>"
      ]
     },
     "metadata": {
      "needs_background": "light"
     },
     "output_type": "display_data"
    }
   ],
   "source": [
    "for thresh in [0, 1, 2, 3, 4, 5, 6]:\n",
    "    print(thresh)\n",
    "    barcodes_at_stamp_thresh = stamp_expression_df[stamp_expression_df.Stamp > thresh].index\n",
    "    \n",
    "    all_edit_info_filtered[\n",
    "        all_edit_info_filtered.barcode.isin(barcodes_at_stamp_thresh)].groupby(['ref', 'alt']).count().plot(kind='barh', legend=False)\n",
    "    plt.title(\"Edit Type Distribution for Cells with STAMP expression above {}\".format(thresh))"
   ]
  },
  {
   "cell_type": "code",
   "execution_count": 335,
   "id": "f8800507-1d95-4bb6-94a8-9c0ec7de29fb",
   "metadata": {},
   "outputs": [
    {
     "name": "stdout",
     "output_type": "stream",
     "text": [
      "1.5\n",
      "2\n",
      "3\n",
      "4\n",
      "5\n",
      "6\n"
     ]
    },
    {
     "data": {
      "image/png": "[encoded data removed]",
      "text/plain": [
       "<Figure size 432x288 with 1 Axes>"
      ]
     },
     "metadata": {
      "needs_background": "light"
     },
     "output_type": "display_data"
    },
    {
     "data": {
      "image/png": "[encoded data removed]",
      "text/plain": [
       "<Figure size 432x288 with 1 Axes>"
      ]
     },
     "metadata": {
      "needs_background": "light"
     },
     "output_type": "display_data"
    },
    {
     "data": {
      "image/png": "[encoded data removed]",
      "text/plain": [
       "<Figure size 432x288 with 1 Axes>"
      ]
     },
     "metadata": {
      "needs_background": "light"
     },
     "output_type": "display_data"
    },
    {
     "data": {
      "image/png": "[encoded data removed]",
      "text/plain": [
       "<Figure size 432x288 with 1 Axes>"
      ]
     },
     "metadata": {
      "needs_background": "light"
     },
     "output_type": "display_data"
    },
    {
     "data": {
      "image/png": "[encoded data removed]",
      "text/plain": [
       "<Figure size 432x288 with 1 Axes>"
      ]
     },
     "metadata": {
      "needs_background": "light"
     },
     "output_type": "display_data"
    },
    {
     "data": {
      "image/png": "[encoded data removed]",
      "text/plain": [
       "<Figure size 432x288 with 1 Axes>"
      ]
     },
     "metadata": {
      "needs_background": "light"
     },
     "output_type": "display_data"
    }
   ],
   "source": [
    "for thresh in [1.5,2, 3, 4, 5, 6]:\n",
    "    print(thresh)\n",
    "    barcodes_at_stamp_thresh = stamp_expression_df[stamp_expression_df.Stamp < thresh].index\n",
    "    \n",
    "    all_edit_info_filtered[\n",
    "        all_edit_info_filtered.barcode.isin(barcodes_at_stamp_thresh)].groupby(['ref', 'alt']).count().plot(kind='barh', legend=False)\n",
    "    plt.title(\"Edit Type Distribution for Cells with STAMP expression below {}\".format(thresh))"
   ]
  },
  {
   "cell_type": "markdown",
   "id": "58910056-39e6-4380-93ee-a4d732706067",
   "metadata": {},
   "source": [
    "# Extract only reads for a barcode"
   ]
  },
  {
   "cell_type": "code",
   "execution_count": 321,
   "id": "3aa54931-9d64-4b1e-9ede-037abae0cb13",
   "metadata": {
    "scrolled": true,
    "tags": []
   },
   "outputs": [],
   "source": [
    "# Get edits for barcode\n",
    "barcode = 'AAACCCAAGATTGCGG'\n",
    "\n",
    "\n",
    "example = pd.read_csv(\n",
    "    '../data/group0_data/filtered_keep_xf25_possorted_genome_with_header.bam_MD.bam_MD-{}-1.bam.combined.readfiltered.formatted.varfiltered.snpfiltered.ranked.bed'.format(barcode),\n",
    "    sep='\\t', names=['contig', 'start', 'end', 'score', 'coverage', 'strand'])\n"
   ]
  },
  {
   "cell_type": "code",
   "execution_count": 322,
   "id": "2f3fc190-b323-40ac-b23d-f7e685f37415",
   "metadata": {
    "scrolled": true,
    "tags": []
   },
   "outputs": [
    {
     "name": "stdout",
     "output_type": "stream",
     "text": [
      "contig 1\n",
      "\tNumber of sites in old version: 11\n",
      "\tNumber of sites recapitulated: 11\n",
      "contig 10\n",
      "\tNumber of sites in old version: 15\n",
      "\tNumber of sites recapitulated: 13\n",
      "contig 11\n",
      "\tNumber of sites in old version: 32\n",
      "\tNumber of sites recapitulated: 31\n",
      "contig 12\n",
      "\tNumber of sites in old version: 21\n",
      "\tNumber of sites recapitulated: 19\n",
      "contig 13\n",
      "\tNumber of sites in old version: 3\n",
      "\tNumber of sites recapitulated: 2\n",
      "contig 14\n",
      "\tNumber of sites in old version: 11\n",
      "\tNumber of sites recapitulated: 11\n",
      "contig 15\n",
      "\tNumber of sites in old version: 19\n",
      "\tNumber of sites recapitulated: 18\n",
      "contig 16\n",
      "\tNumber of sites in old version: 5\n",
      "\tNumber of sites recapitulated: 5\n",
      "contig 17\n",
      "\tNumber of sites in old version: 17\n",
      "\tNumber of sites recapitulated: 15\n",
      "contig 18\n",
      "\tNumber of sites in old version: 1\n",
      "\tNumber of sites recapitulated: 1\n",
      "contig 19\n",
      "\tNumber of sites in old version: 23\n",
      "\tNumber of sites recapitulated: 23\n",
      "contig 2\n",
      "\tNumber of sites in old version: 20\n",
      "\tNumber of sites recapitulated: 20\n",
      "contig 3\n",
      "\tNumber of sites in old version: 9\n",
      "\tNumber of sites recapitulated: 8\n",
      "contig 4\n",
      "\tNumber of sites in old version: 5\n",
      "\tNumber of sites recapitulated: 4\n",
      "contig 5\n",
      "\tNumber of sites in old version: 18\n",
      "\tNumber of sites recapitulated: 16\n",
      "contig 6\n",
      "\tNumber of sites in old version: 13\n",
      "\tNumber of sites recapitulated: 13\n",
      "contig 7\n",
      "\tNumber of sites in old version: 23\n",
      "\tNumber of sites recapitulated: 21\n",
      "contig 8\n",
      "\tNumber of sites in old version: 18\n",
      "\tNumber of sites recapitulated: 17\n",
      "contig 9\n",
      "\tNumber of sites in old version: 16\n",
      "\tNumber of sites recapitulated: 16\n",
      "contig MT\n",
      "\tNumber of sites in old version: 10\n",
      "\tNumber of sites recapitulated: 10\n",
      "contig X\n",
      "\tNumber of sites in old version: 11\n",
      "\tNumber of sites recapitulated: 10\n",
      "contig Y\n",
      "\tNumber of sites in old version: 1\n",
      "\tNumber of sites recapitulated: 1\n",
      "contig JH584299.1\n",
      "\tNumber of sites in old version: 0\n",
      "\tNumber of sites recapitulated: 0\n",
      "contig GL456233.1\n",
      "\tNumber of sites in old version: 0\n",
      "\tNumber of sites recapitulated: 0\n",
      "contig JH584301.1\n",
      "\tNumber of sites in old version: 0\n",
      "\tNumber of sites recapitulated: 0\n",
      "contig GL456211.1\n",
      "\tNumber of sites in old version: 0\n",
      "\tNumber of sites recapitulated: 0\n",
      "contig GL456350.1\n",
      "\tNumber of sites in old version: 0\n",
      "\tNumber of sites recapitulated: 0\n",
      "contig JH584293.1\n",
      "\tNumber of sites in old version: 0\n",
      "\tNumber of sites recapitulated: 0\n",
      "contig JH584297.1\n",
      "\tNumber of sites in old version: 0\n",
      "\tNumber of sites recapitulated: 0\n",
      "contig JH584296.1\n",
      "\tNumber of sites in old version: 0\n",
      "\tNumber of sites recapitulated: 0\n",
      "contig GL456354.1\n",
      "\tNumber of sites in old version: 0\n",
      "\tNumber of sites recapitulated: 0\n",
      "contig JH584298.1\n",
      "\tNumber of sites in old version: 0\n",
      "\tNumber of sites recapitulated: 0\n",
      "contig JH584300.1\n",
      "\tNumber of sites in old version: 0\n",
      "\tNumber of sites recapitulated: 0\n",
      "contig GL456219.1\n",
      "\tNumber of sites in old version: 0\n",
      "\tNumber of sites recapitulated: 0\n",
      "contig JH584303.1\n",
      "\tNumber of sites in old version: 0\n",
      "\tNumber of sites recapitulated: 0\n",
      "contig JH584302.1\n",
      "\tNumber of sites in old version: 0\n",
      "\tNumber of sites recapitulated: 0\n",
      "contig GL456379.1\n",
      "\tNumber of sites in old version: 0\n",
      "\tNumber of sites recapitulated: 0\n",
      "contig GL456393.1\n",
      "\tNumber of sites in old version: 0\n",
      "\tNumber of sites recapitulated: 0\n",
      "contig GL456366.1\n",
      "\tNumber of sites in old version: 0\n",
      "\tNumber of sites recapitulated: 0\n",
      "contig GL456367.1\n",
      "\tNumber of sites in old version: 0\n",
      "\tNumber of sites recapitulated: 0\n",
      "contig GL456239.1\n",
      "\tNumber of sites in old version: 0\n",
      "\tNumber of sites recapitulated: 0\n",
      "contig GL456213.1\n",
      "\tNumber of sites in old version: 0\n",
      "\tNumber of sites recapitulated: 0\n",
      "contig GL456383.1\n",
      "\tNumber of sites in old version: 0\n",
      "\tNumber of sites recapitulated: 0\n",
      "contig GL456385.1\n",
      "\tNumber of sites in old version: 0\n",
      "\tNumber of sites recapitulated: 0\n",
      "contig GL456360.1\n",
      "\tNumber of sites in old version: 0\n",
      "\tNumber of sites recapitulated: 0\n",
      "contig GL456378.1\n",
      "\tNumber of sites in old version: 0\n",
      "\tNumber of sites recapitulated: 0\n",
      "contig GL456389.1\n",
      "\tNumber of sites in old version: 0\n",
      "\tNumber of sites recapitulated: 0\n",
      "contig GL456372.1\n",
      "\tNumber of sites in old version: 0\n",
      "\tNumber of sites recapitulated: 0\n",
      "contig GL456370.1\n",
      "\tNumber of sites in old version: 0\n",
      "\tNumber of sites recapitulated: 0\n",
      "contig GL456381.1\n",
      "\tNumber of sites in old version: 0\n",
      "\tNumber of sites recapitulated: 0\n",
      "contig GL456387.1\n",
      "\tNumber of sites in old version: 0\n",
      "\tNumber of sites recapitulated: 0\n",
      "contig GL456390.1\n",
      "\tNumber of sites in old version: 0\n",
      "\tNumber of sites recapitulated: 0\n",
      "contig GL456394.1\n",
      "\tNumber of sites in old version: 0\n",
      "\tNumber of sites recapitulated: 0\n",
      "contig GL456392.1\n",
      "\tNumber of sites in old version: 0\n",
      "\tNumber of sites recapitulated: 0\n",
      "contig GL456382.1\n",
      "\tNumber of sites in old version: 0\n",
      "\tNumber of sites recapitulated: 0\n",
      "contig GL456359.1\n",
      "\tNumber of sites in old version: 0\n",
      "\tNumber of sites recapitulated: 0\n",
      "contig GL456396.1\n",
      "\tNumber of sites in old version: 0\n",
      "\tNumber of sites recapitulated: 0\n",
      "contig GL456368.1\n",
      "\tNumber of sites in old version: 0\n",
      "\tNumber of sites recapitulated: 0\n",
      "contig JH584292.1\n",
      "\tNumber of sites in old version: 0\n",
      "\tNumber of sites recapitulated: 0\n"
     ]
    }
   ],
   "source": [
    "\n",
    "comparison_vals = []\n",
    "overlapping_by_contig = {}\n",
    "old_for_contig = {}\n",
    "new_for_contig = {}\n",
    "for contig in contigs:\n",
    "    print('contig {}'.format(contig))\n",
    "    example_new_ct_for_contig = example_new_ct[example_new_ct.contig == contig]\n",
    "    example_new_ct_for_contig.index = example_new_ct_for_contig.position\n",
    "\n",
    "    example_old_ct_for_contig = example[example.contig == contig]\n",
    "    example_old_ct_for_contig.index = example_old_ct_for_contig.start\n",
    "\n",
    "    old_for_contig[contig] = example_old_ct_for_contig\n",
    "    new_for_contig[contig] = example_new_ct_for_contig\n",
    "    # Which overlap?\n",
    "    \n",
    "    overlapping = example_old_ct_for_contig.join(example_new_ct_for_contig, rsuffix='_2', how='inner').drop_duplicates(['contig', 'start', 'end', 'score'])\n",
    "    overlapping['old_coverage'] = [int(v.split(',')[1]) for v in overlapping['coverage']]\n",
    "    overlapping_by_contig[contig] = overlapping\n",
    "    print(\"\\tNumber of sites in old version: {}\".format(len(example_old_ct_for_contig)))\n",
    "    print(\"\\tNumber of sites recapitulated: {}\".format(len(overlapping)))\n",
    "    \n",
    "    comparison_vals.append([len(example_old_ct_for_contig), len(overlapping), len(example_new_ct_for_contig)])\n"
   ]
  },
  {
   "cell_type": "markdown",
   "id": "22ba97e6-4a21-4336-9295-a22c0484207a",
   "metadata": {},
   "source": [
    "# Which sites are we recovering?"
   ]
  },
  {
   "cell_type": "code",
   "execution_count": 323,
   "id": "193ebf39-72ff-44e1-95fe-561658c7986b",
   "metadata": {},
   "outputs": [],
   "source": [
    "recapitulation_summary = pd.DataFrame(comparison_vals, index=contigs, columns=['Previous sites', 'Overlapping sites', 'New sites'])"
   ]
  },
  {
   "cell_type": "code",
   "execution_count": 324,
   "id": "3e116853-c7bc-4c7f-888e-77f45f7edfe8",
   "metadata": {},
   "outputs": [
    {
     "data": {
      "text/plain": [
       "Text(0.5, 1.0, 'Sites from old approach recapitulated with new approach')"
      ]
     },
     "execution_count": 324,
     "metadata": {},
     "output_type": "execute_result"
    },
    {
     "data": {
      "image/png": "[encoded data removed]",
      "text/plain": [
       "<Figure size 432x288 with 1 Axes>"
      ]
     },
     "metadata": {
      "needs_background": "light"
     },
     "output_type": "display_data"
    }
   ],
   "source": [
    "recapitulation_summary[['Previous sites', 'Overlapping sites']].head(22).plot(kind='barh')\n",
    "plt.title(\"Sites from old approach recapitulated with new approach\")"
   ]
  },
  {
   "cell_type": "code",
   "execution_count": 325,
   "id": "ef865c7c-46b8-43d4-916c-c9a8e9bc33d4",
   "metadata": {},
   "outputs": [
    {
     "name": "stdout",
     "output_type": "stream",
     "text": [
      "1\n",
      "\tCorrelation between old coverage and new coverage values: 1.0\n",
      "10\n",
      "\tCorrelation between old coverage and new coverage values: 1.0\n",
      "11\n",
      "\tCorrelation between old coverage and new coverage values: 1.0\n",
      "12\n",
      "\tCorrelation between old coverage and new coverage values: 1.0\n",
      "13\n",
      "\tCorrelation between old coverage and new coverage values: 1.0\n",
      "14\n",
      "\tCorrelation between old coverage and new coverage values: 1.0\n",
      "15\n",
      "\tCorrelation between old coverage and new coverage values: 1.0\n",
      "16\n",
      "\tCorrelation between old coverage and new coverage values: 1.0\n",
      "17\n",
      "\tCorrelation between old coverage and new coverage values: 1.0\n",
      "18\n",
      "\tCorrelation between old coverage and new coverage values: nan\n",
      "19\n",
      "\tCorrelation between old coverage and new coverage values: 1.0\n",
      "2\n",
      "\tCorrelation between old coverage and new coverage values: 1.0\n",
      "3\n",
      "\tCorrelation between old coverage and new coverage values: 1.0\n",
      "4\n",
      "\tCorrelation between old coverage and new coverage values: 1.0\n",
      "5\n",
      "\tCorrelation between old coverage and new coverage values: 1.0\n",
      "6\n",
      "\tCorrelation between old coverage and new coverage values: 1.0\n",
      "7\n",
      "\tCorrelation between old coverage and new coverage values: 1.0\n",
      "8\n",
      "\tCorrelation between old coverage and new coverage values: 1.0\n",
      "9\n",
      "\tCorrelation between old coverage and new coverage values: 1.0\n",
      "MT\n",
      "\tCorrelation between old coverage and new coverage values: 1.0\n",
      "X\n",
      "\tCorrelation between old coverage and new coverage values: 1.0\n",
      "Y\n",
      "\tCorrelation between old coverage and new coverage values: nan\n",
      "JH584299.1\n",
      "\tCorrelation between old coverage and new coverage values: nan\n",
      "GL456233.1\n",
      "\tCorrelation between old coverage and new coverage values: nan\n",
      "JH584301.1\n",
      "\tCorrelation between old coverage and new coverage values: nan\n",
      "GL456211.1\n",
      "\tCorrelation between old coverage and new coverage values: nan\n",
      "GL456350.1\n",
      "\tCorrelation between old coverage and new coverage values: nan\n",
      "JH584293.1\n",
      "\tCorrelation between old coverage and new coverage values: nan\n",
      "JH584297.1\n",
      "\tCorrelation between old coverage and new coverage values: nan\n",
      "JH584296.1\n",
      "\tCorrelation between old coverage and new coverage values: nan\n",
      "GL456354.1\n",
      "\tCorrelation between old coverage and new coverage values: nan\n",
      "JH584298.1\n",
      "\tCorrelation between old coverage and new coverage values: nan\n",
      "JH584300.1\n",
      "\tCorrelation between old coverage and new coverage values: nan\n",
      "GL456219.1\n",
      "\tCorrelation between old coverage and new coverage values: nan\n",
      "JH584303.1\n",
      "\tCorrelation between old coverage and new coverage values: nan\n",
      "JH584302.1\n",
      "\tCorrelation between old coverage and new coverage values: nan\n",
      "GL456379.1\n",
      "\tCorrelation between old coverage and new coverage values: nan\n",
      "GL456393.1\n",
      "\tCorrelation between old coverage and new coverage values: nan\n",
      "GL456366.1\n",
      "\tCorrelation between old coverage and new coverage values: nan\n",
      "GL456367.1\n",
      "\tCorrelation between old coverage and new coverage values: nan\n",
      "GL456239.1\n",
      "\tCorrelation between old coverage and new coverage values: nan\n",
      "GL456213.1\n",
      "\tCorrelation between old coverage and new coverage values: nan\n",
      "GL456383.1\n",
      "\tCorrelation between old coverage and new coverage values: nan\n",
      "GL456385.1\n",
      "\tCorrelation between old coverage and new coverage values: nan\n",
      "GL456360.1\n",
      "\tCorrelation between old coverage and new coverage values: nan\n",
      "GL456378.1\n",
      "\tCorrelation between old coverage and new coverage values: nan\n",
      "GL456389.1\n",
      "\tCorrelation between old coverage and new coverage values: nan\n",
      "GL456372.1\n",
      "\tCorrelation between old coverage and new coverage values: nan\n",
      "GL456370.1\n",
      "\tCorrelation between old coverage and new coverage values: nan\n",
      "GL456381.1\n",
      "\tCorrelation between old coverage and new coverage values: nan\n",
      "GL456387.1\n",
      "\tCorrelation between old coverage and new coverage values: nan\n",
      "GL456390.1\n",
      "\tCorrelation between old coverage and new coverage values: nan\n",
      "GL456394.1\n",
      "\tCorrelation between old coverage and new coverage values: nan\n",
      "GL456392.1\n",
      "\tCorrelation between old coverage and new coverage values: nan\n",
      "GL456382.1\n",
      "\tCorrelation between old coverage and new coverage values: nan\n",
      "GL456359.1\n",
      "\tCorrelation between old coverage and new coverage values: nan\n",
      "GL456396.1\n",
      "\tCorrelation between old coverage and new coverage values: nan\n",
      "GL456368.1\n",
      "\tCorrelation between old coverage and new coverage values: nan\n",
      "JH584292.1\n",
      "\tCorrelation between old coverage and new coverage values: nan\n"
     ]
    }
   ],
   "source": [
    "for contig in contigs:\n",
    "    print(contig)\n",
    "    corr = overlapping_by_contig.get(contig)[['old_coverage', 'coverage']].corr().iloc[0].iloc[0]\n",
    "    print('\\tCorrelation between old coverage and new coverage values: {}'.format(corr))"
   ]
  },
  {
   "cell_type": "code",
   "execution_count": null,
   "id": "46bc326f-a695-41f6-bafb-5daf952a4dd8",
   "metadata": {},
   "outputs": [],
   "source": []
  },
  {
   "cell_type": "code",
   "execution_count": null,
   "id": "c71e31ad-c7fb-4c3d-b1f2-84ed484cb525",
   "metadata": {},
   "outputs": [],
   "source": []
  }
 ],
 "metadata": {
  "kernelspec": {
   "display_name": "new_anaconda3",
   "language": "python",
   "name": "new_anaconda3"
  },
  "language_info": {
   "codemirror_mode": {
    "name": "ipython",
    "version": 3
   },
   "file_extension": ".py",
   "mimetype": "text/x-python",
   "name": "python",
   "nbconvert_exporter": "python",
   "pygments_lexer": "ipython3",
   "version": "3.7.4"
  }
 },
 "nbformat": 4,
 "nbformat_minor": 5
}
